{
  "cells": [
    {
      "cell_type": "markdown",
      "metadata": {
        "id": "view-in-github",
        "colab_type": "text"
      },
      "source": [
        "<a href=\"https://colab.research.google.com/github/chuducthang77/Machine-Learning-tutorials-and-notes/blob/main/2_NN.ipynb\" target=\"_parent\"><img src=\"https://colab.research.google.com/assets/colab-badge.svg\" alt=\"Open In Colab\"/></a>"
      ]
    },
    {
      "cell_type": "markdown",
      "metadata": {
        "id": "Kx9wgQSb_TLI"
      },
      "source": [
        "# Problem 1: XOR with Pytorch"
      ]
    },
    {
      "cell_type": "code",
      "execution_count": 1,
      "metadata": {
        "id": "5NeY87bI_QIr"
      },
      "outputs": [],
      "source": [
        "import torch\n",
        "import torch.nn as nn\n",
        "import torch.optim as optim\n",
        "import matplotlib.pyplot as plt\n",
        "import numpy as np"
      ]
    },
    {
      "cell_type": "markdown",
      "source": [
        "## Define constants and hyperparameter"
      ],
      "metadata": {
        "id": "yuCadM3RAE19"
      }
    },
    {
      "cell_type": "code",
      "source": [
        "epochs = 10000"
      ],
      "metadata": {
        "id": "TwO82JH6AIN6"
      },
      "execution_count": 2,
      "outputs": []
    },
    {
      "cell_type": "markdown",
      "source": [
        "## Dataset\n",
        "\n",
        "Create an XOR dataset"
      ],
      "metadata": {
        "id": "u9fSXMPg_kqt"
      }
    },
    {
      "cell_type": "code",
      "execution_count": 3,
      "metadata": {
        "id": "h7l7qv2Z_W4W"
      },
      "outputs": [],
      "source": [
        "# Define the XOR dataset\n",
        "X = torch.tensor([[0, 0], [0, 1], [1, 0], [1, 1]], dtype=torch.float32)\n",
        "y = torch.tensor([[0], [1], [1], [0]], dtype=torch.float32)"
      ]
    },
    {
      "cell_type": "markdown",
      "source": [
        "## Model\n",
        "\n",
        "Create a neural network with 1 hidden layer (2 nodes)."
      ],
      "metadata": {
        "id": "Vy1DgwoU_oTf"
      }
    },
    {
      "cell_type": "code",
      "execution_count": 4,
      "metadata": {
        "id": "l7SEaqVh_X1D"
      },
      "outputs": [],
      "source": [
        "# Define the neural network model\n",
        "class XORModel(nn.Module):\n",
        "    def __init__(self):\n",
        "        super(XORModel, self).__init__()\n",
        "        self.fc1 = nn.Linear(2, 2)  # Input layer to hidden layer\n",
        "        self.fc2 = nn.Linear(2, 1)  # Hidden layer to output layer\n",
        "\n",
        "    def forward(self, x):\n",
        "        x = torch.sigmoid(self.fc1(x))  # Apply sigmoid activation to the hidden layer\n",
        "        x = self.fc2(x)\n",
        "        return x"
      ]
    },
    {
      "cell_type": "code",
      "execution_count": 5,
      "metadata": {
        "id": "grqAuKmm_Z4C"
      },
      "outputs": [],
      "source": [
        "# Instantiate the model\n",
        "model = XORModel()\n",
        "\n",
        "# Define loss and optimizer\n",
        "criterion = nn.MSELoss()\n",
        "optimizer = optim.SGD(model.parameters(), lr=0.1)\n"
      ]
    },
    {
      "cell_type": "markdown",
      "source": [
        "## Training"
      ],
      "metadata": {
        "id": "Mmg8GiED_xfK"
      }
    },
    {
      "cell_type": "code",
      "source": [
        "# Lists to store loss values during training\n",
        "losses = []\n",
        "\n",
        "# Training loop\n",
        "\n",
        "for epoch in range(epochs):\n",
        "    # Forward pass\n",
        "    outputs = model(X)\n",
        "    loss = criterion(outputs, y)\n",
        "\n",
        "    # Backpropagation and optimization\n",
        "    optimizer.zero_grad()\n",
        "    loss.backward()\n",
        "    optimizer.step()\n",
        "\n",
        "    if (epoch + 1) % 1000 == 0:\n",
        "        print(f'Epoch [{epoch + 1}/{epochs}], Loss: {loss.item()}')\n",
        "\n",
        "    losses.append(loss.item())  # Store the loss for plotting"
      ],
      "metadata": {
        "colab": {
          "base_uri": "https://localhost:8080/"
        },
        "id": "RHWyabFd_wHa",
        "outputId": "813929e7-2cec-4ba1-c9a0-da537cc2e986"
      },
      "execution_count": 6,
      "outputs": [
        {
          "output_type": "stream",
          "name": "stdout",
          "text": [
            "Epoch [1000/10000], Loss: 0.2500944137573242\n",
            "Epoch [2000/10000], Loss: 0.2495543360710144\n",
            "Epoch [3000/10000], Loss: 0.24811650812625885\n",
            "Epoch [4000/10000], Loss: 0.23630069196224213\n",
            "Epoch [5000/10000], Loss: 0.014492676593363285\n",
            "Epoch [6000/10000], Loss: 2.5608152043332666e-08\n",
            "Epoch [7000/10000], Loss: 3.983657848039002e-11\n",
            "Epoch [8000/10000], Loss: 3.983657848039002e-11\n",
            "Epoch [9000/10000], Loss: 3.983657848039002e-11\n",
            "Epoch [10000/10000], Loss: 3.983657848039002e-11\n"
          ]
        }
      ]
    },
    {
      "cell_type": "markdown",
      "source": [
        "## Testing:\n",
        "\n",
        "For those 4 points, predicts the label of those 4 points."
      ],
      "metadata": {
        "id": "3QyIGnWC_zJt"
      }
    },
    {
      "cell_type": "code",
      "source": [
        "# Test the trained model\n",
        "with torch.no_grad():\n",
        "    test_input = torch.tensor([[0, 0], [0, 1], [1, 0], [1, 1]], dtype=torch.float32)\n",
        "    predictions = model(test_input)\n",
        "    print(\"Predictions:\")\n",
        "    for i in range(len(test_input)):\n",
        "        print(f\"Input: {test_input[i].tolist()}, Output: {predictions[i].item()}\")"
      ],
      "metadata": {
        "colab": {
          "base_uri": "https://localhost:8080/"
        },
        "id": "fgRsxU8z8YdH",
        "outputId": "8a285360-3295-4933-d97c-552fd3015585"
      },
      "execution_count": 7,
      "outputs": [
        {
          "output_type": "stream",
          "name": "stdout",
          "text": [
            "Predictions:\n",
            "Input: [0.0, 0.0], Output: 8.225440979003906e-06\n",
            "Input: [0.0, 1.0], Output: 0.999993085861206\n",
            "Input: [1.0, 0.0], Output: 0.9999942779541016\n",
            "Input: [1.0, 1.0], Output: 3.337860107421875e-06\n"
          ]
        }
      ]
    },
    {
      "cell_type": "markdown",
      "source": [
        "## Plotting\n",
        "\n",
        "Plot the training loss"
      ],
      "metadata": {
        "id": "gtq0oGIL_0XD"
      }
    },
    {
      "cell_type": "code",
      "execution_count": 8,
      "metadata": {
        "colab": {
          "base_uri": "https://localhost:8080/",
          "height": 487
        },
        "id": "vFYVbfKZ_cMq",
        "outputId": "77f5d72f-f2fa-49fe-d9af-5e48688c643d"
      },
      "outputs": [
        {
          "output_type": "display_data",
          "data": {
            "text/plain": [
              "<Figure size 1000x500 with 1 Axes>"
            ],
            "image/png": "[encoded data removed]"
          },
          "metadata": {}
        }
      ],
      "source": [
        "# Plot the loss curve\n",
        "plt.figure(figsize=(10, 5))\n",
        "plt.plot(range(1, epochs + 1), losses, label='Training Loss')\n",
        "plt.xlabel('Epochs')\n",
        "plt.ylabel('Loss')\n",
        "plt.title('Training Loss Curve')\n",
        "plt.legend()\n",
        "plt.grid(True)\n",
        "plt.show()"
      ]
    },
    {
      "cell_type": "markdown",
      "metadata": {
        "id": "UI_j-ymjBICH"
      },
      "source": [
        "# Problem 2: MNIST with Pytorch"
      ]
    },
    {
      "cell_type": "code",
      "execution_count": 9,
      "metadata": {
        "id": "OlcA9r8Q_d3C"
      },
      "outputs": [],
      "source": [
        "import torch\n",
        "import torch.nn as nn\n",
        "import torch.optim as optim\n",
        "import torchvision\n",
        "import torchvision.transforms as transforms\n",
        "from sklearn.metrics import accuracy_score, recall_score, f1_score\n",
        "import matplotlib.pyplot as plt"
      ]
    },
    {
      "cell_type": "markdown",
      "source": [
        "## Define constants and hyperparameters"
      ],
      "metadata": {
        "id": "9ljdblRi9cMf"
      }
    },
    {
      "cell_type": "code",
      "source": [
        "# Hyperparameters\n",
        "batch_size = 64\n",
        "learning_rate = 0.001\n",
        "num_epochs = 10"
      ],
      "metadata": {
        "id": "mhR9zdJz8gqL"
      },
      "execution_count": 10,
      "outputs": []
    },
    {
      "cell_type": "markdown",
      "source": [
        "## Datasets\n",
        "\n",
        "Create a transformation pipeline (transform an image to scale (0, 1) and normalize). Load MNIST dataset and create dataloader for training and testing set."
      ],
      "metadata": {
        "id": "l1EXF61V9gSj"
      }
    },
    {
      "cell_type": "code",
      "source": [
        "# Data loading and preprocessing\n",
        "transform = transforms.Compose([transforms.ToTensor(), transforms.Normalize((0.5,), (0.5,))])\n",
        "\n",
        "train_dataset = torchvision.datasets.MNIST(root='./data', train=True, transform=transform, download=True)\n",
        "train_loader = torch.utils.data.DataLoader(dataset=train_dataset, batch_size=batch_size, shuffle=True)\n",
        "\n",
        "test_dataset = torchvision.datasets.MNIST(root='./data', train=False, transform=transform, download=True)\n",
        "test_loader = torch.utils.data.DataLoader(dataset=test_dataset, batch_size=batch_size, shuffle=False)"
      ],
      "metadata": {
        "id": "HQQVlY0o8jNb"
      },
      "execution_count": 11,
      "outputs": []
    },
    {
      "cell_type": "markdown",
      "source": [
        "## Model\n",
        "\n",
        "1 hidden layer with 2 nodes"
      ],
      "metadata": {
        "id": "WDfIAz8R90vp"
      }
    },
    {
      "cell_type": "code",
      "source": [
        "# Define the neural network model\n",
        "class Net(nn.Module):\n",
        "    def __init__(self):\n",
        "        super(Net, self).__init__()\n",
        "        self.fc1 = nn.Linear(28*28, 128)\n",
        "        self.relu = nn.ReLU()\n",
        "        self.fc2 = nn.Linear(128, 64)\n",
        "        self.fc3 = nn.Linear(64, 10)\n",
        "\n",
        "    def forward(self, x):\n",
        "        x = x.view(-1, 28*28)  # Flatten the input\n",
        "        x = self.relu(self.fc1(x))\n",
        "        x = self.relu(self.fc2(x))\n",
        "        x = self.fc3(x)\n",
        "        return x"
      ],
      "metadata": {
        "id": "eW3Bw7Qy8l5J"
      },
      "execution_count": 12,
      "outputs": []
    },
    {
      "cell_type": "code",
      "source": [
        "# Initialize model, create loss and optimizer\n",
        "model = Net()\n",
        "criterion = nn.CrossEntropyLoss()\n",
        "optimizer = optim.Adam(model.parameters(), lr=learning_rate)"
      ],
      "metadata": {
        "id": "JCRbHcJw8oby"
      },
      "execution_count": 13,
      "outputs": []
    },
    {
      "cell_type": "markdown",
      "source": [
        "## Training:\n",
        "\n",
        "For each epoch and each batch, we will predict the class of those images. Then we calculate the loss and optimize the weight of the model."
      ],
      "metadata": {
        "id": "Ightt-EF-AqV"
      }
    },
    {
      "cell_type": "code",
      "source": [
        "# Lists to store loss values during training\n",
        "train_losses = []\n",
        "\n",
        "# Training loop\n",
        "for epoch in range(num_epochs):\n",
        "    for i, (images, labels) in enumerate(train_loader):\n",
        "        # Forward pass\n",
        "        outputs = model(images)\n",
        "        loss = criterion(outputs, labels)\n",
        "\n",
        "        # Backward pass and optimization\n",
        "        optimizer.zero_grad()\n",
        "        loss.backward()\n",
        "        optimizer.step()\n",
        "\n",
        "        if (i+1) % 100 == 0:\n",
        "            print(f'Epoch [{epoch+1}/{num_epochs}], Step [{i+1}/{len(train_loader)}], Loss: {loss.item():.4f}')\n",
        "\n",
        "        train_losses.append(loss.item())\n"
      ],
      "metadata": {
        "colab": {
          "base_uri": "https://localhost:8080/"
        },
        "id": "feuj8n-N8rAZ",
        "outputId": "ad0f3093-51e5-4552-8b7c-07abf24aaa87"
      },
      "execution_count": 14,
      "outputs": [
        {
          "output_type": "stream",
          "name": "stdout",
          "text": [
            "Epoch [1/10], Step [100/938], Loss: 0.6398\n",
            "Epoch [1/10], Step [200/938], Loss: 0.1863\n",
            "Epoch [1/10], Step [300/938], Loss: 0.5098\n",
            "Epoch [1/10], Step [400/938], Loss: 0.4638\n",
            "Epoch [1/10], Step [500/938], Loss: 0.5160\n",
            "Epoch [1/10], Step [600/938], Loss: 0.3077\n",
            "Epoch [1/10], Step [700/938], Loss: 0.3368\n",
            "Epoch [1/10], Step [800/938], Loss: 0.2091\n",
            "Epoch [1/10], Step [900/938], Loss: 0.2416\n",
            "Epoch [2/10], Step [100/938], Loss: 0.1214\n",
            "Epoch [2/10], Step [200/938], Loss: 0.1435\n",
            "Epoch [2/10], Step [300/938], Loss: 0.2663\n",
            "Epoch [2/10], Step [400/938], Loss: 0.1534\n",
            "Epoch [2/10], Step [500/938], Loss: 0.1454\n",
            "Epoch [2/10], Step [600/938], Loss: 0.2037\n",
            "Epoch [2/10], Step [700/938], Loss: 0.4734\n",
            "Epoch [2/10], Step [800/938], Loss: 0.1008\n",
            "Epoch [2/10], Step [900/938], Loss: 0.0947\n",
            "Epoch [3/10], Step [100/938], Loss: 0.0780\n",
            "Epoch [3/10], Step [200/938], Loss: 0.1830\n",
            "Epoch [3/10], Step [300/938], Loss: 0.3760\n",
            "Epoch [3/10], Step [400/938], Loss: 0.1469\n",
            "Epoch [3/10], Step [500/938], Loss: 0.1425\n",
            "Epoch [3/10], Step [600/938], Loss: 0.0421\n",
            "Epoch [3/10], Step [700/938], Loss: 0.1128\n",
            "Epoch [3/10], Step [800/938], Loss: 0.1150\n",
            "Epoch [3/10], Step [900/938], Loss: 0.1095\n",
            "Epoch [4/10], Step [100/938], Loss: 0.2581\n",
            "Epoch [4/10], Step [200/938], Loss: 0.1215\n",
            "Epoch [4/10], Step [300/938], Loss: 0.1109\n",
            "Epoch [4/10], Step [400/938], Loss: 0.1522\n",
            "Epoch [4/10], Step [500/938], Loss: 0.1174\n",
            "Epoch [4/10], Step [600/938], Loss: 0.1385\n",
            "Epoch [4/10], Step [700/938], Loss: 0.0890\n",
            "Epoch [4/10], Step [800/938], Loss: 0.0345\n",
            "Epoch [4/10], Step [900/938], Loss: 0.0493\n",
            "Epoch [5/10], Step [100/938], Loss: 0.0801\n",
            "Epoch [5/10], Step [200/938], Loss: 0.0413\n",
            "Epoch [5/10], Step [300/938], Loss: 0.1207\n",
            "Epoch [5/10], Step [400/938], Loss: 0.0487\n",
            "Epoch [5/10], Step [500/938], Loss: 0.1494\n",
            "Epoch [5/10], Step [600/938], Loss: 0.1434\n",
            "Epoch [5/10], Step [700/938], Loss: 0.0990\n",
            "Epoch [5/10], Step [800/938], Loss: 0.0182\n",
            "Epoch [5/10], Step [900/938], Loss: 0.0762\n",
            "Epoch [6/10], Step [100/938], Loss: 0.1007\n",
            "Epoch [6/10], Step [200/938], Loss: 0.1314\n",
            "Epoch [6/10], Step [300/938], Loss: 0.1630\n",
            "Epoch [6/10], Step [400/938], Loss: 0.1363\n",
            "Epoch [6/10], Step [500/938], Loss: 0.0217\n",
            "Epoch [6/10], Step [600/938], Loss: 0.0361\n",
            "Epoch [6/10], Step [700/938], Loss: 0.0695\n",
            "Epoch [6/10], Step [800/938], Loss: 0.0708\n",
            "Epoch [6/10], Step [900/938], Loss: 0.1893\n",
            "Epoch [7/10], Step [100/938], Loss: 0.0731\n",
            "Epoch [7/10], Step [200/938], Loss: 0.0451\n",
            "Epoch [7/10], Step [300/938], Loss: 0.0272\n",
            "Epoch [7/10], Step [400/938], Loss: 0.0647\n",
            "Epoch [7/10], Step [500/938], Loss: 0.1011\n",
            "Epoch [7/10], Step [600/938], Loss: 0.0356\n",
            "Epoch [7/10], Step [700/938], Loss: 0.0161\n",
            "Epoch [7/10], Step [800/938], Loss: 0.1118\n",
            "Epoch [7/10], Step [900/938], Loss: 0.0521\n",
            "Epoch [8/10], Step [100/938], Loss: 0.1448\n",
            "Epoch [8/10], Step [200/938], Loss: 0.0594\n",
            "Epoch [8/10], Step [300/938], Loss: 0.0088\n",
            "Epoch [8/10], Step [400/938], Loss: 0.0992\n",
            "Epoch [8/10], Step [500/938], Loss: 0.0918\n",
            "Epoch [8/10], Step [600/938], Loss: 0.0226\n",
            "Epoch [8/10], Step [700/938], Loss: 0.0592\n",
            "Epoch [8/10], Step [800/938], Loss: 0.1352\n",
            "Epoch [8/10], Step [900/938], Loss: 0.1801\n",
            "Epoch [9/10], Step [100/938], Loss: 0.0796\n",
            "Epoch [9/10], Step [200/938], Loss: 0.0295\n",
            "Epoch [9/10], Step [300/938], Loss: 0.0812\n",
            "Epoch [9/10], Step [400/938], Loss: 0.0456\n",
            "Epoch [9/10], Step [500/938], Loss: 0.0227\n",
            "Epoch [9/10], Step [600/938], Loss: 0.0229\n",
            "Epoch [9/10], Step [700/938], Loss: 0.0366\n",
            "Epoch [9/10], Step [800/938], Loss: 0.0436\n",
            "Epoch [9/10], Step [900/938], Loss: 0.1750\n",
            "Epoch [10/10], Step [100/938], Loss: 0.0279\n",
            "Epoch [10/10], Step [200/938], Loss: 0.0144\n",
            "Epoch [10/10], Step [300/938], Loss: 0.0915\n",
            "Epoch [10/10], Step [400/938], Loss: 0.0402\n",
            "Epoch [10/10], Step [500/938], Loss: 0.1558\n",
            "Epoch [10/10], Step [600/938], Loss: 0.0881\n",
            "Epoch [10/10], Step [700/938], Loss: 0.0408\n",
            "Epoch [10/10], Step [800/938], Loss: 0.0623\n",
            "Epoch [10/10], Step [900/938], Loss: 0.1208\n"
          ]
        }
      ]
    },
    {
      "cell_type": "markdown",
      "source": [
        "## Testing\n",
        "For the test set, use the trained model to predict the label of the image. Then, calculate the accuracy, recall and f1 on the test set."
      ],
      "metadata": {
        "id": "uDE3HBbd-lD8"
      }
    },
    {
      "cell_type": "code",
      "source": [
        "# Test the model\n",
        "y_true = []\n",
        "y_pred = []\n",
        "\n",
        "with torch.no_grad():\n",
        "    for images, labels in test_loader:\n",
        "        outputs = model(images)\n",
        "        _, predicted = torch.max(outputs.data, 1)\n",
        "        y_true.extend(labels.numpy())\n",
        "        y_pred.extend(predicted.numpy())"
      ],
      "metadata": {
        "id": "MaNSu5aL-nhp"
      },
      "execution_count": 15,
      "outputs": []
    },
    {
      "cell_type": "code",
      "source": [
        "# Calculate accuracy, recall, and F1-score\n",
        "accuracy = accuracy_score(y_true, y_pred)\n",
        "recall = recall_score(y_true, y_pred, average='weighted')\n",
        "f1 = f1_score(y_true, y_pred, average='weighted')\n",
        "\n",
        "print(f'Accuracy on the test set: {accuracy:.4f}')\n",
        "print(f'Recall on the test set: {recall:.4f}')\n",
        "print(f'F1-score on the test set: {f1:.4f}')"
      ],
      "metadata": {
        "colab": {
          "base_uri": "https://localhost:8080/"
        },
        "id": "Nr7f7VPe8syK",
        "outputId": "f0dc0775-9afe-4889-96da-cad669a53845"
      },
      "execution_count": 16,
      "outputs": [
        {
          "output_type": "stream",
          "name": "stdout",
          "text": [
            "Accuracy on the test set: 0.9768\n",
            "Recall on the test set: 0.9768\n",
            "F1-score on the test set: 0.9768\n"
          ]
        }
      ]
    },
    {
      "cell_type": "markdown",
      "source": [
        "## Plotting\n",
        "\n",
        "Plot the training loss for each iteration."
      ],
      "metadata": {
        "id": "zJLCsJjt_PQY"
      }
    },
    {
      "cell_type": "code",
      "source": [
        "# Plot the loss curve\n",
        "plt.figure(figsize=(10, 5))\n",
        "plt.plot(range(len(train_losses)), train_losses, label='Training Loss')\n",
        "plt.xlabel('Iterations')\n",
        "plt.ylabel('Loss')\n",
        "plt.legend()\n",
        "plt.grid(True)\n",
        "plt.title('Training Loss Curve')\n",
        "plt.show()"
      ],
      "metadata": {
        "colab": {
          "base_uri": "https://localhost:8080/",
          "height": 487
        },
        "id": "dijDOlK_8tzy",
        "outputId": "e4c30e36-3c31-4b95-d179-e7cf617d845b"
      },
      "execution_count": 17,
      "outputs": [
        {
          "output_type": "display_data",
          "data": {
            "text/plain": [
              "<Figure size 1000x500 with 1 Axes>"
            ],
            "image/png": "[encoded data removed]"
          },
          "metadata": {}
        }
      ]
    },
    {
      "cell_type": "markdown",
      "metadata": {
        "id": "_Fg4fC31GumH"
      },
      "source": [
        "# Problem 3: Exponential function in softmax:\n",
        "- Comes from the formulation of multinomial classification\n",
        "- Related concept: Maximum likelihood, Exponential family distribution, multinomial distribution\n",
        "- Other acceptable answer: non-negative output, normalization, numerical stabilization, easy derivation.\n",
        "\n",
        "Refer to this [link](http://www2.stat.duke.edu/~sayan/Sta613/2018/lec/lec_jan24.pdf) or this [link](https://www.cs.princeton.edu/courses/archive/spr09/cos513/scribe/lecture11.pdf) if the explanation is still unclear.\n",
        "\n",
        "[Youtube link](https://www.youtube.com/watch?v=eo7iEU-yc1g&ab_channel=statisticsmatt) also has a good explanation"
      ]
    }
  ],
  "metadata": {
    "colab": {
      "provenance": [],
      "authorship_tag": "ABX9TyNXbD1HkH8xtmSOSyoy2gDJ",
      "include_colab_link": true
    },
    "kernelspec": {
      "display_name": "Python 3",
      "name": "python3"
    },
    "language_info": {
      "name": "python"
    }
  },
  "nbformat": 4,
  "nbformat_minor": 0
}