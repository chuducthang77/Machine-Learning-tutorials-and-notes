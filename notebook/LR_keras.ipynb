{
  "nbformat": 4,
  "nbformat_minor": 0,
  "metadata": {
    "colab": {
      "name": "Hw1",
      "provenance": [],
      "collapsed_sections": [],
      "mount_file_id": "1k_vW84_xAP0-teKOXQ6nPmvKPX6c9p3X",
      "authorship_tag": "ABX9TyNda5limfGzBHLY1+hvo9Sw",
      "include_colab_link": true
    },
    "kernelspec": {
      "name": "python3",
      "display_name": "Python 3"
    },
    "language_info": {
      "name": "python"
    }
  },
  "cells": [
    {
      "cell_type": "markdown",
      "metadata": {
        "id": "view-in-github",
        "colab_type": "text"
      },
      "source": [
        "<a href=\"https://colab.research.google.com/github/thangchu77/DeepLearning/blob/main/Hw1.ipynb\" target=\"_parent\"><img src=\"https://colab.research.google.com/assets/colab-badge.svg\" alt=\"Open In Colab\"/></a>"
      ]
    },
    {
      "cell_type": "markdown",
      "metadata": {
        "id": "-ytqkblv3NoE"
      },
      "source": [
        "# Question 1: Implementation of Gradient Descent and apply to find the price of the house in linear dataset"
      ]
    },
    {
      "cell_type": "code",
      "metadata": {
        "id": "9Ds5eJGH43AK"
      },
      "source": [
        "import pandas as pd\n",
        "import numpy as np\n",
        "from matplotlib import pyplot as plt"
      ],
      "execution_count": 1,
      "outputs": []
    },
    {
      "cell_type": "code",
      "metadata": {
        "id": "7BZt1LOx7BJn"
      },
      "source": [
        "#Implementation of gradient descent algorithm\n",
        "def GD(Xtrain, Ytrain, epochs, lr):\n",
        "  weights = np.zeros((Xtrain.shape[1],1))\n",
        "  cost = np.zeros((epochs, 1))\n",
        "  for i in range(epochs):\n",
        "    r = np.dot(Xtrain, weights) - Ytrain\n",
        "    cost[i] = 0.5*np.sum(np.square(r))\n",
        "\n",
        "    gradient = np.dot(Xtrain.T, r)\n",
        "    weights -= lr * gradient\n",
        "\n",
        "  return weights, cost\n"
      ],
      "execution_count": 30,
      "outputs": []
    },
    {
      "cell_type": "code",
      "metadata": {
        "id": "mCp_ZdhEk1dn"
      },
      "source": [
        "#Preprocess the data: Mounting, convert data frame to np array, etc.\n",
        "data = pd.read_csv('/content/drive/MyDrive/Machine Learning/2. Linear regression/data_linear.csv')\n",
        "X = data.iloc[:, 0].to_numpy().reshape(-1,1)\n",
        "preX = X\n",
        "Y = data.iloc[:, 1].to_numpy().reshape(-1,1)\n",
        "X = np.hstack((np.ones((X.shape[0],1)), X))"
      ],
      "execution_count": 29,
      "outputs": []
    },
    {
      "cell_type": "code",
      "metadata": {
        "id": "r0CtxKA-6CTS",
        "colab": {
          "base_uri": "https://localhost:8080/",
          "height": 276
        },
        "outputId": "1fea87cb-d3ce-4494-a7a8-1a403f4f1d9c"
      },
      "source": [
        "#For each learning rate, plot the cost \n",
        "lr = [0.00000001, 0.000001, 0.00001]\n",
        "epochs = 500\n",
        "for learning_rate in lr:\n",
        "  weights, cost = GD(X, Y, epochs, learning_rate)\n",
        "  plt.plot(cost)"
      ],
      "execution_count": 37,
      "outputs": [
        {
          "output_type": "display_data",
          "data": {
            "image/png": "[encoded data removed]",
            "text/plain": [
              "<Figure size 432x288 with 1 Axes>"
            ]
          },
          "metadata": {
            "tags": [],
            "needs_background": "light"
          }
        }
      ]
    },
    {
      "cell_type": "code",
      "metadata": {
        "colab": {
          "base_uri": "https://localhost:8080/",
          "height": 282
        },
        "id": "wyP0TqvP2XS-",
        "outputId": "eb395a48-d4b3-4116-ba2d-9664077ef18d"
      },
      "source": [
        "#Plot the predictions\n",
        "predictions = np.dot(X, weights)\n",
        "plt.plot(preX, predictions, c='r')\n",
        "plt.scatter(preX, Y)"
      ],
      "execution_count": 35,
      "outputs": [
        {
          "output_type": "execute_result",
          "data": {
            "text/plain": [
              "<matplotlib.collections.PathCollection at 0x7f9e22cf3190>"
            ]
          },
          "metadata": {
            "tags": []
          },
          "execution_count": 35
        },
        {
          "output_type": "display_data",
          "data": {
            "image/png": "[encoded data removed]",
            "text/plain": [
              "<Figure size 432x288 with 1 Axes>"
            ]
          },
          "metadata": {
            "tags": [],
            "needs_background": "light"
          }
        }
      ]
    },
    {
      "cell_type": "code",
      "metadata": {
        "id": "OkFnPj9H1hVT"
      },
      "source": [
        "#With new input data, calculate the output price\n",
        "#Notice that the gradient is large due to new_data is randomly generated\n",
        "new_data = np.random.rand(1,2)\n",
        "new_X = new_data[:,0].reshape(-1,1)\n",
        "new_Y = new_data[:,1].reshape(-1,1)\n",
        "new_X = np.hstack((np.ones((new_X.shape[0],1)), new_X))\n",
        "\n",
        "new_prediction = np.dot(new_X, weights)\n",
        "r = new_prediction - new_Y\n",
        "error = 0.5*(r)**2\n",
        "\n",
        "gradient = np.dot(new_X.T, r)\n"
      ],
      "execution_count": 38,
      "outputs": []
    },
    {
      "cell_type": "markdown",
      "metadata": {
        "id": "H0U4FU_z4kWT"
      },
      "source": [
        "# Question 2: Try to apply polynomial regression and find the most fitted curve"
      ]
    },
    {
      "cell_type": "code",
      "metadata": {
        "id": "Eue6dos6qBEW",
        "colab": {
          "base_uri": "https://localhost:8080/",
          "height": 282
        },
        "outputId": "b2a67f86-2f11-4639-ab68-9ef53c40e025"
      },
      "source": [
        "#Given the dataset of the parabola, how to fit the linear regression model\n",
        "squaredata = pd.read_csv('/content/drive/MyDrive/Machine Learning/2. Linear regression/data_square.csv').values\n",
        "Xsquare = squaredata[:,:1].reshape(-1,1)\n",
        "Ysquare = squaredata[:,1].reshape(-1,1)\n",
        "plt.scatter(Xsquare, Ysquare)\n",
        "print(Xsquare.shape)"
      ],
      "execution_count": 54,
      "outputs": [
        {
          "output_type": "stream",
          "text": [
            "(30, 1)\n"
          ],
          "name": "stdout"
        },
        {
          "output_type": "display_data",
          "data": {
            "image/png": "[encoded data removed]",
            "text/plain": [
              "<Figure size 432x288 with 1 Axes>"
            ]
          },
          "metadata": {
            "tags": [],
            "needs_background": "light"
          }
        }
      ]
    },
    {
      "cell_type": "code",
      "metadata": {
        "id": "7mylP_T6ixuL"
      },
      "source": [
        "squaredata = pd.read_csv('/content/drive/MyDrive/Machine Learning/2. Linear regression/data_square.csv').values\n",
        "N = squaredata.shape[0]\n",
        "col = squaredata.shape[1]\n",
        "x1 = squaredata[:,:-1].reshape(-1,col-1)\n",
        "x2 = x1*x1\n",
        "one_col = np.ones(N).reshape(-1,1)\n",
        "Y = squaredata[:,-1].reshape(-1,1)\n",
        "Y1 = squaredata[:,-1].reshape(-1,1)\n",
        "\n",
        "coefficient = Y.max()\n",
        "coefficient1 = [np.mean(Y1), np.std(Y1)]\n",
        "X = np.concatenate((one_col, x1, x2), axis=1)\n",
        "X1 = np.concatenate((one_col, x1, x2), axis=1)\n",
        "#Method 1: Divide by the max\n",
        "X[:,1] = X[:,1]/np.max(X[:,1])\n",
        "X[:,2] = X[:,2]/np.max(X[:,2])\n",
        "Y = Y/np.max(Y)\n",
        "#Method 2: Standardize\n",
        "X1[:,1] = (X1[:,1] - np.mean(X1[:,1]))/np.std(X1[:,1])\n",
        "X1[:,2] = (X1[:,2] - np.mean(X1[:,2]))/np.std(X1[:,2])\n",
        "Y1 = (Y1 - np.mean(Y1))/np.std(Y1)\n"
      ],
      "execution_count": 55,
      "outputs": []
    },
    {
      "cell_type": "code",
      "metadata": {
        "id": "-PK5kPhUxuJW"
      },
      "source": [
        "#Obtain the weight and square cost\n",
        "epochs = 10000\n",
        "lr = 0.01\n",
        "squareweight, squarecost = GD(X, Y, epochs, lr)\n",
        "squareweight1, squarecost1 = GD(X1, Y1, epochs, lr)\n"
      ],
      "execution_count": 56,
      "outputs": []
    },
    {
      "cell_type": "code",
      "metadata": {
        "colab": {
          "base_uri": "https://localhost:8080/",
          "height": 282
        },
        "id": "VDCKdEpsyeb8",
        "outputId": "6c04293a-3044-457d-fd96-9495af7ab020"
      },
      "source": [
        "#Plot the cost\n",
        "plt.plot(squarecost)\n",
        "plt.plot(squarecost1, c='r')"
      ],
      "execution_count": 57,
      "outputs": [
        {
          "output_type": "execute_result",
          "data": {
            "text/plain": [
              "[<matplotlib.lines.Line2D at 0x7f9e22856050>]"
            ]
          },
          "metadata": {
            "tags": []
          },
          "execution_count": 57
        },
        {
          "output_type": "display_data",
          "data": {
            "image/png": "[encoded data removed]",
            "text/plain": [
              "<Figure size 432x288 with 1 Axes>"
            ]
          },
          "metadata": {
            "tags": [],
            "needs_background": "light"
          }
        }
      ]
    },
    {
      "cell_type": "code",
      "metadata": {
        "colab": {
          "base_uri": "https://localhost:8080/"
        },
        "id": "5m_19Bwgys4A",
        "outputId": "5cfcfd7a-f0e9-4b7e-8f47-1ac6d082ea32"
      },
      "source": [
        "#Print the obtained weight\n",
        "print(squareweight)\n",
        "print(squareweight1)"
      ],
      "execution_count": 58,
      "outputs": [
        {
          "output_type": "stream",
          "text": [
            "[[ 0.66985769]\n",
            " [-3.88758872]\n",
            " [ 4.15670837]]\n",
            "[[ 2.65008501e-15]\n",
            " [-2.83066116e+00]\n",
            " [ 3.71755609e+00]]\n"
          ],
          "name": "stdout"
        }
      ]
    },
    {
      "cell_type": "code",
      "metadata": {
        "colab": {
          "base_uri": "https://localhost:8080/",
          "height": 282
        },
        "id": "291CVDvJy90X",
        "outputId": "22e501e4-7775-4b90-87bb-ba87ccd3580c"
      },
      "source": [
        "#Plot the curve\n",
        "newY = np.dot(X, squareweight)*coefficient\n",
        "newY1 = np.dot(X, squareweight)*coefficient1[1] + coefficient1[0]\n",
        "plt.scatter(Xsquare, Ysquare)\n",
        "plt.plot(Xsquare, newY)\n",
        "#plt.plot(Xsquare, newY1, c='r')"
      ],
      "execution_count": 60,
      "outputs": [
        {
          "output_type": "execute_result",
          "data": {
            "text/plain": [
              "[<matplotlib.lines.Line2D at 0x7f9e227bc550>]"
            ]
          },
          "metadata": {
            "tags": []
          },
          "execution_count": 60
        },
        {
          "output_type": "display_data",
          "data": {
            "image/png": "[encoded data removed]",
            "text/plain": [
              "<Figure size 432x288 with 1 Axes>"
            ]
          },
          "metadata": {
            "tags": [],
            "needs_background": "light"
          }
        }
      ]
    },
    {
      "cell_type": "markdown",
      "metadata": {
        "id": "TkC__TM44syn"
      },
      "source": [
        "# Question 3: Prove the formula of the gradient = $X^T(XW - Y)$"
      ]
    },
    {
      "cell_type": "markdown",
      "metadata": {
        "id": "auQw91X-62sO"
      },
      "source": [
        "Prove the following \n",
        "\n",
        "Suppose $J$ denotes as loss function for gradient descent, prove that\n",
        "\n",
        "> $\\frac{dJ}{dw} = X^T(XW - Y)$ \n",
        "> Without the loss of generality, notice that $\\frac{dJ}{dw} = \\begin{bmatrix} \\sum_{i=1}^n (x_i\\dot w - y_i) \\\\ \\sum_{i=1}^n (x_i\\dot w - y_i)x_i \\end{bmatrix}$ = $\\begin{bmatrix} x_1 ... x_n \\end{bmatrix}$ \n",
        "X = $\\begin{bmatrix} 1 & x_1 \\\\ 1 & x_2 \\\\ ... & ... \\\\ 1 & x_n\\end{bmatrix}$, \n",
        "$X^T$ = $\\begin{bmatrix}1 & 1 & ... & 1 \\\\ x_1 & x_2 & ... & x_n\\end{bmatrix}$, W = $\\begin{bmatrix}w_0 \\\\ w_1\\end{bmatrix}$, Y = $\\begin{bmatrix}y_1 \\\\ y_2 \\\\ ... \\\\ y_n \\end{bmatrix}$\n",
        "\n",
        "XW - Y = $\\begin{bmatrix} w_0 + x_1\\dot w_1 - y_1 \\\\ w_0 + x_2\\dot w_1 - y_2 \\\\ ... \\\\ w_0 + x_n\\dot w_1 - y_n \\end{bmatrix}$\n",
        "$X^T(XW - Y)$ = $\\begin{bmatrix}1 & 1 & ... & 1 \\\\ x_1 & x_2 & ... & x_n\\end{bmatrix}\\begin{bmatrix} w_0 + x_1\\dot w_1 - y_1 \\\\ w_0 + x_2\\dot w_1 - y_2 \\\\ ... \\\\ w_0 + x_n\\dot w_1 - y_n \\end{bmatrix}$ = $\\begin{bmatrix} \\sum_{i=1}^n (x_i\\dot w - y_i) \\\\ \\sum_{i=1}^n (x_i\\dot w - y_i)x_i \\end{bmatrix}$\n",
        "\n",
        "\n",
        "\n",
        "\n",
        "\n",
        "\n",
        "\n"
      ]
    }
  ]
}