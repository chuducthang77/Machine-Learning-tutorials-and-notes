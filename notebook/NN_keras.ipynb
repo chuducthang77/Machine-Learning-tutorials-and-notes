{
  "nbformat": 4,
  "nbformat_minor": 0,
  "metadata": {
    "colab": {
      "name": "Neural Net.ipynb",
      "provenance": [],
      "collapsed_sections": [],
      "authorship_tag": "ABX9TyOFi+ANZWMlNtkfyZMUy52y",
      "include_colab_link": true
    },
    "kernelspec": {
      "name": "python3",
      "display_name": "Python 3"
    },
    "language_info": {
      "name": "python"
    }
  },
  "cells": [
    {
      "cell_type": "markdown",
      "metadata": {
        "id": "view-in-github",
        "colab_type": "text"
      },
      "source": [
        "<a href=\"https://colab.research.google.com/github/thangchu77/DeepLearning/blob/main/Neural_Net.ipynb\" target=\"_parent\"><img src=\"https://colab.research.google.com/assets/colab-badge.svg\" alt=\"Open In Colab\"/></a>"
      ]
    },
    {
      "cell_type": "markdown",
      "metadata": {
        "id": "MGmVT3L5zprk"
      },
      "source": [
        "# Problem 1: Classify the handwritten image from MNIST datset"
      ]
    },
    {
      "cell_type": "code",
      "metadata": {
        "id": "dxkxc2GO1ft0"
      },
      "source": [
        "import keras\n",
        "from keras.datasets import mnist\n",
        "from keras.models import Sequential\n",
        "from keras.layers import Dense, Dropout, Flatten\n",
        "from keras.optimizers import SGD\n",
        "from keras import backend as K"
      ],
      "execution_count": null,
      "outputs": []
    },
    {
      "cell_type": "code",
      "metadata": {
        "id": "AljcF5bc1hrT"
      },
      "source": [
        "batch_size = 128\n",
        "num_classes = 10\n",
        "epochs = 30"
      ],
      "execution_count": null,
      "outputs": []
    },
    {
      "cell_type": "code",
      "metadata": {
        "colab": {
          "base_uri": "https://localhost:8080/"
        },
        "id": "rBbcNEHC1jQw",
        "outputId": "2388fa0b-8f7b-4595-f445-fab58c690d28"
      },
      "source": [
        "# input image dimensions\n",
        "img_rows, img_cols = 28, 28\n",
        "\n",
        "# the data, split between train and test sets\n",
        "(x_train, y_train), (x_test, y_test) = mnist.load_data()"
      ],
      "execution_count": null,
      "outputs": [
        {
          "output_type": "stream",
          "text": [
            "Downloading data from https://storage.googleapis.com/tensorflow/tf-keras-datasets/mnist.npz\n",
            "11493376/11490434 [==============================] - 0s 0us/step\n"
          ],
          "name": "stdout"
        }
      ]
    },
    {
      "cell_type": "code",
      "metadata": {
        "colab": {
          "base_uri": "https://localhost:8080/"
        },
        "id": "_lwPSmie1kdE",
        "outputId": "c98c98d8-f8fa-4f29-ba5d-a46331516ba2"
      },
      "source": [
        "x_train[0].shape, y_test[0]"
      ],
      "execution_count": null,
      "outputs": [
        {
          "output_type": "execute_result",
          "data": {
            "text/plain": [
              "((28, 28), 7)"
            ]
          },
          "metadata": {
            "tags": []
          },
          "execution_count": 30
        }
      ]
    },
    {
      "cell_type": "code",
      "metadata": {
        "colab": {
          "base_uri": "https://localhost:8080/"
        },
        "id": "l6SfjK021lVd",
        "outputId": "631c1051-2c0a-47fa-b4ec-cfd305e592c2"
      },
      "source": [
        "print(x_train.shape)"
      ],
      "execution_count": null,
      "outputs": [
        {
          "output_type": "stream",
          "text": [
            "(60000, 28, 28)\n"
          ],
          "name": "stdout"
        }
      ]
    },
    {
      "cell_type": "code",
      "metadata": {
        "colab": {
          "base_uri": "https://localhost:8080/"
        },
        "id": "yVuOjSCH1lWT",
        "outputId": "3fa81413-e4fd-4497-890a-930a4b29eaac"
      },
      "source": [
        "x_train = x_train.reshape(-1, 784)\n",
        "x_test = x_test.reshape(-1, 784)\n",
        "x_train = x_train.astype('float32')\n",
        "x_test = x_test.astype('float32')\n",
        "# normalize (0-1)\n",
        "x_train /= 255\n",
        "x_test /= 255\n",
        "print(x_train.shape[0], 'train samples')\n",
        "print(x_test.shape[0], 'test samples')"
      ],
      "execution_count": null,
      "outputs": [
        {
          "output_type": "stream",
          "text": [
            "60000 train samples\n",
            "10000 test samples\n"
          ],
          "name": "stdout"
        }
      ]
    },
    {
      "cell_type": "code",
      "metadata": {
        "colab": {
          "base_uri": "https://localhost:8080/"
        },
        "id": "o6Qf0qRn1nlE",
        "outputId": "7f2644fe-fddc-4c1d-d8cd-09f5242de99f"
      },
      "source": [
        "# convert class vectors to binary class matrices\n",
        "print(y_train[0])\n",
        "y_train = keras.utils.to_categorical(y_train, num_classes)\n",
        "y_test = keras.utils.to_categorical(y_test, num_classes)\n",
        "print(y_train[0])"
      ],
      "execution_count": null,
      "outputs": [
        {
          "output_type": "stream",
          "text": [
            "5\n",
            "[0. 0. 0. 0. 0. 1. 0. 0. 0. 0.]\n"
          ],
          "name": "stdout"
        }
      ]
    },
    {
      "cell_type": "code",
      "metadata": {
        "colab": {
          "base_uri": "https://localhost:8080/"
        },
        "id": "xItqxMXk1pE2",
        "outputId": "1f5aaa73-0b63-43f1-aa43-0ff49ff568e4"
      },
      "source": [
        "model = Sequential()\n",
        "# input_shape\n",
        "model.add(Dense(512, activation='relu', input_shape=(784,)))\n",
        "model.add(Dense(128, activation='relu'))\n",
        "model.add(Dense(32, activation='relu'))\n",
        "model.add(Dense(num_classes, activation='softmax'))\n",
        "\n",
        "model.summary()"
      ],
      "execution_count": null,
      "outputs": [
        {
          "output_type": "stream",
          "text": [
            "Model: \"sequential_7\"\n",
            "_________________________________________________________________\n",
            "Layer (type)                 Output Shape              Param #   \n",
            "=================================================================\n",
            "dense_25 (Dense)             (None, 512)               401920    \n",
            "_________________________________________________________________\n",
            "dense_26 (Dense)             (None, 128)               65664     \n",
            "_________________________________________________________________\n",
            "dense_27 (Dense)             (None, 32)                4128      \n",
            "_________________________________________________________________\n",
            "dense_28 (Dense)             (None, 10)                330       \n",
            "=================================================================\n",
            "Total params: 472,042\n",
            "Trainable params: 472,042\n",
            "Non-trainable params: 0\n",
            "_________________________________________________________________\n"
          ],
          "name": "stdout"
        }
      ]
    },
    {
      "cell_type": "code",
      "metadata": {
        "id": "3qRcVt8E4M-c"
      },
      "source": [
        "#Create a different optimizer with different learning rate\n",
        "optimizer = keras.optimizers.Adam(lr=0.01)"
      ],
      "execution_count": null,
      "outputs": []
    },
    {
      "cell_type": "code",
      "metadata": {
        "id": "8IPC9yUs1pFp"
      },
      "source": [
        "model.compile(loss='categorical_crossentropy',\n",
        "              optimizer=optimizer, \n",
        "              metrics=['accuracy'])"
      ],
      "execution_count": null,
      "outputs": []
    },
    {
      "cell_type": "code",
      "metadata": {
        "colab": {
          "base_uri": "https://localhost:8080/"
        },
        "id": "MQEIpgai1rcn",
        "outputId": "1bd7aa08-57ea-4cb9-fbff-55341305d214"
      },
      "source": [
        "H = model.fit(x_train, y_train,\n",
        "          batch_size=batch_size,\n",
        "          epochs=epochs,\n",
        "          verbose=1,\n",
        "          validation_data=(x_test, y_test))"
      ],
      "execution_count": null,
      "outputs": [
        {
          "output_type": "stream",
          "text": [
            "Epoch 1/30\n",
            "469/469 [==============================] - 5s 10ms/step - loss: 0.5015 - accuracy: 0.8349 - val_loss: 0.1492 - val_accuracy: 0.9577\n",
            "Epoch 2/30\n",
            "469/469 [==============================] - 5s 10ms/step - loss: 0.1234 - accuracy: 0.9650 - val_loss: 0.1209 - val_accuracy: 0.9665\n",
            "Epoch 3/30\n",
            "469/469 [==============================] - 5s 10ms/step - loss: 0.0914 - accuracy: 0.9735 - val_loss: 0.1111 - val_accuracy: 0.9693\n",
            "Epoch 4/30\n",
            "469/469 [==============================] - 5s 10ms/step - loss: 0.0776 - accuracy: 0.9774 - val_loss: 0.1236 - val_accuracy: 0.9691\n",
            "Epoch 5/30\n",
            "469/469 [==============================] - 5s 10ms/step - loss: 0.0676 - accuracy: 0.9804 - val_loss: 0.1173 - val_accuracy: 0.9712\n",
            "Epoch 6/30\n",
            "469/469 [==============================] - 5s 10ms/step - loss: 0.0658 - accuracy: 0.9820 - val_loss: 0.1183 - val_accuracy: 0.9723\n",
            "Epoch 7/30\n",
            "469/469 [==============================] - 5s 10ms/step - loss: 0.0581 - accuracy: 0.9841 - val_loss: 0.1053 - val_accuracy: 0.9743\n",
            "Epoch 8/30\n",
            "469/469 [==============================] - 5s 10ms/step - loss: 0.0542 - accuracy: 0.9850 - val_loss: 0.1404 - val_accuracy: 0.9700\n",
            "Epoch 9/30\n",
            "469/469 [==============================] - 5s 10ms/step - loss: 0.0570 - accuracy: 0.9850 - val_loss: 0.1123 - val_accuracy: 0.9754\n",
            "Epoch 10/30\n",
            "469/469 [==============================] - 5s 10ms/step - loss: 0.0491 - accuracy: 0.9869 - val_loss: 0.1338 - val_accuracy: 0.9735\n",
            "Epoch 11/30\n",
            "469/469 [==============================] - 5s 10ms/step - loss: 0.0466 - accuracy: 0.9877 - val_loss: 0.1397 - val_accuracy: 0.9734\n",
            "Epoch 12/30\n",
            "469/469 [==============================] - 5s 10ms/step - loss: 0.0436 - accuracy: 0.9879 - val_loss: 0.1444 - val_accuracy: 0.9718\n",
            "Epoch 13/30\n",
            "469/469 [==============================] - 5s 10ms/step - loss: 0.0506 - accuracy: 0.9864 - val_loss: 0.1487 - val_accuracy: 0.9728\n",
            "Epoch 14/30\n",
            "469/469 [==============================] - 5s 10ms/step - loss: 0.0521 - accuracy: 0.9877 - val_loss: 0.1482 - val_accuracy: 0.9714\n",
            "Epoch 15/30\n",
            "469/469 [==============================] - 5s 10ms/step - loss: 0.0403 - accuracy: 0.9892 - val_loss: 0.1073 - val_accuracy: 0.9780\n",
            "Epoch 16/30\n",
            "469/469 [==============================] - 5s 10ms/step - loss: 0.0311 - accuracy: 0.9922 - val_loss: 0.1199 - val_accuracy: 0.9769\n",
            "Epoch 17/30\n",
            "469/469 [==============================] - 5s 10ms/step - loss: 0.0362 - accuracy: 0.9903 - val_loss: 0.1761 - val_accuracy: 0.9763\n",
            "Epoch 18/30\n",
            "469/469 [==============================] - 5s 10ms/step - loss: 0.0441 - accuracy: 0.9904 - val_loss: 0.1697 - val_accuracy: 0.9724\n",
            "Epoch 19/30\n",
            "469/469 [==============================] - 5s 10ms/step - loss: 0.0470 - accuracy: 0.9896 - val_loss: 0.1401 - val_accuracy: 0.9786\n",
            "Epoch 20/30\n",
            "469/469 [==============================] - 4s 10ms/step - loss: 0.0358 - accuracy: 0.9916 - val_loss: 0.1366 - val_accuracy: 0.9796\n",
            "Epoch 21/30\n",
            "469/469 [==============================] - 5s 10ms/step - loss: 0.0276 - accuracy: 0.9934 - val_loss: 0.1288 - val_accuracy: 0.9766\n",
            "Epoch 22/30\n",
            "469/469 [==============================] - 5s 10ms/step - loss: 0.0317 - accuracy: 0.9925 - val_loss: 0.1386 - val_accuracy: 0.9791\n",
            "Epoch 23/30\n",
            "469/469 [==============================] - 5s 10ms/step - loss: 0.0384 - accuracy: 0.9914 - val_loss: 0.1416 - val_accuracy: 0.9761\n",
            "Epoch 24/30\n",
            "469/469 [==============================] - 5s 10ms/step - loss: 0.0256 - accuracy: 0.9940 - val_loss: 0.1616 - val_accuracy: 0.9747\n",
            "Epoch 25/30\n",
            "469/469 [==============================] - 5s 10ms/step - loss: 0.0286 - accuracy: 0.9934 - val_loss: 0.1727 - val_accuracy: 0.9740\n",
            "Epoch 26/30\n",
            "469/469 [==============================] - 5s 10ms/step - loss: 0.0292 - accuracy: 0.9940 - val_loss: 0.2423 - val_accuracy: 0.9736\n",
            "Epoch 27/30\n",
            "469/469 [==============================] - 5s 10ms/step - loss: 0.0351 - accuracy: 0.9929 - val_loss: 0.1845 - val_accuracy: 0.9764\n",
            "Epoch 28/30\n",
            "469/469 [==============================] - 5s 10ms/step - loss: 0.0317 - accuracy: 0.9929 - val_loss: 0.1599 - val_accuracy: 0.9788\n",
            "Epoch 29/30\n",
            "469/469 [==============================] - 5s 10ms/step - loss: 0.0299 - accuracy: 0.9936 - val_loss: 0.1407 - val_accuracy: 0.9796\n",
            "Epoch 30/30\n",
            "469/469 [==============================] - 5s 10ms/step - loss: 0.0218 - accuracy: 0.9948 - val_loss: 0.1796 - val_accuracy: 0.9753\n"
          ],
          "name": "stdout"
        }
      ]
    },
    {
      "cell_type": "code",
      "metadata": {
        "colab": {
          "base_uri": "https://localhost:8080/"
        },
        "id": "qHypgcxw1sOv",
        "outputId": "c5dba088-9efa-4a59-a799-48cf9e77225e"
      },
      "source": [
        "score = model.evaluate(x_test, y_test, verbose=0)\n",
        "print('Test loss:', score[0])\n",
        "print('Test accuracy:', score[1])"
      ],
      "execution_count": null,
      "outputs": [
        {
          "output_type": "stream",
          "text": [
            "Test loss: 0.19534817337989807\n",
            "Test accuracy: 0.9444000124931335\n"
          ],
          "name": "stdout"
        }
      ]
    },
    {
      "cell_type": "markdown",
      "metadata": {
        "id": "NM-xbPrmyr9u"
      },
      "source": [
        "# Problem 2: Classify the image from CIFAR10 dataset\n",
        "\n",
        "There are several steps needed \n",
        "1. Load data, convert matrix into column vector, normalize\n",
        "2. Create one-hot vector for y_train\n",
        "3. Create model and add layers\n",
        "4. Compile, fit and evaluate"
      ]
    },
    {
      "cell_type": "code",
      "metadata": {
        "id": "Exqq5XyWjTDN"
      },
      "source": [
        "import keras\n",
        "from keras.datasets import cifar10\n",
        "from keras.models import Sequential\n",
        "from keras.layers import Dense, Dropout, Flatten\n",
        "from keras.optimizers import SGD\n",
        "from keras import backend as K"
      ],
      "execution_count": null,
      "outputs": []
    },
    {
      "cell_type": "code",
      "metadata": {
        "id": "BhOP_TK8d8q6"
      },
      "source": [
        "batch_size = 128\n",
        "num_classes = 10\n",
        "epochs = 100"
      ],
      "execution_count": null,
      "outputs": []
    },
    {
      "cell_type": "code",
      "metadata": {
        "id": "KbQfbc8heRuM"
      },
      "source": [
        "# input image dimensions\n",
        "img_rows, img_cols, channel = 32, 32, 3\n",
        "\n",
        "# the data, split between train and test sets\n",
        "(x_train, y_train), (x_test, y_test) = cifar10.load_data()"
      ],
      "execution_count": null,
      "outputs": []
    },
    {
      "cell_type": "code",
      "metadata": {
        "id": "uxrh35y8fSSV",
        "colab": {
          "base_uri": "https://localhost:8080/"
        },
        "outputId": "1401ee5e-b199-4d7a-cb25-27654eaefcbe"
      },
      "source": [
        "print(x_train.shape)"
      ],
      "execution_count": null,
      "outputs": [
        {
          "output_type": "stream",
          "text": [
            "(50000, 32, 32, 3)\n"
          ],
          "name": "stdout"
        }
      ]
    },
    {
      "cell_type": "code",
      "metadata": {
        "id": "xpzdBGrFfIJG",
        "colab": {
          "base_uri": "https://localhost:8080/"
        },
        "outputId": "c5587183-78e0-4667-d054-bd352d1e5351"
      },
      "source": [
        "#Reshape x_train, x_test to column matrix\n",
        "x_train = x_train.reshape(-1, 3072)\n",
        "x_test = x_test.reshape(-1, 3072)\n",
        "x_train = x_train.astype('float32')\n",
        "x_test = x_test.astype('float32')\n",
        "# normalize (0-1)\n",
        "x_train /= 255\n",
        "x_test /= 255\n",
        "print(x_train.shape[0], 'train samples')\n",
        "print(x_test.shape[0], 'test samples')"
      ],
      "execution_count": null,
      "outputs": [
        {
          "output_type": "stream",
          "text": [
            "50000 train samples\n",
            "10000 test samples\n"
          ],
          "name": "stdout"
        }
      ]
    },
    {
      "cell_type": "code",
      "metadata": {
        "colab": {
          "base_uri": "https://localhost:8080/"
        },
        "id": "L7gm58Vbqs8U",
        "outputId": "abb61491-23f7-4b1f-f813-e6359ce15b9f"
      },
      "source": [
        "print((x_train <=1).all())"
      ],
      "execution_count": null,
      "outputs": [
        {
          "output_type": "stream",
          "text": [
            "True\n"
          ],
          "name": "stdout"
        }
      ]
    },
    {
      "cell_type": "code",
      "metadata": {
        "colab": {
          "base_uri": "https://localhost:8080/"
        },
        "id": "jOeLPYoorBiK",
        "outputId": "236ffcec-ca43-47af-847c-40fcef027af2"
      },
      "source": [
        "# convert class vectors to binary class matrices\n",
        "print(y_train[0])\n",
        "y_train = keras.utils.to_categorical(y_train, num_classes)\n",
        "y_test = keras.utils.to_categorical(y_test, num_classes)\n",
        "print(y_train[0])"
      ],
      "execution_count": null,
      "outputs": [
        {
          "output_type": "stream",
          "text": [
            "[6]\n",
            "[0. 0. 0. 0. 0. 0. 1. 0. 0. 0.]\n"
          ],
          "name": "stdout"
        }
      ]
    },
    {
      "cell_type": "code",
      "metadata": {
        "colab": {
          "base_uri": "https://localhost:8080/"
        },
        "id": "6FSEs4_9rYaw",
        "outputId": "03769c90-0c43-4b56-ed11-118e407f4db2"
      },
      "source": [
        "model = Sequential()\n",
        "# input_shape\n",
        "model.add(Dense(512, activation='relu', input_shape=(3072,)))\n",
        "model.add(Dense(32, activation='relu'))\n",
        "model.add(Dense(num_classes, activation='softmax'))\n",
        "\n",
        "model.summary()"
      ],
      "execution_count": null,
      "outputs": [
        {
          "output_type": "stream",
          "text": [
            "Model: \"sequential_2\"\n",
            "_________________________________________________________________\n",
            "Layer (type)                 Output Shape              Param #   \n",
            "=================================================================\n",
            "dense_6 (Dense)              (None, 512)               1573376   \n",
            "_________________________________________________________________\n",
            "dense_7 (Dense)              (None, 32)                16416     \n",
            "_________________________________________________________________\n",
            "dense_8 (Dense)              (None, 10)                330       \n",
            "=================================================================\n",
            "Total params: 1,590,122\n",
            "Trainable params: 1,590,122\n",
            "Non-trainable params: 0\n",
            "_________________________________________________________________\n"
          ],
          "name": "stdout"
        }
      ]
    },
    {
      "cell_type": "code",
      "metadata": {
        "id": "JOFGCn-LrmnN"
      },
      "source": [
        "model.compile(loss='categorical_crossentropy',\n",
        "              optimizer=SGD(), # adam, .... gradient descent\n",
        "              metrics=['accuracy'])"
      ],
      "execution_count": null,
      "outputs": []
    },
    {
      "cell_type": "code",
      "metadata": {
        "colab": {
          "base_uri": "https://localhost:8080/"
        },
        "id": "yw-LKjd1rxCD",
        "outputId": "3e6061d0-14d3-4b59-8be6-40d74782ca4c"
      },
      "source": [
        "H = model.fit(x_train, y_train,\n",
        "          batch_size=batch_size,\n",
        "          epochs=epochs,\n",
        "          verbose=1,\n",
        "          validation_data=(x_test, y_test))"
      ],
      "execution_count": null,
      "outputs": [
        {
          "output_type": "stream",
          "text": [
            "Epoch 1/100\n",
            "391/391 [==============================] - 9s 22ms/step - loss: 1.4765 - accuracy: 0.4844 - val_loss: 1.5899 - val_accuracy: 0.4340\n",
            "Epoch 2/100\n",
            "391/391 [==============================] - 9s 22ms/step - loss: 1.4594 - accuracy: 0.4868 - val_loss: 1.4877 - val_accuracy: 0.4692\n",
            "Epoch 3/100\n",
            "391/391 [==============================] - 9s 22ms/step - loss: 1.4436 - accuracy: 0.4940 - val_loss: 1.5072 - val_accuracy: 0.4607\n",
            "Epoch 4/100\n",
            "391/391 [==============================] - 9s 22ms/step - loss: 1.4334 - accuracy: 0.4987 - val_loss: 1.4739 - val_accuracy: 0.4769\n",
            "Epoch 5/100\n",
            "391/391 [==============================] - 9s 22ms/step - loss: 1.4172 - accuracy: 0.5052 - val_loss: 1.4532 - val_accuracy: 0.4911\n",
            "Epoch 6/100\n",
            "391/391 [==============================] - 9s 22ms/step - loss: 1.4044 - accuracy: 0.5095 - val_loss: 1.4408 - val_accuracy: 0.4928\n",
            "Epoch 7/100\n",
            "391/391 [==============================] - 9s 22ms/step - loss: 1.3920 - accuracy: 0.5122 - val_loss: 1.4519 - val_accuracy: 0.4822\n",
            "Epoch 8/100\n",
            "391/391 [==============================] - 9s 22ms/step - loss: 1.3794 - accuracy: 0.5159 - val_loss: 1.4341 - val_accuracy: 0.4878\n",
            "Epoch 9/100\n",
            "391/391 [==============================] - 9s 22ms/step - loss: 1.3663 - accuracy: 0.5207 - val_loss: 1.4944 - val_accuracy: 0.4634\n",
            "Epoch 10/100\n",
            "391/391 [==============================] - 9s 22ms/step - loss: 1.3562 - accuracy: 0.5252 - val_loss: 1.4520 - val_accuracy: 0.4787\n",
            "Epoch 11/100\n",
            "391/391 [==============================] - 9s 22ms/step - loss: 1.3451 - accuracy: 0.5281 - val_loss: 1.4773 - val_accuracy: 0.4723\n",
            "Epoch 12/100\n",
            "391/391 [==============================] - 9s 22ms/step - loss: 1.3359 - accuracy: 0.5305 - val_loss: 1.4277 - val_accuracy: 0.4895\n",
            "Epoch 13/100\n",
            "391/391 [==============================] - 9s 22ms/step - loss: 1.3239 - accuracy: 0.5359 - val_loss: 1.4243 - val_accuracy: 0.4932\n",
            "Epoch 14/100\n",
            "391/391 [==============================] - 9s 22ms/step - loss: 1.3163 - accuracy: 0.5405 - val_loss: 1.4134 - val_accuracy: 0.4934\n",
            "Epoch 15/100\n",
            "391/391 [==============================] - 9s 22ms/step - loss: 1.3083 - accuracy: 0.5408 - val_loss: 1.3870 - val_accuracy: 0.5077\n",
            "Epoch 16/100\n",
            "391/391 [==============================] - 9s 22ms/step - loss: 1.2941 - accuracy: 0.5469 - val_loss: 1.4193 - val_accuracy: 0.4939\n",
            "Epoch 17/100\n",
            "391/391 [==============================] - 9s 22ms/step - loss: 1.2853 - accuracy: 0.5493 - val_loss: 1.3942 - val_accuracy: 0.5019\n",
            "Epoch 18/100\n",
            "391/391 [==============================] - 9s 22ms/step - loss: 1.2746 - accuracy: 0.5529 - val_loss: 1.4741 - val_accuracy: 0.4716\n",
            "Epoch 19/100\n",
            "391/391 [==============================] - 9s 22ms/step - loss: 1.2679 - accuracy: 0.5557 - val_loss: 1.3802 - val_accuracy: 0.5109\n",
            "Epoch 20/100\n",
            "391/391 [==============================] - 9s 22ms/step - loss: 1.2566 - accuracy: 0.5618 - val_loss: 1.4491 - val_accuracy: 0.4843\n",
            "Epoch 21/100\n",
            "391/391 [==============================] - 9s 22ms/step - loss: 1.2534 - accuracy: 0.5608 - val_loss: 1.3955 - val_accuracy: 0.5015\n",
            "Epoch 22/100\n",
            "391/391 [==============================] - 9s 22ms/step - loss: 1.2376 - accuracy: 0.5675 - val_loss: 1.3504 - val_accuracy: 0.5259\n",
            "Epoch 23/100\n",
            "391/391 [==============================] - 9s 22ms/step - loss: 1.2300 - accuracy: 0.5688 - val_loss: 1.3544 - val_accuracy: 0.5175\n",
            "Epoch 24/100\n",
            "391/391 [==============================] - 9s 22ms/step - loss: 1.2277 - accuracy: 0.5703 - val_loss: 1.4083 - val_accuracy: 0.5035\n",
            "Epoch 25/100\n",
            "391/391 [==============================] - 9s 22ms/step - loss: 1.2137 - accuracy: 0.5773 - val_loss: 1.3683 - val_accuracy: 0.5117\n",
            "Epoch 26/100\n",
            "391/391 [==============================] - 9s 22ms/step - loss: 1.2095 - accuracy: 0.5771 - val_loss: 1.4635 - val_accuracy: 0.4767\n",
            "Epoch 27/100\n",
            "391/391 [==============================] - 9s 22ms/step - loss: 1.2019 - accuracy: 0.5814 - val_loss: 1.3804 - val_accuracy: 0.5141\n",
            "Epoch 28/100\n",
            "391/391 [==============================] - 9s 22ms/step - loss: 1.1915 - accuracy: 0.5837 - val_loss: 1.3431 - val_accuracy: 0.5239\n",
            "Epoch 29/100\n",
            "391/391 [==============================] - 9s 22ms/step - loss: 1.1827 - accuracy: 0.5865 - val_loss: 1.3953 - val_accuracy: 0.5105\n",
            "Epoch 30/100\n",
            "391/391 [==============================] - 9s 22ms/step - loss: 1.1731 - accuracy: 0.5914 - val_loss: 1.4033 - val_accuracy: 0.5102\n",
            "Epoch 31/100\n",
            "391/391 [==============================] - 9s 22ms/step - loss: 1.1667 - accuracy: 0.5928 - val_loss: 1.3570 - val_accuracy: 0.5198\n",
            "Epoch 32/100\n",
            "391/391 [==============================] - 9s 22ms/step - loss: 1.1592 - accuracy: 0.5948 - val_loss: 1.3694 - val_accuracy: 0.5197\n",
            "Epoch 33/100\n",
            "391/391 [==============================] - 9s 22ms/step - loss: 1.1521 - accuracy: 0.5977 - val_loss: 1.3460 - val_accuracy: 0.5224\n",
            "Epoch 34/100\n",
            "391/391 [==============================] - 9s 23ms/step - loss: 1.1445 - accuracy: 0.5970 - val_loss: 1.3458 - val_accuracy: 0.5214\n",
            "Epoch 35/100\n",
            "391/391 [==============================] - 9s 23ms/step - loss: 1.1356 - accuracy: 0.6056 - val_loss: 1.3759 - val_accuracy: 0.5189\n",
            "Epoch 36/100\n",
            "391/391 [==============================] - 9s 23ms/step - loss: 1.1307 - accuracy: 0.6069 - val_loss: 1.3527 - val_accuracy: 0.5271\n",
            "Epoch 37/100\n",
            "391/391 [==============================] - 9s 23ms/step - loss: 1.1250 - accuracy: 0.6082 - val_loss: 1.3409 - val_accuracy: 0.5309\n",
            "Epoch 38/100\n",
            "391/391 [==============================] - 9s 23ms/step - loss: 1.1171 - accuracy: 0.6095 - val_loss: 1.3605 - val_accuracy: 0.5274\n",
            "Epoch 39/100\n",
            "391/391 [==============================] - 9s 22ms/step - loss: 1.1095 - accuracy: 0.6117 - val_loss: 1.3925 - val_accuracy: 0.5134\n",
            "Epoch 40/100\n",
            "391/391 [==============================] - 9s 22ms/step - loss: 1.0970 - accuracy: 0.6166 - val_loss: 1.4264 - val_accuracy: 0.5032\n",
            "Epoch 41/100\n",
            "391/391 [==============================] - 9s 22ms/step - loss: 1.0904 - accuracy: 0.6199 - val_loss: 1.4387 - val_accuracy: 0.5076\n",
            "Epoch 42/100\n",
            "391/391 [==============================] - 9s 22ms/step - loss: 1.0893 - accuracy: 0.6202 - val_loss: 1.3892 - val_accuracy: 0.5124\n",
            "Epoch 43/100\n",
            "391/391 [==============================] - 9s 23ms/step - loss: 1.0839 - accuracy: 0.6223 - val_loss: 1.3485 - val_accuracy: 0.5274\n",
            "Epoch 44/100\n",
            "391/391 [==============================] - 9s 23ms/step - loss: 1.0689 - accuracy: 0.6270 - val_loss: 1.3330 - val_accuracy: 0.5334\n",
            "Epoch 45/100\n",
            "391/391 [==============================] - 9s 22ms/step - loss: 1.0701 - accuracy: 0.6276 - val_loss: 1.4204 - val_accuracy: 0.5124\n",
            "Epoch 46/100\n",
            "391/391 [==============================] - 9s 22ms/step - loss: 1.0645 - accuracy: 0.6273 - val_loss: 1.3434 - val_accuracy: 0.5301\n",
            "Epoch 47/100\n",
            "391/391 [==============================] - 9s 22ms/step - loss: 1.0541 - accuracy: 0.6320 - val_loss: 1.4113 - val_accuracy: 0.5142\n",
            "Epoch 48/100\n",
            "391/391 [==============================] - 9s 22ms/step - loss: 1.0475 - accuracy: 0.6352 - val_loss: 1.3483 - val_accuracy: 0.5244\n",
            "Epoch 49/100\n",
            "391/391 [==============================] - 9s 22ms/step - loss: 1.0457 - accuracy: 0.6347 - val_loss: 1.3967 - val_accuracy: 0.5034\n",
            "Epoch 50/100\n",
            "391/391 [==============================] - 9s 22ms/step - loss: 1.0285 - accuracy: 0.6430 - val_loss: 1.5434 - val_accuracy: 0.4701\n",
            "Epoch 51/100\n",
            "391/391 [==============================] - 9s 22ms/step - loss: 1.0277 - accuracy: 0.6408 - val_loss: 1.3442 - val_accuracy: 0.5265\n",
            "Epoch 52/100\n",
            "391/391 [==============================] - 9s 22ms/step - loss: 1.0216 - accuracy: 0.6452 - val_loss: 1.3626 - val_accuracy: 0.5280\n",
            "Epoch 53/100\n",
            "391/391 [==============================] - 9s 22ms/step - loss: 1.0168 - accuracy: 0.6459 - val_loss: 1.5509 - val_accuracy: 0.4821\n",
            "Epoch 54/100\n",
            "391/391 [==============================] - 9s 22ms/step - loss: 1.0073 - accuracy: 0.6493 - val_loss: 1.3751 - val_accuracy: 0.5236\n",
            "Epoch 55/100\n",
            "391/391 [==============================] - 9s 22ms/step - loss: 1.0047 - accuracy: 0.6507 - val_loss: 1.4552 - val_accuracy: 0.5024\n",
            "Epoch 56/100\n",
            "391/391 [==============================] - 9s 22ms/step - loss: 0.9964 - accuracy: 0.6531 - val_loss: 1.4155 - val_accuracy: 0.5202\n",
            "Epoch 57/100\n",
            "391/391 [==============================] - 9s 22ms/step - loss: 0.9840 - accuracy: 0.6581 - val_loss: 1.3938 - val_accuracy: 0.5263\n",
            "Epoch 58/100\n",
            "391/391 [==============================] - 9s 22ms/step - loss: 0.9839 - accuracy: 0.6554 - val_loss: 1.3800 - val_accuracy: 0.5202\n",
            "Epoch 59/100\n",
            "391/391 [==============================] - 9s 22ms/step - loss: 0.9766 - accuracy: 0.6602 - val_loss: 1.3381 - val_accuracy: 0.5409\n",
            "Epoch 60/100\n",
            "391/391 [==============================] - 9s 22ms/step - loss: 0.9704 - accuracy: 0.6620 - val_loss: 1.3629 - val_accuracy: 0.5338\n",
            "Epoch 61/100\n",
            "391/391 [==============================] - 9s 22ms/step - loss: 0.9589 - accuracy: 0.6686 - val_loss: 1.3550 - val_accuracy: 0.5296\n",
            "Epoch 62/100\n",
            "391/391 [==============================] - 9s 22ms/step - loss: 0.9520 - accuracy: 0.6678 - val_loss: 1.4622 - val_accuracy: 0.5054\n",
            "Epoch 63/100\n",
            "391/391 [==============================] - 9s 22ms/step - loss: 0.9476 - accuracy: 0.6716 - val_loss: 1.3731 - val_accuracy: 0.5251\n",
            "Epoch 64/100\n",
            "391/391 [==============================] - 9s 22ms/step - loss: 0.9459 - accuracy: 0.6698 - val_loss: 1.4061 - val_accuracy: 0.5289\n",
            "Epoch 65/100\n",
            "391/391 [==============================] - 9s 22ms/step - loss: 0.9410 - accuracy: 0.6713 - val_loss: 1.4241 - val_accuracy: 0.5203\n",
            "Epoch 66/100\n",
            "391/391 [==============================] - 9s 22ms/step - loss: 0.9311 - accuracy: 0.6769 - val_loss: 1.4068 - val_accuracy: 0.5239\n",
            "Epoch 67/100\n",
            "391/391 [==============================] - 9s 22ms/step - loss: 0.9241 - accuracy: 0.6775 - val_loss: 1.3911 - val_accuracy: 0.5288\n",
            "Epoch 68/100\n",
            "391/391 [==============================] - 9s 22ms/step - loss: 0.9186 - accuracy: 0.6793 - val_loss: 1.4851 - val_accuracy: 0.4988\n",
            "Epoch 69/100\n",
            "391/391 [==============================] - 9s 22ms/step - loss: 0.9141 - accuracy: 0.6814 - val_loss: 1.4345 - val_accuracy: 0.5181\n",
            "Epoch 70/100\n",
            "391/391 [==============================] - 9s 22ms/step - loss: 0.9083 - accuracy: 0.6848 - val_loss: 1.4434 - val_accuracy: 0.5121\n",
            "Epoch 71/100\n",
            "391/391 [==============================] - 9s 22ms/step - loss: 0.9027 - accuracy: 0.6852 - val_loss: 1.3849 - val_accuracy: 0.5377\n",
            "Epoch 72/100\n",
            "391/391 [==============================] - 9s 22ms/step - loss: 0.8907 - accuracy: 0.6878 - val_loss: 1.3768 - val_accuracy: 0.5354\n",
            "Epoch 73/100\n",
            "391/391 [==============================] - 9s 22ms/step - loss: 0.8863 - accuracy: 0.6923 - val_loss: 1.4046 - val_accuracy: 0.5287\n",
            "Epoch 74/100\n",
            "391/391 [==============================] - 9s 22ms/step - loss: 0.8799 - accuracy: 0.6960 - val_loss: 1.3787 - val_accuracy: 0.5322\n",
            "Epoch 75/100\n",
            "391/391 [==============================] - 9s 22ms/step - loss: 0.8783 - accuracy: 0.6959 - val_loss: 1.4313 - val_accuracy: 0.5191\n",
            "Epoch 76/100\n",
            "391/391 [==============================] - 9s 22ms/step - loss: 0.8659 - accuracy: 0.7007 - val_loss: 1.3995 - val_accuracy: 0.5351\n",
            "Epoch 77/100\n",
            "391/391 [==============================] - 9s 22ms/step - loss: 0.8617 - accuracy: 0.6996 - val_loss: 1.4153 - val_accuracy: 0.5318\n",
            "Epoch 78/100\n",
            "391/391 [==============================] - 9s 22ms/step - loss: 0.8659 - accuracy: 0.6994 - val_loss: 1.4589 - val_accuracy: 0.5196\n",
            "Epoch 79/100\n",
            "391/391 [==============================] - 9s 23ms/step - loss: 0.8533 - accuracy: 0.7013 - val_loss: 1.3681 - val_accuracy: 0.5440\n",
            "Epoch 80/100\n",
            "391/391 [==============================] - 9s 23ms/step - loss: 0.8434 - accuracy: 0.7056 - val_loss: 1.3628 - val_accuracy: 0.5401\n",
            "Epoch 81/100\n",
            "391/391 [==============================] - 9s 23ms/step - loss: 0.8450 - accuracy: 0.7049 - val_loss: 1.4060 - val_accuracy: 0.5415\n",
            "Epoch 82/100\n",
            "391/391 [==============================] - 9s 23ms/step - loss: 0.8370 - accuracy: 0.7087 - val_loss: 1.5048 - val_accuracy: 0.5078\n",
            "Epoch 83/100\n",
            "391/391 [==============================] - 9s 23ms/step - loss: 0.8353 - accuracy: 0.7097 - val_loss: 1.4095 - val_accuracy: 0.5311\n",
            "Epoch 84/100\n",
            "391/391 [==============================] - 9s 22ms/step - loss: 0.8291 - accuracy: 0.7133 - val_loss: 1.3542 - val_accuracy: 0.5422\n",
            "Epoch 85/100\n",
            "391/391 [==============================] - 9s 22ms/step - loss: 0.8280 - accuracy: 0.7123 - val_loss: 1.5572 - val_accuracy: 0.5062\n",
            "Epoch 86/100\n",
            "391/391 [==============================] - 9s 22ms/step - loss: 0.8147 - accuracy: 0.7163 - val_loss: 1.4443 - val_accuracy: 0.5271\n",
            "Epoch 87/100\n",
            "391/391 [==============================] - 9s 22ms/step - loss: 0.8107 - accuracy: 0.7209 - val_loss: 1.4205 - val_accuracy: 0.5325\n",
            "Epoch 88/100\n",
            "391/391 [==============================] - 9s 23ms/step - loss: 0.8059 - accuracy: 0.7186 - val_loss: 1.4148 - val_accuracy: 0.5332\n",
            "Epoch 89/100\n",
            "391/391 [==============================] - 9s 22ms/step - loss: 0.7954 - accuracy: 0.7245 - val_loss: 1.5866 - val_accuracy: 0.5000\n",
            "Epoch 90/100\n",
            "391/391 [==============================] - 9s 22ms/step - loss: 0.7883 - accuracy: 0.7253 - val_loss: 1.3847 - val_accuracy: 0.5426\n",
            "Epoch 91/100\n",
            "391/391 [==============================] - 9s 23ms/step - loss: 0.7929 - accuracy: 0.7261 - val_loss: 1.6564 - val_accuracy: 0.4863\n",
            "Epoch 92/100\n",
            "391/391 [==============================] - 9s 22ms/step - loss: 0.7837 - accuracy: 0.7273 - val_loss: 1.4434 - val_accuracy: 0.5307\n",
            "Epoch 93/100\n",
            "391/391 [==============================] - 9s 23ms/step - loss: 0.7749 - accuracy: 0.7316 - val_loss: 1.4135 - val_accuracy: 0.5420\n",
            "Epoch 94/100\n",
            "391/391 [==============================] - 9s 23ms/step - loss: 0.7722 - accuracy: 0.7307 - val_loss: 1.4756 - val_accuracy: 0.5211\n",
            "Epoch 95/100\n",
            "391/391 [==============================] - 9s 22ms/step - loss: 0.7674 - accuracy: 0.7349 - val_loss: 1.4302 - val_accuracy: 0.5409\n",
            "Epoch 96/100\n",
            "391/391 [==============================] - 9s 22ms/step - loss: 0.7583 - accuracy: 0.7368 - val_loss: 1.4469 - val_accuracy: 0.5383\n",
            "Epoch 97/100\n",
            "391/391 [==============================] - 9s 23ms/step - loss: 0.7618 - accuracy: 0.7369 - val_loss: 1.4488 - val_accuracy: 0.5405\n",
            "Epoch 98/100\n",
            "391/391 [==============================] - 9s 23ms/step - loss: 0.7528 - accuracy: 0.7388 - val_loss: 1.6871 - val_accuracy: 0.4812\n",
            "Epoch 99/100\n",
            "391/391 [==============================] - 9s 23ms/step - loss: 0.7406 - accuracy: 0.7433 - val_loss: 1.5020 - val_accuracy: 0.5257\n",
            "Epoch 100/100\n",
            "391/391 [==============================] - 9s 23ms/step - loss: 0.7370 - accuracy: 0.7441 - val_loss: 1.4320 - val_accuracy: 0.5419\n"
          ],
          "name": "stdout"
        }
      ]
    },
    {
      "cell_type": "code",
      "metadata": {
        "colab": {
          "base_uri": "https://localhost:8080/"
        },
        "id": "wwGF4ASStST-",
        "outputId": "24bbcfbe-d1ec-4ef1-cbda-97b94931502c"
      },
      "source": [
        "score = model.evaluate(x_test, y_test, verbose=0)\n",
        "print('Test loss:', score[0])\n",
        "print('Test accuracy:', score[1])"
      ],
      "execution_count": null,
      "outputs": [
        {
          "output_type": "stream",
          "text": [
            "Test loss: 1.5172921419143677\n",
            "Test accuracy: 0.46149998903274536\n"
          ],
          "name": "stdout"
        }
      ]
    },
    {
      "cell_type": "code",
      "metadata": {
        "colab": {
          "base_uri": "https://localhost:8080/"
        },
        "id": "oh9NsbOAuCG1",
        "outputId": "b97232d5-d7df-4bad-95a3-a84e8e59f72c"
      },
      "source": [
        "#Testing for different model and observe the result\n",
        "model1 = Sequential()\n",
        "# input_shape\n",
        "\n",
        "model1.add(Dense(512, activation='relu', input_shape=(3072,)))\n",
        "model1.add(Dense(128, activation='relu'))\n",
        "model1.add(Dense(32, activation='relu'))\n",
        "model1.add(Dense(num_classes, activation='softmax'))\n",
        "\n",
        "model1.summary()"
      ],
      "execution_count": null,
      "outputs": [
        {
          "output_type": "stream",
          "text": [
            "Model: \"sequential_4\"\n",
            "_________________________________________________________________\n",
            "Layer (type)                 Output Shape              Param #   \n",
            "=================================================================\n",
            "dense_14 (Dense)             (None, 512)               1573376   \n",
            "_________________________________________________________________\n",
            "dense_15 (Dense)             (None, 128)               65664     \n",
            "_________________________________________________________________\n",
            "dense_16 (Dense)             (None, 32)                4128      \n",
            "_________________________________________________________________\n",
            "dense_17 (Dense)             (None, 10)                330       \n",
            "=================================================================\n",
            "Total params: 1,643,498\n",
            "Trainable params: 1,643,498\n",
            "Non-trainable params: 0\n",
            "_________________________________________________________________\n"
          ],
          "name": "stdout"
        }
      ]
    },
    {
      "cell_type": "code",
      "metadata": {
        "id": "7Vk8ayX1wygv"
      },
      "source": [
        "model1.compile(loss='categorical_crossentropy',\n",
        "              optimizer=SGD(), # adam, .... gradient descent\n",
        "              metrics=['accuracy'])"
      ],
      "execution_count": null,
      "outputs": []
    },
    {
      "cell_type": "code",
      "metadata": {
        "colab": {
          "base_uri": "https://localhost:8080/"
        },
        "id": "TRjndf5_w19z",
        "outputId": "3909dee9-247b-4983-ec0c-136b30284bc4"
      },
      "source": [
        "H = model1.fit(x_train, y_train,\n",
        "          batch_size=batch_size,\n",
        "          epochs=epochs,\n",
        "          verbose=1,\n",
        "          validation_data=(x_test, y_test))"
      ],
      "execution_count": null,
      "outputs": [
        {
          "output_type": "stream",
          "text": [
            "Epoch 1/100\n",
            "391/391 [==============================] - 10s 24ms/step - loss: 2.1105 - accuracy: 0.2282 - val_loss: 1.8992 - val_accuracy: 0.3208\n",
            "Epoch 2/100\n",
            "391/391 [==============================] - 9s 23ms/step - loss: 1.8554 - accuracy: 0.3480 - val_loss: 1.8342 - val_accuracy: 0.3284\n",
            "Epoch 3/100\n",
            "391/391 [==============================] - 9s 23ms/step - loss: 1.7801 - accuracy: 0.3675 - val_loss: 1.7528 - val_accuracy: 0.3777\n",
            "Epoch 4/100\n",
            "391/391 [==============================] - 9s 23ms/step - loss: 1.7192 - accuracy: 0.3926 - val_loss: 1.7033 - val_accuracy: 0.4003\n",
            "Epoch 5/100\n",
            "391/391 [==============================] - 9s 23ms/step - loss: 1.6690 - accuracy: 0.4110 - val_loss: 1.6490 - val_accuracy: 0.4113\n",
            "Epoch 6/100\n",
            "391/391 [==============================] - 9s 23ms/step - loss: 1.6319 - accuracy: 0.4222 - val_loss: 1.6243 - val_accuracy: 0.4228\n",
            "Epoch 7/100\n",
            "391/391 [==============================] - 9s 23ms/step - loss: 1.5999 - accuracy: 0.4359 - val_loss: 1.6030 - val_accuracy: 0.4238\n",
            "Epoch 8/100\n",
            "391/391 [==============================] - 9s 23ms/step - loss: 1.5762 - accuracy: 0.4410 - val_loss: 1.5514 - val_accuracy: 0.4550\n",
            "Epoch 9/100\n",
            "391/391 [==============================] - 9s 23ms/step - loss: 1.5500 - accuracy: 0.4540 - val_loss: 1.5402 - val_accuracy: 0.4577\n",
            "Epoch 10/100\n",
            "391/391 [==============================] - 9s 23ms/step - loss: 1.5374 - accuracy: 0.4554 - val_loss: 1.5766 - val_accuracy: 0.4427\n",
            "Epoch 11/100\n",
            "391/391 [==============================] - 9s 23ms/step - loss: 1.5172 - accuracy: 0.4643 - val_loss: 1.5534 - val_accuracy: 0.4529\n",
            "Epoch 12/100\n",
            "391/391 [==============================] - 9s 23ms/step - loss: 1.4803 - accuracy: 0.4793 - val_loss: 1.5899 - val_accuracy: 0.4257\n",
            "Epoch 13/100\n",
            "391/391 [==============================] - 9s 23ms/step - loss: 1.4636 - accuracy: 0.4852 - val_loss: 1.5059 - val_accuracy: 0.4652\n",
            "Epoch 14/100\n",
            "391/391 [==============================] - 9s 23ms/step - loss: 1.4410 - accuracy: 0.4916 - val_loss: 1.4940 - val_accuracy: 0.4636\n",
            "Epoch 15/100\n",
            "391/391 [==============================] - 9s 23ms/step - loss: 1.4360 - accuracy: 0.4905 - val_loss: 1.5526 - val_accuracy: 0.4326\n",
            "Epoch 16/100\n",
            "391/391 [==============================] - 9s 23ms/step - loss: 1.4138 - accuracy: 0.4981 - val_loss: 1.5010 - val_accuracy: 0.4786\n",
            "Epoch 17/100\n",
            "391/391 [==============================] - 9s 23ms/step - loss: 1.4055 - accuracy: 0.5059 - val_loss: 1.5095 - val_accuracy: 0.4578\n",
            "Epoch 18/100\n",
            "391/391 [==============================] - 9s 23ms/step - loss: 1.3800 - accuracy: 0.5114 - val_loss: 1.4403 - val_accuracy: 0.4892\n",
            "Epoch 19/100\n",
            "391/391 [==============================] - 9s 23ms/step - loss: 1.3723 - accuracy: 0.5165 - val_loss: 1.5068 - val_accuracy: 0.4678\n",
            "Epoch 20/100\n",
            "391/391 [==============================] - 9s 23ms/step - loss: 1.3547 - accuracy: 0.5209 - val_loss: 1.4648 - val_accuracy: 0.4768\n",
            "Epoch 21/100\n",
            "391/391 [==============================] - 9s 23ms/step - loss: 1.3427 - accuracy: 0.5245 - val_loss: 1.4315 - val_accuracy: 0.4951\n",
            "Epoch 22/100\n",
            "391/391 [==============================] - 9s 23ms/step - loss: 1.3325 - accuracy: 0.5304 - val_loss: 1.3850 - val_accuracy: 0.5115\n",
            "Epoch 23/100\n",
            "391/391 [==============================] - 9s 23ms/step - loss: 1.3151 - accuracy: 0.5382 - val_loss: 1.4229 - val_accuracy: 0.4938\n",
            "Epoch 24/100\n",
            "391/391 [==============================] - 9s 23ms/step - loss: 1.3073 - accuracy: 0.5417 - val_loss: 1.4147 - val_accuracy: 0.4897\n",
            "Epoch 25/100\n",
            "391/391 [==============================] - 9s 23ms/step - loss: 1.2954 - accuracy: 0.5430 - val_loss: 1.4072 - val_accuracy: 0.4981\n",
            "Epoch 26/100\n",
            "391/391 [==============================] - 9s 23ms/step - loss: 1.2791 - accuracy: 0.5468 - val_loss: 1.4106 - val_accuracy: 0.4992\n",
            "Epoch 27/100\n",
            "391/391 [==============================] - 9s 23ms/step - loss: 1.2658 - accuracy: 0.5540 - val_loss: 1.4286 - val_accuracy: 0.4956\n",
            "Epoch 28/100\n",
            "391/391 [==============================] - 9s 23ms/step - loss: 1.2548 - accuracy: 0.5581 - val_loss: 1.5726 - val_accuracy: 0.4493\n",
            "Epoch 29/100\n",
            "391/391 [==============================] - 9s 23ms/step - loss: 1.2363 - accuracy: 0.5650 - val_loss: 1.5073 - val_accuracy: 0.4807\n",
            "Epoch 30/100\n",
            "391/391 [==============================] - 9s 23ms/step - loss: 1.2300 - accuracy: 0.5680 - val_loss: 1.3657 - val_accuracy: 0.5169\n",
            "Epoch 31/100\n",
            "391/391 [==============================] - 9s 23ms/step - loss: 1.2261 - accuracy: 0.5719 - val_loss: 1.3999 - val_accuracy: 0.4998\n",
            "Epoch 32/100\n",
            "391/391 [==============================] - 9s 23ms/step - loss: 1.2046 - accuracy: 0.5781 - val_loss: 1.3536 - val_accuracy: 0.5195\n",
            "Epoch 33/100\n",
            "391/391 [==============================] - 9s 23ms/step - loss: 1.1943 - accuracy: 0.5816 - val_loss: 1.4137 - val_accuracy: 0.4903\n",
            "Epoch 34/100\n",
            "391/391 [==============================] - 9s 23ms/step - loss: 1.1946 - accuracy: 0.5792 - val_loss: 1.3664 - val_accuracy: 0.5118\n",
            "Epoch 35/100\n",
            "391/391 [==============================] - 9s 23ms/step - loss: 1.1776 - accuracy: 0.5844 - val_loss: 1.4823 - val_accuracy: 0.4709\n",
            "Epoch 36/100\n",
            "391/391 [==============================] - 9s 23ms/step - loss: 1.1753 - accuracy: 0.5869 - val_loss: 1.5089 - val_accuracy: 0.4778\n",
            "Epoch 37/100\n",
            "391/391 [==============================] - 9s 23ms/step - loss: 1.1607 - accuracy: 0.5885 - val_loss: 1.3696 - val_accuracy: 0.5141\n",
            "Epoch 38/100\n",
            "391/391 [==============================] - 9s 23ms/step - loss: 1.1417 - accuracy: 0.5977 - val_loss: 1.5184 - val_accuracy: 0.4753\n",
            "Epoch 39/100\n",
            "391/391 [==============================] - 9s 23ms/step - loss: 1.1450 - accuracy: 0.5946 - val_loss: 1.3792 - val_accuracy: 0.5138\n",
            "Epoch 40/100\n",
            "391/391 [==============================] - 9s 23ms/step - loss: 1.1293 - accuracy: 0.6036 - val_loss: 1.4015 - val_accuracy: 0.4999\n",
            "Epoch 41/100\n",
            "391/391 [==============================] - 9s 23ms/step - loss: 1.1177 - accuracy: 0.6072 - val_loss: 1.3624 - val_accuracy: 0.5195\n",
            "Epoch 42/100\n",
            "391/391 [==============================] - 9s 23ms/step - loss: 1.1237 - accuracy: 0.6051 - val_loss: 1.3856 - val_accuracy: 0.5071\n",
            "Epoch 43/100\n",
            "391/391 [==============================] - 9s 23ms/step - loss: 1.1062 - accuracy: 0.6130 - val_loss: 1.4872 - val_accuracy: 0.4859\n",
            "Epoch 44/100\n",
            "391/391 [==============================] - 9s 23ms/step - loss: 1.1060 - accuracy: 0.6096 - val_loss: 1.3530 - val_accuracy: 0.5209\n",
            "Epoch 45/100\n",
            "391/391 [==============================] - 9s 23ms/step - loss: 1.0902 - accuracy: 0.6156 - val_loss: 1.3809 - val_accuracy: 0.5195\n",
            "Epoch 46/100\n",
            "391/391 [==============================] - 9s 24ms/step - loss: 1.0697 - accuracy: 0.6295 - val_loss: 1.3876 - val_accuracy: 0.5134\n",
            "Epoch 47/100\n",
            "391/391 [==============================] - 9s 23ms/step - loss: 1.0703 - accuracy: 0.6260 - val_loss: 1.3728 - val_accuracy: 0.5187\n",
            "Epoch 48/100\n",
            "391/391 [==============================] - 9s 23ms/step - loss: 1.0529 - accuracy: 0.6305 - val_loss: 1.3444 - val_accuracy: 0.5249\n",
            "Epoch 49/100\n",
            "391/391 [==============================] - 9s 24ms/step - loss: 1.0439 - accuracy: 0.6344 - val_loss: 1.3558 - val_accuracy: 0.5251\n",
            "Epoch 50/100\n",
            "391/391 [==============================] - 9s 24ms/step - loss: 1.0375 - accuracy: 0.6365 - val_loss: 1.3898 - val_accuracy: 0.5129\n",
            "Epoch 51/100\n",
            "391/391 [==============================] - 9s 23ms/step - loss: 1.0278 - accuracy: 0.6390 - val_loss: 1.3690 - val_accuracy: 0.5279\n",
            "Epoch 52/100\n",
            "391/391 [==============================] - 9s 23ms/step - loss: 1.0192 - accuracy: 0.6418 - val_loss: 1.4216 - val_accuracy: 0.5063\n",
            "Epoch 53/100\n",
            "391/391 [==============================] - 9s 23ms/step - loss: 1.0149 - accuracy: 0.6450 - val_loss: 1.3676 - val_accuracy: 0.5228\n",
            "Epoch 54/100\n",
            "391/391 [==============================] - 9s 23ms/step - loss: 1.0089 - accuracy: 0.6474 - val_loss: 1.3545 - val_accuracy: 0.5252\n",
            "Epoch 55/100\n",
            "391/391 [==============================] - 9s 23ms/step - loss: 0.9999 - accuracy: 0.6482 - val_loss: 1.4187 - val_accuracy: 0.5094\n",
            "Epoch 56/100\n",
            "391/391 [==============================] - 9s 23ms/step - loss: 0.9906 - accuracy: 0.6532 - val_loss: 1.5014 - val_accuracy: 0.4866\n",
            "Epoch 57/100\n",
            "391/391 [==============================] - 9s 23ms/step - loss: 0.9678 - accuracy: 0.6641 - val_loss: 1.3709 - val_accuracy: 0.5249\n",
            "Epoch 58/100\n",
            "391/391 [==============================] - 9s 23ms/step - loss: 0.9637 - accuracy: 0.6627 - val_loss: 1.4434 - val_accuracy: 0.4985\n",
            "Epoch 59/100\n",
            "391/391 [==============================] - 9s 23ms/step - loss: 0.9600 - accuracy: 0.6671 - val_loss: 1.4253 - val_accuracy: 0.5228\n",
            "Epoch 60/100\n",
            "391/391 [==============================] - 9s 24ms/step - loss: 0.9547 - accuracy: 0.6664 - val_loss: 1.3670 - val_accuracy: 0.5349\n",
            "Epoch 61/100\n",
            "391/391 [==============================] - 9s 24ms/step - loss: 0.9372 - accuracy: 0.6733 - val_loss: 1.4704 - val_accuracy: 0.5106\n",
            "Epoch 62/100\n",
            "391/391 [==============================] - 9s 24ms/step - loss: 0.9311 - accuracy: 0.6776 - val_loss: 1.3815 - val_accuracy: 0.5218\n",
            "Epoch 63/100\n",
            "391/391 [==============================] - 9s 24ms/step - loss: 0.9139 - accuracy: 0.6801 - val_loss: 1.4145 - val_accuracy: 0.5237\n",
            "Epoch 64/100\n",
            "391/391 [==============================] - 9s 23ms/step - loss: 0.9082 - accuracy: 0.6831 - val_loss: 1.3860 - val_accuracy: 0.5348\n",
            "Epoch 65/100\n",
            "391/391 [==============================] - 9s 23ms/step - loss: 0.9030 - accuracy: 0.6855 - val_loss: 1.4124 - val_accuracy: 0.5267\n",
            "Epoch 66/100\n",
            "391/391 [==============================] - 9s 24ms/step - loss: 0.8975 - accuracy: 0.6848 - val_loss: 1.4613 - val_accuracy: 0.5179\n",
            "Epoch 67/100\n",
            "391/391 [==============================] - 9s 23ms/step - loss: 0.8761 - accuracy: 0.6905 - val_loss: 1.3677 - val_accuracy: 0.5391\n",
            "Epoch 68/100\n",
            "391/391 [==============================] - 9s 23ms/step - loss: 0.8740 - accuracy: 0.6951 - val_loss: 1.4595 - val_accuracy: 0.5083\n",
            "Epoch 69/100\n",
            "391/391 [==============================] - 9s 24ms/step - loss: 0.8750 - accuracy: 0.6954 - val_loss: 1.6937 - val_accuracy: 0.4531\n",
            "Epoch 70/100\n",
            "391/391 [==============================] - 9s 24ms/step - loss: 0.8607 - accuracy: 0.6971 - val_loss: 1.3779 - val_accuracy: 0.5429\n",
            "Epoch 71/100\n",
            "391/391 [==============================] - 9s 24ms/step - loss: 0.8581 - accuracy: 0.7006 - val_loss: 1.3918 - val_accuracy: 0.5280\n",
            "Epoch 72/100\n",
            "391/391 [==============================] - 9s 24ms/step - loss: 0.8372 - accuracy: 0.7041 - val_loss: 1.3937 - val_accuracy: 0.5240\n",
            "Epoch 73/100\n",
            "391/391 [==============================] - 9s 24ms/step - loss: 0.8428 - accuracy: 0.7088 - val_loss: 1.5013 - val_accuracy: 0.5188\n",
            "Epoch 74/100\n",
            "391/391 [==============================] - 9s 24ms/step - loss: 0.8241 - accuracy: 0.7113 - val_loss: 1.5088 - val_accuracy: 0.5038\n",
            "Epoch 75/100\n",
            "391/391 [==============================] - 9s 24ms/step - loss: 0.8175 - accuracy: 0.7158 - val_loss: 1.4780 - val_accuracy: 0.5138\n",
            "Epoch 76/100\n",
            "391/391 [==============================] - 9s 24ms/step - loss: 0.8160 - accuracy: 0.7163 - val_loss: 1.4158 - val_accuracy: 0.5358\n",
            "Epoch 77/100\n",
            "391/391 [==============================] - 9s 24ms/step - loss: 0.7961 - accuracy: 0.7189 - val_loss: 1.4073 - val_accuracy: 0.5416\n",
            "Epoch 78/100\n",
            "391/391 [==============================] - 9s 24ms/step - loss: 0.7981 - accuracy: 0.7211 - val_loss: 1.9872 - val_accuracy: 0.4307\n",
            "Epoch 79/100\n",
            "391/391 [==============================] - 9s 24ms/step - loss: 0.7929 - accuracy: 0.7258 - val_loss: 1.6699 - val_accuracy: 0.4790\n",
            "Epoch 80/100\n",
            "391/391 [==============================] - 9s 23ms/step - loss: 0.7962 - accuracy: 0.7240 - val_loss: 1.5647 - val_accuracy: 0.5105\n",
            "Epoch 81/100\n",
            "391/391 [==============================] - 9s 24ms/step - loss: 0.7722 - accuracy: 0.7317 - val_loss: 1.7878 - val_accuracy: 0.4616\n",
            "Epoch 82/100\n",
            "391/391 [==============================] - 9s 24ms/step - loss: 0.7714 - accuracy: 0.7278 - val_loss: 1.4413 - val_accuracy: 0.5361\n",
            "Epoch 83/100\n",
            "391/391 [==============================] - 9s 24ms/step - loss: 0.7515 - accuracy: 0.7394 - val_loss: 1.5100 - val_accuracy: 0.5243\n",
            "Epoch 84/100\n",
            "391/391 [==============================] - 9s 24ms/step - loss: 0.7443 - accuracy: 0.7410 - val_loss: 1.4879 - val_accuracy: 0.5272\n",
            "Epoch 85/100\n",
            "391/391 [==============================] - 9s 24ms/step - loss: 0.7397 - accuracy: 0.7410 - val_loss: 1.4860 - val_accuracy: 0.5295\n",
            "Epoch 86/100\n",
            "391/391 [==============================] - 9s 24ms/step - loss: 0.7326 - accuracy: 0.7432 - val_loss: 1.6531 - val_accuracy: 0.5064\n",
            "Epoch 87/100\n",
            "391/391 [==============================] - 9s 24ms/step - loss: 0.7350 - accuracy: 0.7452 - val_loss: 1.5570 - val_accuracy: 0.5142\n",
            "Epoch 88/100\n",
            "391/391 [==============================] - 9s 24ms/step - loss: 0.7101 - accuracy: 0.7521 - val_loss: 1.4676 - val_accuracy: 0.5420\n",
            "Epoch 89/100\n",
            "391/391 [==============================] - 9s 24ms/step - loss: 0.7016 - accuracy: 0.7539 - val_loss: 1.6293 - val_accuracy: 0.5061\n",
            "Epoch 90/100\n",
            "391/391 [==============================] - 9s 24ms/step - loss: 0.6988 - accuracy: 0.7590 - val_loss: 1.6065 - val_accuracy: 0.5188\n",
            "Epoch 91/100\n",
            "391/391 [==============================] - 9s 24ms/step - loss: 0.6878 - accuracy: 0.7624 - val_loss: 1.5368 - val_accuracy: 0.5242\n",
            "Epoch 92/100\n",
            "391/391 [==============================] - 9s 24ms/step - loss: 0.6735 - accuracy: 0.7673 - val_loss: 1.5235 - val_accuracy: 0.5295\n",
            "Epoch 93/100\n",
            "391/391 [==============================] - 9s 24ms/step - loss: 0.6767 - accuracy: 0.7635 - val_loss: 1.4929 - val_accuracy: 0.5400\n",
            "Epoch 94/100\n",
            "391/391 [==============================] - 9s 24ms/step - loss: 0.6679 - accuracy: 0.7655 - val_loss: 1.5624 - val_accuracy: 0.5179\n",
            "Epoch 95/100\n",
            "391/391 [==============================] - 9s 24ms/step - loss: 0.6509 - accuracy: 0.7727 - val_loss: 1.5975 - val_accuracy: 0.5294\n",
            "Epoch 96/100\n",
            "391/391 [==============================] - 9s 24ms/step - loss: 0.6548 - accuracy: 0.7755 - val_loss: 1.5274 - val_accuracy: 0.5353\n",
            "Epoch 97/100\n",
            "391/391 [==============================] - 9s 24ms/step - loss: 0.6299 - accuracy: 0.7785 - val_loss: 1.5587 - val_accuracy: 0.5300\n",
            "Epoch 98/100\n",
            "391/391 [==============================] - 9s 24ms/step - loss: 0.6318 - accuracy: 0.7805 - val_loss: 1.5793 - val_accuracy: 0.5315\n",
            "Epoch 99/100\n",
            "391/391 [==============================] - 9s 24ms/step - loss: 0.6215 - accuracy: 0.7850 - val_loss: 1.5731 - val_accuracy: 0.5299\n",
            "Epoch 100/100\n",
            "391/391 [==============================] - 9s 24ms/step - loss: 0.6087 - accuracy: 0.7886 - val_loss: 1.9656 - val_accuracy: 0.4648\n"
          ],
          "name": "stdout"
        }
      ]
    },
    {
      "cell_type": "code",
      "metadata": {
        "id": "XTzeteAyyNGR"
      },
      "source": [
        "#Note: After we add more layers, the starting accuracy seeems to be worse, but at the end the accuracy are better \n",
        "# There are better way to solve the problem using Convolutional layer (Introduced in the next section)"
      ],
      "execution_count": null,
      "outputs": []
    }
  ]
}