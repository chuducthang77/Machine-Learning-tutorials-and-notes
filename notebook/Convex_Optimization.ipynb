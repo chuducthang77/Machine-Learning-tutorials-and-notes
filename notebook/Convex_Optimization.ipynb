{
  "cells": [
    {
      "cell_type": "markdown",
      "metadata": {
        "colab_type": "text",
        "id": "view-in-github"
      },
      "source": [
        "<a href=\"https://colab.research.google.com/github/thangchu77/ML-projects/blob/main/Convex_Optimization.ipynb\" target=\"_parent\"><img src=\"https://colab.research.google.com/assets/colab-badge.svg\" alt=\"Open In Colab\"/></a>"
      ]
    },
    {
      "cell_type": "markdown",
      "metadata": {
        "id": "oOX4JQ-kWtxF"
      },
      "source": [
        "# Notes:\n",
        "\n",
        "**Definition 1**: Convex set: the line connecting 2 random points in the set also belongs to the set\n",
        "\n",
        "**Definition 2**: Suppose $\\mathbb{C}$ is a convex set and 2 vector $x_1, x_2 \\in \\mathbb{C}$\n",
        "$$x_\\theta = \\theta x_1 + (1 - \\theta)x_2 \\in \\mathbb{C} 0 \\leq \\theta \\leq 1 $$\n",
        "\n",
        "**Hyperplane**: $a_1x_1 + a_2x_2 + ... + a_nx_n = a^Tx = b$\n",
        "\n",
        "**Halfspace**: $a_1x_1 + a_2x_2 + ... + a_nx_n = a^Tx \\leq b$\n",
        "\n",
        "**Euclidean ball**:\n",
        "- 0 < p < 1: nonconvex\n",
        "- otherwise: convex\n",
        "\n",
        "**Mahalanobis norm**: $||x||_A = \\sqrt{x^TA^{-1}x}$\n",
        "- Positive definite: A $\\succ$ 0\n",
        "- Positive semidefinite: A $\\succeq$ 0\n",
        "\n",
        "**Properties of convexity:**\n",
        "- Intersection of convex set is also a convex set\n",
        "\n",
        "**Convex combinations:**\n",
        "$$x = \\theta_1 x_1 + \\theta_2 x_2 + ...$$ with $\\theta_1 + \\theta_2 + ...  = 1$\n",
        "\n",
        "**Convex hulls:** To be added\n",
        "\n",
        "**Separating hyperplane theorem:** if $\\mathbb{C}, \\mathbb{D}$ are disjoint sets, there exists vectors a and b such that\n",
        "$$a^Tx \\leq b, \\forall x \\in \\mathbb{C}, and, a^T\\geq b, \\forall x \\in \\mathbb{D}$$\n",
        "\n",
        "**Convex function:** $f(\\theta x + (1 - \\theta)y) \\leq \\theta f(x) + (1 - \\theta)f(y)$\n",
        "**- Note:** strictly then eliminate the '=' sign\n",
        "\n",
        "**Example:** y = ax + b (Note that this is also concave), $y = e^{ax}$, $y = x^a$, $y = xlogx$\n",
        "\n",
        "**Properties:**\n",
        "- If f(x) is convex, then af(x) is convex and -af(x) is concave\n",
        "- Sum of convex function is convex function\n",
        "- Pointwise max and supremum: f(x) = $max(f_1(x), f_2(x), ..., f_m(x)$\n",
        "\n",
        "**Affine functions:** $f(X) = trace(A^TX) + b$\n",
        "\n",
        "**Quadratic forms:** f(x) = $x^TAx + b^Tx + c$\n",
        "\n",
        "**Contours - level sets:**\n",
        "\n",
        "**$\\alpha$ - sublevel sets** If f(x) is a convex function, then $\\alpha$ - sublevel sets is also a convex function, the reverse is not always True. Note: $-e^{x+y}$\n",
        "\n",
        "**Quasiconvex function:** convex function and $\\alpha$-sublevel set is also convex, then f(x) is a quasiconvex function\n",
        "\n",
        "**First derivative to check convex function** $f(x) \\geq f(x_0) + \\nabla f(x_o)^T(x - x_0)$\n",
        "\n",
        "**Second derivative to check convex function** $\\nabla^2 f(x) \\succeq 0$"
      ]
    },
    {
      "cell_type": "code",
      "execution_count": null,
      "metadata": {
        "id": "xTg4tb33WJ2I"
      },
      "outputs": [],
      "source": []
    }
  ],
  "metadata": {
    "colab": {
      "authorship_tag": "ABX9TyO2uPS3eM71RlnQGv2B+Tb7",
      "include_colab_link": true,
      "name": "Convex Optimization.ipynb",
      "provenance": []
    },
    "kernelspec": {
      "display_name": "Python 3",
      "name": "python3"
    },
    "language_info": {
      "name": "python"
    }
  },
  "nbformat": 4,
  "nbformat_minor": 0
}
