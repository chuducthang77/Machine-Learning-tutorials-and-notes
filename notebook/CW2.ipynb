{
  "nbformat": 4,
  "nbformat_minor": 0,
  "metadata": {
    "colab": {
      "name": "CW2.ipynb",
      "provenance": [],
      "mount_file_id": "1sVB4dF2q1lgRMtWhFkF-rj4ybSD81pck",
      "authorship_tag": "ABX9TyPIyf29w8HQ5O1EJ+G+Zqkt",
      "include_colab_link": true
    },
    "kernelspec": {
      "name": "python3",
      "display_name": "Python 3"
    },
    "language_info": {
      "name": "python"
    }
  },
  "cells": [
    {
      "cell_type": "markdown",
      "metadata": {
        "id": "view-in-github",
        "colab_type": "text"
      },
      "source": [
        "<a href=\"https://colab.research.google.com/github/chuducthang77/Deep-Learning-project/blob/main/CW2.ipynb\" target=\"_parent\"><img src=\"https://colab.research.google.com/assets/colab-badge.svg\" alt=\"Open In Colab\"/></a>"
      ]
    },
    {
      "cell_type": "code",
      "metadata": {
        "id": "tfUuH3v2xKP7"
      },
      "source": [
        "#Install the required package\n",
        "!pip install insightface\n",
        "!pip install onnx\n",
        "!pip install mxnet-cu101"
      ],
      "execution_count": null,
      "outputs": []
    },
    {
      "cell_type": "code",
      "metadata": {
        "id": "5AGq8VMxxcT9"
      },
      "source": [
        "#Import necessary package\n",
        "import insightface\n",
        "import urllib\n",
        "import urllib.request\n",
        "import cv2\n",
        "import numpy as np\n",
        "from google.colab.patches import cv2_imshow\n",
        "import os"
      ],
      "execution_count": 18,
      "outputs": []
    },
    {
      "cell_type": "code",
      "metadata": {
        "id": "nZfOCTlDxr1e"
      },
      "source": [
        "#Change image to array\n",
        "def image_to_array(image):\n",
        "  image_array = np.asarray(image, dtype=\"uint8\")\n",
        "  #image_array = cv2.imdecode(image_array, cv2.IMREAD_COLOR)\n",
        "  return image_array"
      ],
      "execution_count": 19,
      "outputs": []
    },
    {
      "cell_type": "code",
      "metadata": {
        "id": "sd9nztgPyhB9"
      },
      "source": [
        "#Read the image and store in the list\n",
        "def load_image(name):\n",
        "  path = '/content/drive/MyDrive/Machine Learning/Course work 2/img/' + name \n",
        "  img = cv2.imread(path)\n",
        "  #Process the image to the array-type\n",
        "  image = image_to_array(img)\n",
        "\n",
        "  #Resize the image\n",
        "  image = cv2.resize(image, (112,112))\n",
        "  \n",
        "  return image"
      ],
      "execution_count": 53,
      "outputs": []
    },
    {
      "cell_type": "code",
      "metadata": {
        "id": "AyQdLQW85ri-"
      },
      "source": [
        "#Load all the image \n",
        "directory = r'/content/drive/MyDrive/Machine Learning/Course work 2/img'\n",
        "filename = os.listdir(directory)\n",
        "images = []\n",
        "for name in filename:\n",
        "  images.append(load_image(name))"
      ],
      "execution_count": 54,
      "outputs": []
    },
    {
      "cell_type": "code",
      "metadata": {
        "id": "r0aUSCHC05IV"
      },
      "source": [
        "#Use the arcface model\n",
        "model = insightface.model_zoo.get_model('arcface_r100_v1')"
      ],
      "execution_count": 22,
      "outputs": []
    },
    {
      "cell_type": "code",
      "metadata": {
        "id": "-lPx17JI1UGP"
      },
      "source": [
        "#Prepare for the model to use CPU to recognize images (positive number for GPU)\n",
        "model.prepare(ctx_id=-1)"
      ],
      "execution_count": 23,
      "outputs": []
    },
    {
      "cell_type": "code",
      "metadata": {
        "id": "vM867uXK1gRS"
      },
      "source": [
        "#Create the embedding matrix\n",
        "emb_matrix = model.get_embedding(images[0])\n",
        "for i in range(1, len(images)):\n",
        "  emb = model.get_embedding(images[i])\n",
        "  emb_matrix = np.vstack((emb_matrix, emb))"
      ],
      "execution_count": 55,
      "outputs": []
    },
    {
      "cell_type": "code",
      "metadata": {
        "colab": {
          "base_uri": "https://localhost:8080/"
        },
        "id": "zrruNU_IEgQc",
        "outputId": "49214c50-3447-49fd-8171-2e9168fbc250"
      },
      "source": [
        "print(emb_matrix.shape)"
      ],
      "execution_count": 56,
      "outputs": [
        {
          "output_type": "stream",
          "text": [
            "(140, 512)\n"
          ],
          "name": "stdout"
        }
      ]
    },
    {
      "cell_type": "code",
      "metadata": {
        "id": "MuRmgcDD_GQw"
      },
      "source": [
        "#Calculate the cosine distance\n",
        "def cosine_distance(train, test):\n",
        "  numerator = np.sum(np.multiply(train, test))\n",
        "  denominator = np.sqrt(np.sum(np.square(train))) * np.sqrt(np.sum(np.square(test)))\n",
        "  return numerator/denominator"
      ],
      "execution_count": 67,
      "outputs": []
    },
    {
      "cell_type": "code",
      "metadata": {
        "id": "c3nQOQCBEQYy"
      },
      "source": [
        "#Predict what is the name of the person in the image\n",
        "def predict(cosine_distance):\n",
        "  \n",
        "  name_list = ['Đức', 'HĐức', 'Hiếu', 'Hùng', 'Kiên', 'Linh', 'Quân','Tân','Thắng','Trường','Tuấn','Vân','Việt Đức','Xuân Anh']\n",
        "  min_distance = min(cosine_distance)\n",
        "  threshold = 0.2\n",
        "\n",
        "  if min_distance <= threshold:\n",
        "    index = cosine_distance.index(min_distance)\n",
        "    index = int(index/10)\n",
        "    return name_list[index]\n",
        "  else:\n",
        "    return 'unknown'\n"
      ],
      "execution_count": 71,
      "outputs": []
    },
    {
      "cell_type": "code",
      "metadata": {
        "colab": {
          "base_uri": "https://localhost:8080/"
        },
        "id": "oRGYztb_GbWS",
        "outputId": "07aad2b4-37b3-4212-b773-59a21d6b8680"
      },
      "source": [
        "from scipy import spatial\n",
        "\n",
        "#Load the test image\n",
        "test = cv2.imread('/content/drive/MyDrive/Machine Learning/Course work 2/Đức1.jpg')\n",
        "\n",
        "#Resize the test image\n",
        "test = image_to_array(test)\n",
        "test = cv2.resize(test, (112,112))\n",
        "\n",
        "#Get the embedding for test image\n",
        "test_emb = model.get_embedding(test)\n",
        "\n",
        "distance = []\n",
        "for i in range(emb_matrix.shape[0]):\n",
        "  distance.append(cosine_distance(emb_matrix[i,:], test_emb))\n",
        "\n",
        "print(predict(distance))"
      ],
      "execution_count": 72,
      "outputs": [
        {
          "output_type": "stream",
          "text": [
            "Đức\n"
          ],
          "name": "stdout"
        }
      ]
    }
  ]
}