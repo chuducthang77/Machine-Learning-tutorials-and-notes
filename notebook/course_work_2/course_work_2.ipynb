{
 "metadata": {
  "language_info": {
   "codemirror_mode": {
    "name": "ipython",
    "version": 3
   },
   "file_extension": ".py",
   "mimetype": "text/x-python",
   "name": "python",
   "nbconvert_exporter": "python",
   "pygments_lexer": "ipython3",
   "version": "3.7.6"
  },
  "orig_nbformat": 2,
  "kernelspec": {
   "name": "python376jvsc74a57bd06970a83f6e91ab9e63ee06f25b68cef6eb66b933cf63e3efbf583df9fc1d315f",
   "display_name": "Python 3.7.6 64-bit ('base': conda)"
  }
 },
 "nbformat": 4,
 "nbformat_minor": 2,
 "cells": [
  {
   "cell_type": "code",
   "execution_count": 1,
   "metadata": {},
   "outputs": [
    {
     "output_type": "stream",
     "name": "stdout",
     "text": [
      "Collecting deepface\n",
      "  Downloading deepface-0.0.51-py3-none-any.whl (57 kB)\n",
      "\u001b[K     |████████████████████████████████| 57 kB 1.5 MB/s \n",
      "\u001b[?25hCollecting mtcnn>=0.1.0\n",
      "  Downloading mtcnn-0.1.0-py3-none-any.whl (2.3 MB)\n",
      "\u001b[K     |████████████████████████████████| 2.3 MB 724 kB/s \n",
      "\u001b[?25hRequirement already satisfied: keras>=2.2.0 in /Users/chuthang/opt/anaconda3/lib/python3.7/site-packages (from deepface) (2.4.3)\n",
      "Requirement already satisfied: tensorflow>=1.9.0 in /Users/chuthang/opt/anaconda3/lib/python3.7/site-packages (from deepface) (2.4.1)\n",
      "Collecting Flask>=1.1.2\n",
      "  Downloading Flask-1.1.2-py2.py3-none-any.whl (94 kB)\n",
      "\u001b[K     |████████████████████████████████| 94 kB 2.9 MB/s \n",
      "\u001b[?25hRequirement already satisfied: Pillow>=5.2.0 in /Users/chuthang/opt/anaconda3/lib/python3.7/site-packages (from deepface) (7.0.0)\n",
      "Requirement already satisfied: opencv-python>=3.4.4 in /Users/chuthang/opt/anaconda3/lib/python3.7/site-packages (from deepface) (4.3.0.36)\n",
      "Collecting retina-face>=0.0.1\n",
      "  Downloading retina_face-0.0.4-py3-none-any.whl (14 kB)\n",
      "Requirement already satisfied: numpy>=1.14.0 in /Users/chuthang/opt/anaconda3/lib/python3.7/site-packages (from deepface) (1.19.4)\n",
      "Requirement already satisfied: pandas>=0.23.4 in /Users/chuthang/opt/anaconda3/lib/python3.7/site-packages (from deepface) (1.0.1)\n",
      "Collecting gdown>=3.10.1\n",
      "  Downloading gdown-3.13.0.tar.gz (9.3 kB)\n",
      "  Installing build dependencies ... \u001b[?25ldone\n",
      "\u001b[?25h  Getting requirements to build wheel ... \u001b[?25ldone\n",
      "\u001b[?25h    Preparing wheel metadata ... \u001b[?25ldone\n",
      "\u001b[?25hRequirement already satisfied: tqdm>=4.30.0 in /Users/chuthang/opt/anaconda3/lib/python3.7/site-packages (from deepface) (4.42.1)\n",
      "Requirement already satisfied: itsdangerous>=0.24 in /Users/chuthang/opt/anaconda3/lib/python3.7/site-packages (from Flask>=1.1.2->deepface) (1.1.0)\n",
      "Requirement already satisfied: Jinja2>=2.10.1 in /Users/chuthang/opt/anaconda3/lib/python3.7/site-packages (from Flask>=1.1.2->deepface) (2.11.1)\n",
      "Requirement already satisfied: Werkzeug>=0.15 in /Users/chuthang/opt/anaconda3/lib/python3.7/site-packages (from Flask>=1.1.2->deepface) (1.0.0)\n",
      "Requirement already satisfied: click>=5.1 in /Users/chuthang/opt/anaconda3/lib/python3.7/site-packages (from Flask>=1.1.2->deepface) (7.1.2)\n",
      "Requirement already satisfied: filelock in /Users/chuthang/opt/anaconda3/lib/python3.7/site-packages (from gdown>=3.10.1->deepface) (3.0.12)\n",
      "Requirement already satisfied: six in /Users/chuthang/opt/anaconda3/lib/python3.7/site-packages (from gdown>=3.10.1->deepface) (1.15.0)\n",
      "Requirement already satisfied: requests[socks]>=2.12.0 in /Users/chuthang/opt/anaconda3/lib/python3.7/site-packages (from gdown>=3.10.1->deepface) (2.22.0)\n",
      "Requirement already satisfied: MarkupSafe>=0.23 in /Users/chuthang/opt/anaconda3/lib/python3.7/site-packages (from Jinja2>=2.10.1->Flask>=1.1.2->deepface) (1.1.1)\n",
      "Requirement already satisfied: scipy>=0.14 in /Users/chuthang/opt/anaconda3/lib/python3.7/site-packages (from keras>=2.2.0->deepface) (1.4.1)\n",
      "Requirement already satisfied: pyyaml in /Users/chuthang/opt/anaconda3/lib/python3.7/site-packages (from keras>=2.2.0->deepface) (5.3)\n",
      "Requirement already satisfied: h5py in /Users/chuthang/opt/anaconda3/lib/python3.7/site-packages (from keras>=2.2.0->deepface) (2.10.0)\n",
      "Requirement already satisfied: python-dateutil>=2.6.1 in /Users/chuthang/opt/anaconda3/lib/python3.7/site-packages (from pandas>=0.23.4->deepface) (2.8.1)\n",
      "Requirement already satisfied: pytz>=2017.2 in /Users/chuthang/opt/anaconda3/lib/python3.7/site-packages (from pandas>=0.23.4->deepface) (2019.3)\n",
      "Requirement already satisfied: idna<2.9,>=2.5 in /Users/chuthang/opt/anaconda3/lib/python3.7/site-packages (from requests[socks]>=2.12.0->gdown>=3.10.1->deepface) (2.8)\n",
      "Requirement already satisfied: urllib3!=1.25.0,!=1.25.1,<1.26,>=1.21.1 in /Users/chuthang/opt/anaconda3/lib/python3.7/site-packages (from requests[socks]>=2.12.0->gdown>=3.10.1->deepface) (1.25.8)\n",
      "Requirement already satisfied: certifi>=2017.4.17 in /Users/chuthang/opt/anaconda3/lib/python3.7/site-packages (from requests[socks]>=2.12.0->gdown>=3.10.1->deepface) (2019.11.28)\n",
      "Requirement already satisfied: chardet<3.1.0,>=3.0.2 in /Users/chuthang/opt/anaconda3/lib/python3.7/site-packages (from requests[socks]>=2.12.0->gdown>=3.10.1->deepface) (3.0.4)\n",
      "Requirement already satisfied: PySocks!=1.5.7,>=1.5.6 in /Users/chuthang/opt/anaconda3/lib/python3.7/site-packages (from requests[socks]>=2.12.0->gdown>=3.10.1->deepface) (1.7.1)\n",
      "Requirement already satisfied: termcolor~=1.1.0 in /Users/chuthang/opt/anaconda3/lib/python3.7/site-packages (from tensorflow>=1.9.0->deepface) (1.1.0)\n",
      "Requirement already satisfied: wheel~=0.35 in /Users/chuthang/opt/anaconda3/lib/python3.7/site-packages (from tensorflow>=1.9.0->deepface) (0.36.2)\n",
      "Requirement already satisfied: wrapt~=1.12.1 in /Users/chuthang/opt/anaconda3/lib/python3.7/site-packages (from tensorflow>=1.9.0->deepface) (1.12.1)\n",
      "Requirement already satisfied: grpcio~=1.32.0 in /Users/chuthang/opt/anaconda3/lib/python3.7/site-packages (from tensorflow>=1.9.0->deepface) (1.32.0)\n",
      "Requirement already satisfied: flatbuffers~=1.12.0 in /Users/chuthang/opt/anaconda3/lib/python3.7/site-packages (from tensorflow>=1.9.0->deepface) (1.12)\n",
      "Requirement already satisfied: absl-py~=0.10 in /Users/chuthang/opt/anaconda3/lib/python3.7/site-packages (from tensorflow>=1.9.0->deepface) (0.11.0)\n",
      "Requirement already satisfied: typing-extensions~=3.7.4 in /Users/chuthang/opt/anaconda3/lib/python3.7/site-packages (from tensorflow>=1.9.0->deepface) (3.7.4.3)\n",
      "Requirement already satisfied: gast==0.3.3 in /Users/chuthang/opt/anaconda3/lib/python3.7/site-packages (from tensorflow>=1.9.0->deepface) (0.3.3)\n",
      "Requirement already satisfied: keras-preprocessing~=1.1.2 in /Users/chuthang/opt/anaconda3/lib/python3.7/site-packages (from tensorflow>=1.9.0->deepface) (1.1.2)\n",
      "Requirement already satisfied: tensorflow-estimator<2.5.0,>=2.4.0 in /Users/chuthang/opt/anaconda3/lib/python3.7/site-packages (from tensorflow>=1.9.0->deepface) (2.4.0)\n",
      "Requirement already satisfied: astunparse~=1.6.3 in /Users/chuthang/opt/anaconda3/lib/python3.7/site-packages (from tensorflow>=1.9.0->deepface) (1.6.3)\n",
      "Requirement already satisfied: protobuf>=3.9.2 in /Users/chuthang/opt/anaconda3/lib/python3.7/site-packages (from tensorflow>=1.9.0->deepface) (3.14.0)\n",
      "Requirement already satisfied: opt-einsum~=3.3.0 in /Users/chuthang/opt/anaconda3/lib/python3.7/site-packages (from tensorflow>=1.9.0->deepface) (3.3.0)\n",
      "Requirement already satisfied: google-pasta~=0.2 in /Users/chuthang/opt/anaconda3/lib/python3.7/site-packages (from tensorflow>=1.9.0->deepface) (0.2.0)\n",
      "Requirement already satisfied: tensorboard~=2.4 in /Users/chuthang/opt/anaconda3/lib/python3.7/site-packages (from tensorflow>=1.9.0->deepface) (2.5.0)\n",
      "Requirement already satisfied: google-auth<2,>=1.6.3 in /Users/chuthang/opt/anaconda3/lib/python3.7/site-packages (from tensorboard~=2.4->tensorflow>=1.9.0->deepface) (1.24.0)\n",
      "Requirement already satisfied: markdown>=2.6.8 in /Users/chuthang/opt/anaconda3/lib/python3.7/site-packages (from tensorboard~=2.4->tensorflow>=1.9.0->deepface) (3.3.3)\n",
      "Requirement already satisfied: google-auth-oauthlib<0.5,>=0.4.1 in /Users/chuthang/opt/anaconda3/lib/python3.7/site-packages (from tensorboard~=2.4->tensorflow>=1.9.0->deepface) (0.4.2)\n",
      "Requirement already satisfied: tensorboard-plugin-wit>=1.6.0 in /Users/chuthang/opt/anaconda3/lib/python3.7/site-packages (from tensorboard~=2.4->tensorflow>=1.9.0->deepface) (1.7.0)\n",
      "Requirement already satisfied: setuptools>=41.0.0 in /Users/chuthang/opt/anaconda3/lib/python3.7/site-packages (from tensorboard~=2.4->tensorflow>=1.9.0->deepface) (46.0.0.post20200309)\n",
      "Requirement already satisfied: tensorboard-data-server<0.7.0,>=0.6.0 in /Users/chuthang/opt/anaconda3/lib/python3.7/site-packages (from tensorboard~=2.4->tensorflow>=1.9.0->deepface) (0.6.1)\n",
      "Requirement already satisfied: pyasn1-modules>=0.2.1 in /Users/chuthang/opt/anaconda3/lib/python3.7/site-packages (from google-auth<2,>=1.6.3->tensorboard~=2.4->tensorflow>=1.9.0->deepface) (0.2.8)\n",
      "Requirement already satisfied: cachetools<5.0,>=2.0.0 in /Users/chuthang/opt/anaconda3/lib/python3.7/site-packages (from google-auth<2,>=1.6.3->tensorboard~=2.4->tensorflow>=1.9.0->deepface) (4.2.0)\n",
      "Requirement already satisfied: rsa<5,>=3.1.4 in /Users/chuthang/opt/anaconda3/lib/python3.7/site-packages (from google-auth<2,>=1.6.3->tensorboard~=2.4->tensorflow>=1.9.0->deepface) (4.6)\n",
      "Requirement already satisfied: requests-oauthlib>=0.7.0 in /Users/chuthang/opt/anaconda3/lib/python3.7/site-packages (from google-auth-oauthlib<0.5,>=0.4.1->tensorboard~=2.4->tensorflow>=1.9.0->deepface) (1.3.0)\n",
      "Requirement already satisfied: importlib-metadata in /Users/chuthang/opt/anaconda3/lib/python3.7/site-packages (from markdown>=2.6.8->tensorboard~=2.4->tensorflow>=1.9.0->deepface) (1.5.0)\n",
      "Requirement already satisfied: pyasn1<0.5.0,>=0.4.6 in /Users/chuthang/opt/anaconda3/lib/python3.7/site-packages (from pyasn1-modules>=0.2.1->google-auth<2,>=1.6.3->tensorboard~=2.4->tensorflow>=1.9.0->deepface) (0.4.8)\n",
      "Requirement already satisfied: oauthlib>=3.0.0 in /Users/chuthang/opt/anaconda3/lib/python3.7/site-packages (from requests-oauthlib>=0.7.0->google-auth-oauthlib<0.5,>=0.4.1->tensorboard~=2.4->tensorflow>=1.9.0->deepface) (3.1.0)\n",
      "Requirement already satisfied: zipp>=0.5 in /Users/chuthang/opt/anaconda3/lib/python3.7/site-packages (from importlib-metadata->markdown>=2.6.8->tensorboard~=2.4->tensorflow>=1.9.0->deepface) (2.2.0)\n",
      "Building wheels for collected packages: gdown\n",
      "  Building wheel for gdown (PEP 517) ... \u001b[?25ldone\n",
      "\u001b[?25h  Created wheel for gdown: filename=gdown-3.13.0-py3-none-any.whl size=9034 sha256=b4a502fc64aaa0db730b2e7e11175bd76048e810c2b67bc82fdd393dc0187e57\n",
      "  Stored in directory: /Users/chuthang/Library/Caches/pip/wheels/2f/2a/2f/86449b6bdbaa9aef873f68332b68be6bfbc386b9219f47157d\n",
      "Successfully built gdown\n",
      "Installing collected packages: gdown, retina-face, mtcnn, Flask, deepface\n",
      "  Attempting uninstall: Flask\n",
      "    Found existing installation: Flask 1.1.1\n",
      "    Uninstalling Flask-1.1.1:\n",
      "      Successfully uninstalled Flask-1.1.1\n",
      "Successfully installed Flask-1.1.2 deepface-0.0.51 gdown-3.13.0 mtcnn-0.1.0 retina-face-0.0.4\n",
      "\u001b[33mWARNING: You are using pip version 21.0.1; however, version 21.1.1 is available.\n",
      "You should consider upgrading via the '/Users/chuthang/opt/anaconda3/bin/python -m pip install --upgrade pip' command.\u001b[0m\n"
     ]
    }
   ],
   "source": [
    "!pip install deepface"
   ]
  },
  {
   "cell_type": "code",
   "execution_count": 2,
   "metadata": {},
   "outputs": [
    {
     "output_type": "stream",
     "name": "stdout",
     "text": [
      "Directory  /Users/chuthang /.deepface created\n",
      "Directory  /Users/chuthang /.deepface/weights created\n",
      "vgg_face_weights.h5 will be downloaded...\n",
      "Downloading...\n",
      "From: https://drive.google.com/uc?id=1CPSeum3HpopfomUEK1gybeuIVoeJT_Eo\n",
      "To: /Users/chuthang/.deepface/weights/vgg_face_weights.h5\n",
      "580MB [01:08, 8.43MB/s]\n",
      "{'verified': True, 'distance': 0.16094925771885826, 'max_threshold_to_verify': 0.4, 'model': 'VGG-Face', 'similarity_metric': 'cosine'}\n"
     ]
    }
   ],
   "source": [
    "from deepface import DeepFace\n",
    "result = DeepFace.verify(\"img/Chris-Hemsworth-Vai-.png\", \"img/f112cf98-bdc4-11e7-a787-cac091044fd5.png\")\n",
    "print(result)\n"
   ]
  }
 ]
}