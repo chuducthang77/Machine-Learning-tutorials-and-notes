{
  "nbformat": 4,
  "nbformat_minor": 0,
  "metadata": {
    "colab": {
      "name": "HW5.ipynb",
      "provenance": [],
      "collapsed_sections": [],
      "mount_file_id": "1obX3y1huxrwYMGbYvPP6TgZfSgtELj74",
      "authorship_tag": "ABX9TyO/+zkWYenOp6UvklhFoK16",
      "include_colab_link": true
    },
    "kernelspec": {
      "name": "python3",
      "display_name": "Python 3"
    },
    "language_info": {
      "name": "python"
    },
    "accelerator": "GPU"
  },
  "cells": [
    {
      "cell_type": "markdown",
      "metadata": {
        "id": "view-in-github",
        "colab_type": "text"
      },
      "source": [
        "<a href=\"https://colab.research.google.com/github/thangchu77/Deep-Learning-project/blob/main/Convolution_network.ipynb\" target=\"_parent\"><img src=\"https://colab.research.google.com/assets/colab-badge.svg\" alt=\"Open In Colab\"/></a>"
      ]
    },
    {
      "cell_type": "markdown",
      "metadata": {
        "id": "a6iqgi0fCvum"
      },
      "source": [
        "# Problem set 1: Dataset has 10 points created from the function $\\textbf{y = x^2}$ + noise. Using sklearn.fit with function 9th degree. Provide another 100 points and use again the function 9th degree"
      ]
    },
    {
      "cell_type": "code",
      "metadata": {
        "id": "WeBY3nafGM31"
      },
      "source": [
        "from sklearn.preprocessing import PolynomialFeatures\n",
        "from sklearn.linear_model import LinearRegression\n",
        "import pandas as pd\n",
        "import numpy as np\n",
        "import matplotlib.pyplot as plt\n",
        "import operator"
      ],
      "execution_count": null,
      "outputs": []
    },
    {
      "cell_type": "code",
      "metadata": {
        "id": "XujW0y7wGnG9"
      },
      "source": [
        "#Create data\n",
        "np.random.seed(0)\n",
        "noise = 1e-6\n",
        "X = np.random.normal(0,1,10).reshape(-1,1)\n",
        "y = np.square(X) + noise"
      ],
      "execution_count": null,
      "outputs": []
    },
    {
      "cell_type": "code",
      "metadata": {
        "colab": {
          "base_uri": "https://localhost:8080/",
          "height": 265
        },
        "id": "a5sUt0ykHZhB",
        "outputId": "d193c826-9ffd-4ebb-b260-14e2072f391e"
      },
      "source": [
        "#Plot data\n",
        "plt.scatter(X, y)\n",
        "plt.show()"
      ],
      "execution_count": null,
      "outputs": [
        {
          "output_type": "display_data",
          "data": {
            "image/png": "[encoded data removed]",
            "text/plain": [
              "<Figure size 432x288 with 1 Axes>"
            ]
          },
          "metadata": {
            "tags": [],
            "needs_background": "light"
          }
        }
      ]
    },
    {
      "cell_type": "code",
      "metadata": {
        "id": "PtAXdbnuJFl4"
      },
      "source": [
        "#Create a transformed model\n",
        "model = PolynomialFeatures(degree=9)\n",
        "X_transform = model.fit_transform(X)\n",
        "linear = LinearRegression()\n",
        "linear.fit(X_transform, y)\n",
        "y_pred = linear.predict(X_transform)"
      ],
      "execution_count": null,
      "outputs": []
    },
    {
      "cell_type": "code",
      "metadata": {
        "colab": {
          "base_uri": "https://localhost:8080/",
          "height": 265
        },
        "id": "z12kUPzFKFaQ",
        "outputId": "d3cdb273-d788-43d7-b96d-6f87ec237393"
      },
      "source": [
        "#Plot on the graph\n",
        "plt.scatter(X, y, c='r')\n",
        "\n",
        "sort_axis = operator.itemgetter(0)\n",
        "sorted_zip = sorted(zip(X,y_pred), key=sort_axis)\n",
        "x_sort, y_sort = zip(*sorted_zip)\n",
        "\n",
        "plt.plot(x_sort, y_sort, c='b')\n",
        "plt.show()"
      ],
      "execution_count": null,
      "outputs": [
        {
          "output_type": "display_data",
          "data": {
            "image/png": "[encoded data removed]",
            "text/plain": [
              "<Figure size 432x288 with 1 Axes>"
            ]
          },
          "metadata": {
            "tags": [],
            "needs_background": "light"
          }
        }
      ]
    },
    {
      "cell_type": "code",
      "metadata": {
        "colab": {
          "base_uri": "https://localhost:8080/",
          "height": 282
        },
        "id": "2GIl1cXlUfJx",
        "outputId": "519099af-1e61-4920-ebfa-15320ef5ae43"
      },
      "source": [
        "#Add more data into the dataset\n",
        "Xnew = np.random.normal(0,1,100).reshape(-1,1)\n",
        "Xnew = np.append(X, Xnew).reshape(-1,1)\n",
        "Ynew = np.square(Xnew) + noise\n",
        "plt.scatter(Xnew, Ynew)"
      ],
      "execution_count": null,
      "outputs": [
        {
          "output_type": "execute_result",
          "data": {
            "text/plain": [
              "<matplotlib.collections.PathCollection at 0x7eff61bf5410>"
            ]
          },
          "metadata": {
            "tags": []
          },
          "execution_count": 6
        },
        {
          "output_type": "display_data",
          "data": {
            "image/png": "[encoded data removed]",
            "text/plain": [
              "<Figure size 432x288 with 1 Axes>"
            ]
          },
          "metadata": {
            "tags": [],
            "needs_background": "light"
          }
        }
      ]
    },
    {
      "cell_type": "code",
      "metadata": {
        "id": "P3aYZyMHM7HY"
      },
      "source": [
        "#Fit and predict based on the new data\n",
        "Xnew_transform = model.fit_transform(Xnew)\n",
        "linear.fit(Xnew_transform, Ynew)\n",
        "ynew_pred = linear.predict(Xnew_transform)"
      ],
      "execution_count": null,
      "outputs": []
    },
    {
      "cell_type": "code",
      "metadata": {
        "colab": {
          "base_uri": "https://localhost:8080/",
          "height": 265
        },
        "id": "JDgX_mTjN6Y9",
        "outputId": "78f3ef69-140b-4e55-e3c2-ad923df21fd7"
      },
      "source": [
        "#Plot on the graph based on new data\n",
        "plt.scatter(Xnew, Ynew, c='r')\n",
        "\n",
        "sort_axis = operator.itemgetter(0)\n",
        "sorted_zip = sorted(zip(Xnew,ynew_pred), key=sort_axis)\n",
        "xnew_sort, ynew_sort = zip(*sorted_zip)\n",
        "\n",
        "plt.plot(xnew_sort, ynew_sort, c='b')\n",
        "plt.show()"
      ],
      "execution_count": null,
      "outputs": [
        {
          "output_type": "display_data",
          "data": {
            "image/png": "[encoded data removed]",
            "text/plain": [
              "<Figure size 432x288 with 1 Axes>"
            ]
          },
          "metadata": {
            "tags": [],
            "needs_background": "light"
          }
        }
      ]
    },
    {
      "cell_type": "markdown",
      "metadata": {
        "id": "1bNAY7SaDrZH"
      },
      "source": [
        "# Problem set 2: Implement convolution function with input X, W, stride, padding, output Y. Implement Sobel function"
      ]
    },
    {
      "cell_type": "code",
      "metadata": {
        "id": "jVZqCjP0PsaN"
      },
      "source": [
        "def convolution(X, W, stride, padding):\n",
        "  #Create an array for output Y\n",
        "  dimension = (X.shape[0] - W.shape[0] + 2 * padding)/stride + 1\n",
        "  Y = np.zeros((int(dimension), int(dimension)))\n",
        "  print(Y)\n",
        "  \n",
        "  #Create padding if it is True\n",
        "  print(X)\n",
        "  if padding == 1:\n",
        "    X = np.pad(X, 1, mode='constant')\n",
        "  print(X)\n",
        "\n",
        "  #Calculate for each entry of the new Y\n",
        "  print(W)\n",
        "  for i in range(Y.shape[0]):\n",
        "    for j in range(Y.shape[0]):\n",
        "      start_row = i*stride\n",
        "      end_row = i*stride+W.shape[0]\n",
        "      start_column = j*stride\n",
        "      end_column = j*stride+W.shape[0]\n",
        "      Y[i,j] = np.sum(np.multiply(X[start_row: end_row, start_column: end_column], W))\n",
        "\n",
        "  return Y"
      ],
      "execution_count": null,
      "outputs": []
    },
    {
      "cell_type": "code",
      "metadata": {
        "colab": {
          "base_uri": "https://localhost:8080/"
        },
        "id": "kVxo_R1GTAjM",
        "outputId": "7942867b-6398-40a9-d548-11098f5eeec7"
      },
      "source": [
        "#Create 2D X and 1 layer W to do the convolution operation \n",
        "X = np.arange(25).reshape(5,5)\n",
        "np.random.shuffle(X)\n",
        "W = np.arange(9).reshape(3,3)\n",
        "np.random.shuffle(W)\n",
        "\n",
        "Y = convolution(X, W, 1, 1)\n",
        "print(Y)"
      ],
      "execution_count": null,
      "outputs": [
        {
          "output_type": "stream",
          "text": [
            "[[0. 0. 0. 0. 0.]\n",
            " [0. 0. 0. 0. 0.]\n",
            " [0. 0. 0. 0. 0.]\n",
            " [0. 0. 0. 0. 0.]\n",
            " [0. 0. 0. 0. 0.]]\n",
            "[[10 11 12 13 14]\n",
            " [15 16 17 18 19]\n",
            " [ 5  6  7  8  9]\n",
            " [ 0  1  2  3  4]\n",
            " [20 21 22 23 24]]\n",
            "[[ 0  0  0  0  0  0  0]\n",
            " [ 0 10 11 12 13 14  0]\n",
            " [ 0 15 16 17 18 19  0]\n",
            " [ 0  5  6  7  8  9  0]\n",
            " [ 0  0  1  2  3  4  0]\n",
            " [ 0 20 21 22 23 24  0]\n",
            " [ 0  0  0  0  0  0  0]]\n",
            "[[0 1 2]\n",
            " [3 4 5]\n",
            " [6 7 8]]\n",
            "[[328. 472. 505. 538. 336.]\n",
            " [255. 357. 393. 429. 255.]\n",
            " [105. 147. 183. 219. 125.]\n",
            " [330. 477. 513. 549. 340.]\n",
            " [187. 259. 274. 289. 169.]]\n"
          ],
          "name": "stdout"
        }
      ]
    },
    {
      "cell_type": "code",
      "metadata": {
        "id": "_r_4xQhiuA4t"
      },
      "source": [
        "#Implement Sobel function\n",
        "def sobel(X):\n",
        "  Gx = np.array([[-1,0,1],[-2,0,2],[-1,0,1]])\n",
        "  Gy = np.array([[-1,2,1],[0,0,0],[1,2,1]])\n",
        "  target = np.zeros((X.shape[0], X.shape[1]))\n",
        "\n",
        "  X = np.pad(X, 1, mode='constant')\n",
        "\n",
        "  for i in range(target.shape[0]):\n",
        "    for j in range(target.shape[1]):\n",
        "      start_row = i\n",
        "      end_row = i+Gx.shape[0]\n",
        "      start_column = j\n",
        "      end_column = j+Gx.shape[1]\n",
        "      \n",
        "      s1 = np.sum(np.multiply(X[start_row: end_row, start_column: end_column], Gx))\n",
        "      s2 = np.sum(np.multiply(X[start_row: end_row, start_column: end_column], Gy))\n",
        "\n",
        "      target[i, j] = np.sqrt(s1**2 + s2**2)\n",
        "  \n",
        "  threshold = 225\n",
        "  output = np.where(target > threshold, target, threshold)\n",
        "  output[output == threshold] = 0\n",
        "\n",
        "  return output\n"
      ],
      "execution_count": null,
      "outputs": []
    },
    {
      "cell_type": "code",
      "metadata": {
        "colab": {
          "base_uri": "https://localhost:8080/",
          "height": 286
        },
        "id": "xc927ZMy6OVb",
        "outputId": "2da5b80c-791b-4c51-a2b2-56e8b79ed0d4"
      },
      "source": [
        "import cv2\n",
        "\n",
        "img = cv2.cvtColor(cv2.imread('/content/drive/MyDrive/Machine Learning/sol_key.png'), cv2.COLOR_BGR2GRAY)\n",
        "#img = sobel(img)\n",
        "plt.imshow(img)"
      ],
      "execution_count": null,
      "outputs": [
        {
          "output_type": "execute_result",
          "data": {
            "text/plain": [
              "<matplotlib.image.AxesImage at 0x7eff54148a10>"
            ]
          },
          "metadata": {
            "tags": []
          },
          "execution_count": 24
        },
        {
          "output_type": "display_data",
          "data": {
            "image/png": "[encoded data removed]",
            "text/plain": [
              "<Figure size 432x288 with 1 Axes>"
            ]
          },
          "metadata": {
            "tags": [],
            "needs_background": "light"
          }
        }
      ]
    },
    {
      "cell_type": "markdown",
      "metadata": {
        "id": "W9F8v5hND_AY"
      },
      "source": [
        "# Problem set 3: Change the learning rate, optimizer, kernel size, number of kernels and compare the result."
      ]
    },
    {
      "cell_type": "code",
      "metadata": {
        "id": "58m8yimp8nDS"
      },
      "source": [
        "# 1. Import necessary library\n",
        "import numpy as np\n",
        "import matplotlib.pyplot as plt\n",
        "from keras.models import Sequential\n",
        "from keras.layers import Dense, Dropout, Activation, Flatten\n",
        "from keras.layers import Conv2D, MaxPooling2D\n",
        "from keras.utils import np_utils\n",
        "from keras.datasets import cifar10"
      ],
      "execution_count": null,
      "outputs": []
    },
    {
      "cell_type": "code",
      "metadata": {
        "colab": {
          "base_uri": "https://localhost:8080/"
        },
        "id": "fT6jZw5f8qL0",
        "outputId": "5a2ae668-53be-4e01-ba83-02d458560063"
      },
      "source": [
        "# 2. Load cifar10 data\n",
        "(X_train, y_train), (X_test, y_test) = cifar10.load_data()\n",
        "X_val, y_val = X_train[50000:60000,:], y_train[50000:60000]\n",
        "X_train, y_train = X_train[:50000,:], y_train[:50000]\n",
        "print(X_train.shape)\n",
        "print(X_val.shape)\n",
        "print(y_val)"
      ],
      "execution_count": null,
      "outputs": [
        {
          "output_type": "stream",
          "text": [
            "Downloading data from https://www.cs.toronto.edu/~kriz/cifar-10-python.tar.gz\n",
            "170500096/170498071 [==============================] - 2s 0us/step\n",
            "(50000, 32, 32, 3)\n",
            "(0, 32, 32, 3)\n",
            "[]\n"
          ],
          "name": "stdout"
        }
      ]
    },
    {
      "cell_type": "code",
      "metadata": {
        "colab": {
          "base_uri": "https://localhost:8080/"
        },
        "id": "Uwbf5Sqh8rRH",
        "outputId": "0cc0cba5-739e-4bbe-f513-cd70d290512d"
      },
      "source": [
        "# 3. Reshape the data\n",
        "X_train = X_train.reshape(X_train.shape[0], 32, 32, 3)\n",
        "X_val = X_val.reshape(X_val.shape[0], 32, 32, 3)\n",
        "X_test = X_test.reshape(X_test.shape[0], 32, 32, 3)\n",
        "\n",
        "X_train = X_train/255.\n",
        "X_test = X_test/255.\n",
        "X_val = X_val/255.\n",
        "print(X_train.shape)\n",
        "print(X_val.shape)"
      ],
      "execution_count": null,
      "outputs": [
        {
          "output_type": "stream",
          "text": [
            "(50000, 32, 32, 3)\n",
            "(0, 32, 32, 3)\n"
          ],
          "name": "stdout"
        }
      ]
    },
    {
      "cell_type": "code",
      "metadata": {
        "colab": {
          "base_uri": "https://localhost:8080/"
        },
        "id": "CPfuUNY98x8U",
        "outputId": "57dcd838-1ddf-4e4d-a601-6d63cba98508"
      },
      "source": [
        "# 4. One hot encoding label (Y)\n",
        "Y_train = np_utils.to_categorical(y_train, 10)\n",
        "Y_val = np_utils.to_categorical(y_val, 10)\n",
        "Y_test = np_utils.to_categorical(y_test, 10)\n",
        "print('Dữ liệu y ban đầu ', y_train[0])\n",
        "print('Dữ liệu y sau one-hot encoding ',Y_train[0])"
      ],
      "execution_count": null,
      "outputs": [
        {
          "output_type": "stream",
          "text": [
            "Dữ liệu y ban đầu  [6]\n",
            "Dữ liệu y sau one-hot encoding  [0. 0. 0. 0. 0. 0. 1. 0. 0. 0.]\n"
          ],
          "name": "stdout"
        }
      ]
    },
    {
      "cell_type": "code",
      "metadata": {
        "colab": {
          "base_uri": "https://localhost:8080/"
        },
        "id": "MxHIB82y80CN",
        "outputId": "cf539eea-6723-4a98-c87a-6afbd7dc9626"
      },
      "source": [
        "# BatchNormalization()\n",
        "# Init Weight ()\n",
        "\n",
        "# 5. Create model\n",
        "model = Sequential()\n",
        " \n",
        "# Include Convolutional layer with 64 kernels, kernel size is 3 by 3\n",
        "# use relu function as an activation function\n",
        "model.add(Conv2D(64, (3, 3), padding='same', activation='relu', input_shape=(32, 32, 3)))\n",
        "\n",
        "# Create max pooling layer\n",
        "model.add(MaxPooling2D())\n",
        "\n",
        "# Create another Convolution layer with 128 kernels, kernel size is 3 by 3\n",
        "# Use relu function as an activation function\n",
        "model.add(Conv2D(128, (3, 3), padding='same', activation='relu'))\n",
        "\n",
        "# Create max pooling layer\n",
        "model.add(MaxPooling2D())\n",
        "\n",
        "# Flatten layer from tensor to vector\n",
        "model.add(Flatten())\n",
        "\n",
        "# Use softmax function to output the probability for each class.\n",
        "model.add(Dense(10, activation='softmax'))\n",
        "\n",
        "model.summary()"
      ],
      "execution_count": null,
      "outputs": [
        {
          "output_type": "stream",
          "text": [
            "Model: \"sequential\"\n",
            "_________________________________________________________________\n",
            "Layer (type)                 Output Shape              Param #   \n",
            "=================================================================\n",
            "conv2d (Conv2D)              (None, 32, 32, 64)        1792      \n",
            "_________________________________________________________________\n",
            "max_pooling2d (MaxPooling2D) (None, 16, 16, 64)        0         \n",
            "_________________________________________________________________\n",
            "conv2d_1 (Conv2D)            (None, 16, 16, 128)       73856     \n",
            "_________________________________________________________________\n",
            "max_pooling2d_1 (MaxPooling2 (None, 8, 8, 128)         0         \n",
            "_________________________________________________________________\n",
            "flatten (Flatten)            (None, 8192)              0         \n",
            "_________________________________________________________________\n",
            "dense (Dense)                (None, 10)                81930     \n",
            "=================================================================\n",
            "Total params: 157,578\n",
            "Trainable params: 157,578\n",
            "Non-trainable params: 0\n",
            "_________________________________________________________________\n"
          ],
          "name": "stdout"
        }
      ]
    },
    {
      "cell_type": "code",
      "metadata": {
        "id": "GP0E45nA81cZ"
      },
      "source": [
        "# 6. Compile model and specify the loss function and optimizer algo.\n",
        "model.compile(loss='categorical_crossentropy',\n",
        "              optimizer='adam',\n",
        "              metrics=['accuracy'])"
      ],
      "execution_count": null,
      "outputs": []
    },
    {
      "cell_type": "code",
      "metadata": {
        "colab": {
          "base_uri": "https://localhost:8080/"
        },
        "id": "LAJkFh9582dw",
        "outputId": "b554a504-866a-4b46-d4a2-432e059041aa"
      },
      "source": [
        "# 7. Thực hiện train model với data\n",
        "H = model.fit(X_train, Y_train, validation_data=(X_val, Y_val),\n",
        "          batch_size=32, epochs=10, verbose=1)"
      ],
      "execution_count": null,
      "outputs": [
        {
          "output_type": "stream",
          "text": [
            "Epoch 1/10\n",
            "1563/1563 [==============================] - 7s 4ms/step - loss: 0.4647 - accuracy: 0.8373\n",
            "Epoch 2/10\n",
            "1563/1563 [==============================] - 7s 4ms/step - loss: 0.4346 - accuracy: 0.8471\n",
            "Epoch 3/10\n",
            "1563/1563 [==============================] - 7s 4ms/step - loss: 0.4062 - accuracy: 0.8576\n",
            "Epoch 4/10\n",
            "1563/1563 [==============================] - 7s 4ms/step - loss: 0.3796 - accuracy: 0.8654\n",
            "Epoch 5/10\n",
            "1563/1563 [==============================] - 7s 4ms/step - loss: 0.3559 - accuracy: 0.8751\n",
            "Epoch 6/10\n",
            "1563/1563 [==============================] - 7s 5ms/step - loss: 0.3333 - accuracy: 0.8837\n",
            "Epoch 7/10\n",
            "1563/1563 [==============================] - 7s 4ms/step - loss: 0.3169 - accuracy: 0.8870\n",
            "Epoch 8/10\n",
            "1563/1563 [==============================] - 7s 4ms/step - loss: 0.2988 - accuracy: 0.8929\n",
            "Epoch 9/10\n",
            "1563/1563 [==============================] - 7s 4ms/step - loss: 0.2801 - accuracy: 0.9001\n",
            "Epoch 10/10\n",
            "1563/1563 [==============================] - 7s 4ms/step - loss: 0.2671 - accuracy: 0.9052\n"
          ],
          "name": "stdout"
        }
      ]
    },
    {
      "cell_type": "code",
      "metadata": {
        "colab": {
          "base_uri": "https://localhost:8080/"
        },
        "id": "cS32QLAXKXCs",
        "outputId": "40313011-2320-49df-81f6-1907e53a0d2b"
      },
      "source": [
        "# 8.Create another model with an increase in number of kernel and plot to observe the result\n",
        "# BatchNormalization()\n",
        "# Init Weight ()\n",
        "\n",
        "model1 = Sequential()\n",
        " \n",
        "# Include Convolutional layer with 64 kernels, kernel size is 3 by 3\n",
        "# use relu function as an activation function\n",
        "model1.add(Conv2D(128, (3, 3), padding='same', activation='relu', input_shape=(32, 32, 3)))\n",
        "\n",
        "# Create max pooling layer\n",
        "model1.add(MaxPooling2D())\n",
        "\n",
        "# Create another Convolution layer with 128 kernels, kernel size is 3 by 3\n",
        "# Use relu function as an activation function\n",
        "model1.add(Conv2D(256, (3, 3), padding='same', activation='relu'))\n",
        "\n",
        "# Create max pooling layer\n",
        "model1.add(MaxPooling2D())\n",
        "\n",
        "# Flatten layer from tensor to vector\n",
        "model1.add(Flatten())\n",
        "\n",
        "# Use softmax function to output the probability for each class.\n",
        "model1.add(Dense(10, activation='softmax'))\n",
        "\n",
        "model1.summary()"
      ],
      "execution_count": null,
      "outputs": [
        {
          "output_type": "stream",
          "text": [
            "Model: \"sequential_1\"\n",
            "_________________________________________________________________\n",
            "Layer (type)                 Output Shape              Param #   \n",
            "=================================================================\n",
            "conv2d_2 (Conv2D)            (None, 32, 32, 128)       3584      \n",
            "_________________________________________________________________\n",
            "max_pooling2d_2 (MaxPooling2 (None, 16, 16, 128)       0         \n",
            "_________________________________________________________________\n",
            "conv2d_3 (Conv2D)            (None, 16, 16, 256)       295168    \n",
            "_________________________________________________________________\n",
            "max_pooling2d_3 (MaxPooling2 (None, 8, 8, 256)         0         \n",
            "_________________________________________________________________\n",
            "flatten_1 (Flatten)          (None, 16384)             0         \n",
            "_________________________________________________________________\n",
            "dense_1 (Dense)              (None, 10)                163850    \n",
            "=================================================================\n",
            "Total params: 462,602\n",
            "Trainable params: 462,602\n",
            "Non-trainable params: 0\n",
            "_________________________________________________________________\n"
          ],
          "name": "stdout"
        }
      ]
    },
    {
      "cell_type": "code",
      "metadata": {
        "id": "B9oU-wwnK72g"
      },
      "source": [
        "# 8. Compile model and specify the loss function and optimizer algo.\n",
        "model1.compile(loss='categorical_crossentropy',\n",
        "              optimizer='adam',\n",
        "              metrics=['accuracy'])"
      ],
      "execution_count": null,
      "outputs": []
    },
    {
      "cell_type": "code",
      "metadata": {
        "colab": {
          "base_uri": "https://localhost:8080/"
        },
        "id": "CrExNG0vO6F3",
        "outputId": "3bf854a1-8173-4584-e010-33b8253ff387"
      },
      "source": [
        "# 9. Train the data\n",
        "H1 = model1.fit(X_train, Y_train, validation_data=(X_val, Y_val),\n",
        "          batch_size=32, epochs=10, verbose=1)"
      ],
      "execution_count": null,
      "outputs": [
        {
          "output_type": "stream",
          "text": [
            "Epoch 1/10\n",
            "1563/1563 [==============================] - 12s 7ms/step - loss: 1.6054 - accuracy: 0.4210\n",
            "Epoch 2/10\n",
            "1563/1563 [==============================] - 11s 7ms/step - loss: 1.0083 - accuracy: 0.6487\n",
            "Epoch 3/10\n",
            "1563/1563 [==============================] - 11s 7ms/step - loss: 0.8492 - accuracy: 0.7057\n",
            "Epoch 4/10\n",
            "1563/1563 [==============================] - 11s 7ms/step - loss: 0.7563 - accuracy: 0.7381\n",
            "Epoch 5/10\n",
            "1563/1563 [==============================] - 11s 7ms/step - loss: 0.6608 - accuracy: 0.7723\n",
            "Epoch 6/10\n",
            "1563/1563 [==============================] - 11s 7ms/step - loss: 0.5995 - accuracy: 0.7942\n",
            "Epoch 7/10\n",
            "1563/1563 [==============================] - 11s 7ms/step - loss: 0.5486 - accuracy: 0.8130\n",
            "Epoch 8/10\n",
            "1563/1563 [==============================] - 11s 7ms/step - loss: 0.4948 - accuracy: 0.8279\n",
            "Epoch 9/10\n",
            "1563/1563 [==============================] - 11s 7ms/step - loss: 0.4537 - accuracy: 0.8429\n",
            "Epoch 10/10\n",
            "1563/1563 [==============================] - 11s 7ms/step - loss: 0.4120 - accuracy: 0.8572\n"
          ],
          "name": "stdout"
        }
      ]
    },
    {
      "cell_type": "code",
      "metadata": {
        "id": "H0femOb483g7"
      },
      "source": [
        "# 10. Vẽ đồ thị loss, accuracy của traning set và validation set\n",
        "fig = plt.figure()\n",
        "numOfEpoch = 10\n",
        "print(H.history.keys())\n",
        "plt.plot(np.arange(0, numOfEpoch), H.history['loss'], label='training loss')\n",
        "plt.plot(np.arange(0, numOfEpoch), H.history['val_loss'], label='validation loss')\n",
        "plt.plot(np.arange(0, numOfEpoch), H.history['acc'], label='accuracy')\n",
        "plt.plot(np.arange(0, numOfEpoch), H.history['val_accuracy'], label='validation accuracy')\n",
        "plt.title('Accuracy and Loss')\n",
        "plt.xlabel('Epoch')\n",
        "plt.ylabel('Loss|Accuracy')\n",
        "plt.legend()"
      ],
      "execution_count": null,
      "outputs": []
    },
    {
      "cell_type": "code",
      "metadata": {
        "id": "lDEIa6QtLoU1"
      },
      "source": [
        "# 11.Create another model with an increase in size of kernels and plot to observe the result\n",
        "# BatchNormalization()\n",
        "# Init Weight ()\n",
        "\n",
        "model1 = Sequential()\n",
        " \n",
        "# Include Convolutional layer with 64 kernels, kernel size is 3 by 3\n",
        "# use relu function as an activation function\n",
        "model1.add(Conv2D(64, (5, 5), padding='same', activation='relu', input_shape=(32, 32, 3)))\n",
        "\n",
        "# Create max pooling layer\n",
        "model1.add(MaxPooling2D())\n",
        "\n",
        "# Create another Convolution layer with 128 kernels, kernel size is 3 by 3\n",
        "# Use relu function as an activation function\n",
        "model1.add(Conv2D(128, (5, 5), padding='same', activation='relu'))\n",
        "\n",
        "# Create max pooling layer\n",
        "model1.add(MaxPooling2D())\n",
        "\n",
        "# Flatten layer from tensor to vector\n",
        "model1.add(Flatten())\n",
        "\n",
        "# Use softmax function to output the probability for each class.\n",
        "model1.add(Dense(10, activation='softmax'))\n",
        "\n",
        "model1.summary()"
      ],
      "execution_count": null,
      "outputs": []
    },
    {
      "cell_type": "code",
      "metadata": {
        "id": "V87PLQUULUST"
      },
      "source": [
        "# 12. Compile model and specify the loss function and optimizer algo.\n",
        "model1.compile(loss='categorical_crossentropy',\n",
        "              optimizer='adam',\n",
        "              metrics=['accuracy'])"
      ],
      "execution_count": null,
      "outputs": []
    },
    {
      "cell_type": "code",
      "metadata": {
        "id": "2CiK3GRDPlEu"
      },
      "source": [
        "# 13. Train the data\n",
        "H1 = model1.fit(X_train, Y_train, validation_data=(X_val, Y_val),\n",
        "          batch_size=32, epochs=10, verbose=1)"
      ],
      "execution_count": null,
      "outputs": []
    },
    {
      "cell_type": "code",
      "metadata": {
        "id": "8F9YpZFzL4pQ"
      },
      "source": [
        "# 9.Create another model with different optimizer and plot to observe the result\n",
        "# BatchNormalization()\n",
        "# Init Weight ()\n",
        "\n",
        "model1 = Sequential()\n",
        " \n",
        "# Include Convolutional layer with 64 kernels, kernel size is 3 by 3\n",
        "# use relu function as an activation function\n",
        "model1.add(Conv2D(64, (5, 5), padding='same', activation='relu', input_shape=(32, 32, 3)))\n",
        "\n",
        "# Create max pooling layer\n",
        "model1.add(MaxPooling2D())\n",
        "\n",
        "# Create another Convolution layer with 128 kernels, kernel size is 3 by 3\n",
        "# Use relu function as an activation function\n",
        "model1.add(Conv2D(128, (5, 5), padding='same', activation='relu'))\n",
        "\n",
        "# Create max pooling layer\n",
        "model1.add(MaxPooling2D())\n",
        "\n",
        "# Flatten layer from tensor to vector\n",
        "model1.add(Flatten())\n",
        "\n",
        "# Use softmax function to output the probability for each class.\n",
        "model1.add(Dense(10, activation='softmax'))\n",
        "\n",
        "model1.summary()"
      ],
      "execution_count": null,
      "outputs": []
    },
    {
      "cell_type": "code",
      "metadata": {
        "id": "wdJQQnB_L7fS"
      },
      "source": [
        "# 10. Compile model and specify the loss function and optimizer algo.\n",
        "model1.compile(loss='categorical_crossentropy',\n",
        "              optimizer='adagrad',\n",
        "              metrics=['accuracy'])"
      ],
      "execution_count": null,
      "outputs": []
    },
    {
      "cell_type": "code",
      "metadata": {
        "id": "iOBm4e2RMYZ0"
      },
      "source": [
        "# 10.Create another model with different learning rate and plot to observe the result\n",
        "# BatchNormalization()\n",
        "# Init Weight ()\n",
        "\n",
        "model1 = Sequential()\n",
        " \n",
        "# Include Convolutional layer with 64 kernels, kernel size is 3 by 3\n",
        "# use relu function as an activation function\n",
        "model1.add(Conv2D(64, (5, 5), padding='same', activation='relu', input_shape=(32, 32, 3)))\n",
        "\n",
        "# Create max pooling layer\n",
        "model1.add(MaxPooling2D())\n",
        "\n",
        "# Create another Convolution layer with 128 kernels, kernel size is 3 by 3\n",
        "# Use relu function as an activation function\n",
        "model1.add(Conv2D(128, (5, 5), padding='same', activation='relu'))\n",
        "\n",
        "# Create max pooling layer\n",
        "model1.add(MaxPooling2D())\n",
        "\n",
        "# Flatten layer from tensor to vector\n",
        "model1.add(Flatten())\n",
        "\n",
        "# Use softmax function to output the probability for each class.\n",
        "model1.add(Dense(10, activation='softmax'))\n",
        "\n",
        "model1.summary()"
      ],
      "execution_count": null,
      "outputs": []
    },
    {
      "cell_type": "code",
      "metadata": {
        "id": "rUrssC6-Ml4o"
      },
      "source": [
        "#Change the learning rate and compile a different model\n",
        "from keras import backend as K\n",
        "optimizer = keras.optimizier.Adam(lr=0.01)\n",
        "model1.compile(loss='categorical_crossentropy',\n",
        "              optimizer=optimizer,\n",
        "              metrics=['accuracy'])"
      ],
      "execution_count": null,
      "outputs": []
    },
    {
      "cell_type": "code",
      "metadata": {
        "id": "4YMtFMYu84zW"
      },
      "source": [
        "# 9. Evaluate the model\n",
        "score = model.evaluate(X_test, Y_test, verbose=0)\n",
        "print(score)"
      ],
      "execution_count": null,
      "outputs": []
    },
    {
      "cell_type": "code",
      "metadata": {
        "id": "ZWugHsfZ86C-"
      },
      "source": [
        "# 10. Predict the image\n",
        "plt.imshow(X_test[0].reshape(32,32), cmap='gray')\n",
        "\n",
        "y_predict = model.predict(X_test[0].reshape(1,32,32,1))\n",
        "print('Giá trị dự đoán: ', np.argmax(y_predict))"
      ],
      "execution_count": null,
      "outputs": []
    },
    {
      "cell_type": "markdown",
      "metadata": {
        "id": "tpbQEERDENvy"
      },
      "source": [
        "# Problem set 4: Build VGG16 for cifar10\n",
        "**Note**: Input shapes and number of classes in output"
      ]
    },
    {
      "cell_type": "code",
      "metadata": {
        "id": "xN3XL1EqZkps"
      },
      "source": [
        "# 1. Import necessary library\n",
        "import numpy as np\n",
        "import matplotlib.pyplot as plt\n",
        "from keras.models import Sequential\n",
        "from keras.layers import Dense, Dropout, Activation, Flatten\n",
        "from keras.layers import Conv2D, MaxPooling2D\n",
        "from keras.utils import np_utils\n",
        "from keras.datasets import cifar10\n",
        "from keras import backend as K"
      ],
      "execution_count": 1,
      "outputs": []
    },
    {
      "cell_type": "code",
      "metadata": {
        "id": "7aBoNl6Vc2g8"
      },
      "source": [
        "# 2. Load cifar10 data\n",
        "(X_train, y_train), (X_test, y_test) = cifar10.load_data()\n",
        "X_val, y_val = X_train[50000:60000,:], y_train[50000:60000]\n",
        "X_train, y_train = X_train[:50000,:], y_train[:50000]"
      ],
      "execution_count": 2,
      "outputs": []
    },
    {
      "cell_type": "code",
      "metadata": {
        "id": "fGX2qq-Ic6W-"
      },
      "source": [
        "# 3. Reshape the data\n",
        "X_train = X_train.reshape(X_train.shape[0], 32, 32, 3)\n",
        "X_val = X_val.reshape(X_val.shape[0], 32, 32, 3)\n",
        "X_test = X_test.reshape(X_test.shape[0], 32, 32, 3)\n"
      ],
      "execution_count": 3,
      "outputs": []
    },
    {
      "cell_type": "code",
      "metadata": {
        "id": "6ZnUSRESc_st"
      },
      "source": [
        "# 4. One hot encoding label (Y)\n",
        "Y_train = np_utils.to_categorical(y_train, 10)\n",
        "Y_val = np_utils.to_categorical(y_val, 10)\n",
        "Y_test = np_utils.to_categorical(y_test, 10)"
      ],
      "execution_count": 4,
      "outputs": []
    },
    {
      "cell_type": "code",
      "metadata": {
        "colab": {
          "base_uri": "https://localhost:8080/"
        },
        "id": "fbrx6IY4WE2s",
        "outputId": "2fe2f88d-8219-4ea4-c903-b77b30b9637e"
      },
      "source": [
        "#Build the model for VGG16\n",
        "\n",
        "model = Sequential()\n",
        "\n",
        "#Build the first composition: 224x224x64\n",
        "model.add(Conv2D(64, (3,3), padding='same',activation='relu',input_shape=(32,32,3)))\n",
        "model.add(Conv2D(64, (3,3), padding='same',activation='relu'))\n",
        "model.add(MaxPooling2D())\n",
        "\n",
        "#Build the second composition: 112x112x128\n",
        "model.add(Conv2D(128, (3,3), padding='same',activation='relu'))\n",
        "model.add(Conv2D(128, (3,3), padding='same',activation='relu'))\n",
        "model.add(MaxPooling2D())\n",
        "\n",
        "#Build the third composition: 56x56x256\n",
        "model.add(Conv2D(256, (3,3), padding='same',activation='relu'))\n",
        "model.add(Conv2D(256, (3,3), padding='same',activation='relu'))\n",
        "model.add(Conv2D(256, (3,3), padding='same',activation='relu'))\n",
        "model.add(MaxPooling2D())\n",
        "\n",
        "#Build the forth composition: 28x28x512\n",
        "model.add(Conv2D(512, (3,3), padding='same',activation='relu'))\n",
        "model.add(Conv2D(512, (3,3), padding='same',activation='relu'))\n",
        "model.add(Conv2D(512, (3,3), padding='same',activation='relu'))\n",
        "model.add(MaxPooling2D())\n",
        "\n",
        "#Build the fifth composition: 14x14x512\n",
        "model.add(Conv2D(512, (3,3), padding='same',activation='relu'))\n",
        "model.add(Conv2D(512, (3,3), padding='same',activation='relu'))\n",
        "model.add(Conv2D(512, (3,3), padding='same',activation='relu'))\n",
        "model.add(MaxPooling2D())\n",
        "\n",
        "#Build the fifth composition: Flatten\n",
        "model.add(Flatten())\n",
        "model.add(Dense(512, activation='relu'))\n",
        "model.add(Dropout(0.5))\n",
        "model.add(Dense(512, activation='relu'))\n",
        "model.add(Dropout(0.5))\n",
        "model.add(Dense(10, activation='softmax'))\n",
        "\n",
        "model.summary()\n"
      ],
      "execution_count": 5,
      "outputs": [
        {
          "output_type": "stream",
          "text": [
            "Model: \"sequential\"\n",
            "_________________________________________________________________\n",
            "Layer (type)                 Output Shape              Param #   \n",
            "=================================================================\n",
            "conv2d (Conv2D)              (None, 32, 32, 64)        1792      \n",
            "_________________________________________________________________\n",
            "conv2d_1 (Conv2D)            (None, 32, 32, 64)        36928     \n",
            "_________________________________________________________________\n",
            "max_pooling2d (MaxPooling2D) (None, 16, 16, 64)        0         \n",
            "_________________________________________________________________\n",
            "conv2d_2 (Conv2D)            (None, 16, 16, 128)       73856     \n",
            "_________________________________________________________________\n",
            "conv2d_3 (Conv2D)            (None, 16, 16, 128)       147584    \n",
            "_________________________________________________________________\n",
            "max_pooling2d_1 (MaxPooling2 (None, 8, 8, 128)         0         \n",
            "_________________________________________________________________\n",
            "conv2d_4 (Conv2D)            (None, 8, 8, 256)         295168    \n",
            "_________________________________________________________________\n",
            "conv2d_5 (Conv2D)            (None, 8, 8, 256)         590080    \n",
            "_________________________________________________________________\n",
            "conv2d_6 (Conv2D)            (None, 8, 8, 256)         590080    \n",
            "_________________________________________________________________\n",
            "max_pooling2d_2 (MaxPooling2 (None, 4, 4, 256)         0         \n",
            "_________________________________________________________________\n",
            "conv2d_7 (Conv2D)            (None, 4, 4, 512)         1180160   \n",
            "_________________________________________________________________\n",
            "conv2d_8 (Conv2D)            (None, 4, 4, 512)         2359808   \n",
            "_________________________________________________________________\n",
            "conv2d_9 (Conv2D)            (None, 4, 4, 512)         2359808   \n",
            "_________________________________________________________________\n",
            "max_pooling2d_3 (MaxPooling2 (None, 2, 2, 512)         0         \n",
            "_________________________________________________________________\n",
            "conv2d_10 (Conv2D)           (None, 2, 2, 512)         2359808   \n",
            "_________________________________________________________________\n",
            "conv2d_11 (Conv2D)           (None, 2, 2, 512)         2359808   \n",
            "_________________________________________________________________\n",
            "conv2d_12 (Conv2D)           (None, 2, 2, 512)         2359808   \n",
            "_________________________________________________________________\n",
            "max_pooling2d_4 (MaxPooling2 (None, 1, 1, 512)         0         \n",
            "_________________________________________________________________\n",
            "flatten (Flatten)            (None, 512)               0         \n",
            "_________________________________________________________________\n",
            "dense (Dense)                (None, 512)               262656    \n",
            "_________________________________________________________________\n",
            "dropout (Dropout)            (None, 512)               0         \n",
            "_________________________________________________________________\n",
            "dense_1 (Dense)              (None, 512)               262656    \n",
            "_________________________________________________________________\n",
            "dropout_1 (Dropout)          (None, 512)               0         \n",
            "_________________________________________________________________\n",
            "dense_2 (Dense)              (None, 10)                5130      \n",
            "=================================================================\n",
            "Total params: 15,245,130\n",
            "Trainable params: 15,245,130\n",
            "Non-trainable params: 0\n",
            "_________________________________________________________________\n"
          ],
          "name": "stdout"
        }
      ]
    },
    {
      "cell_type": "code",
      "metadata": {
        "id": "BQbdIIkxdE1j"
      },
      "source": [
        "# 6. Compile model and specify the loss function and optimizer algo.\n",
        "model.compile(loss='categorical_crossentropy',\n",
        "              optimizer='adam',\n",
        "              metrics=['accuracy'])"
      ],
      "execution_count": 6,
      "outputs": []
    },
    {
      "cell_type": "code",
      "metadata": {
        "colab": {
          "base_uri": "https://localhost:8080/"
        },
        "id": "eIg4_F36cu21",
        "outputId": "f62220ac-653b-460c-9c94-f3d3021e33e3"
      },
      "source": [
        "# 7. Train model with data\n",
        "H = model.fit(X_train, Y_train, validation_data=(X_val, Y_val),\n",
        "          batch_size=32, epochs=1, verbose=1)"
      ],
      "execution_count": 8,
      "outputs": [
        {
          "output_type": "stream",
          "text": [
            "1563/1563 [==============================] - 42s 27ms/step - loss: 2.3028 - accuracy: 0.0974\n"
          ],
          "name": "stdout"
        }
      ]
    },
    {
      "cell_type": "code",
      "metadata": {
        "colab": {
          "base_uri": "https://localhost:8080/"
        },
        "id": "wftfVXnVdPLU",
        "outputId": "0bdc866a-e554-4ce9-86a7-7566fb20596d"
      },
      "source": [
        "# 9. Evaluate the model\n",
        "score = model.evaluate(X_test, Y_test, verbose=0)\n",
        "print(score)"
      ],
      "execution_count": 9,
      "outputs": [
        {
          "output_type": "stream",
          "text": [
            "[2.3026785850524902, 0.10000000149011612]\n"
          ],
          "name": "stdout"
        }
      ]
    },
    {
      "cell_type": "code",
      "metadata": {
        "id": "hvHLbwXOdQxX",
        "colab": {
          "base_uri": "https://localhost:8080/",
          "height": 283
        },
        "outputId": "62351f2f-9742-4d12-d9b6-cd7e1542436a"
      },
      "source": [
        "# 10. Predict the image\n",
        "plt.imshow(X_test[0].reshape(32,32,3), cmap='gray')\n",
        "\n",
        "y_predict = model.predict(X_test[0].reshape(1,32,32,3))\n",
        "print('Prediction: ', np.argmax(y_predict))"
      ],
      "execution_count": 11,
      "outputs": [
        {
          "output_type": "stream",
          "text": [
            "Prediction:  5\n"
          ],
          "name": "stdout"
        },
        {
          "output_type": "display_data",
          "data": {
            "image/png": "[encoded data removed]",
            "text/plain": [
              "<Figure size 432x288 with 1 Axes>"
            ]
          },
          "metadata": {
            "tags": [],
            "needs_background": "light"
          }
        }
      ]
    },
    {
      "cell_type": "markdown",
      "metadata": {
        "id": "priFfGv4Eb82"
      },
      "source": [
        "# Problem set 5: When we build the model, why the height and width reduce, but the depth increases"
      ]
    },
    {
      "cell_type": "markdown",
      "metadata": {
        "id": "BkQIj12iNttq"
      },
      "source": [
        "Since each filter only capture small feature of the image (edges, line,...), we want to combine those features to construct the original image. Therefore, we need more filter to have more combinations."
      ]
    }
  ]
}