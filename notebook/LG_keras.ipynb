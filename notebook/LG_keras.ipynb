{
  "nbformat": 4,
  "nbformat_minor": 0,
  "metadata": {
    "colab": {
      "name": "Logistic Regression.ipynb",
      "provenance": [],
      "collapsed_sections": [],
      "toc_visible": true,
      "mount_file_id": "1_eyK-a27mqciagq4lwSXHwu4dX33e2z8",
      "authorship_tag": "ABX9TyPrDScQfYhCiJXpruUieSwO",
      "include_colab_link": true
    },
    "kernelspec": {
      "name": "python3",
      "display_name": "Python 3"
    },
    "language_info": {
      "name": "python"
    }
  },
  "cells": [
    {
      "cell_type": "markdown",
      "metadata": {
        "id": "view-in-github",
        "colab_type": "text"
      },
      "source": [
        "<a href=\"https://colab.research.google.com/github/thangchu77/DeepLearning/blob/main/Logistic_Regression.ipynb\" target=\"_parent\"><img src=\"https://colab.research.google.com/assets/colab-badge.svg\" alt=\"Open In Colab\"/></a>"
      ]
    },
    {
      "cell_type": "markdown",
      "metadata": {
        "id": "SitOfTS3Xot6"
      },
      "source": [
        "**Question 1:\n",
        "Rewrite and calculate the loss function for each weight\n",
        "$\\sigma$(z)**"
      ]
    },
    {
      "cell_type": "markdown",
      "metadata": {
        "id": "qCfLTlUgAz_q"
      },
      "source": [
        "**Solution:**  \n",
        "$\\sigma$(z) = $\\frac{1}{1 + e^{-z}}$  \n",
        "$\\sigma(z)'$ = $\\sigma(z)(1 - \\sigma(z)$  \n",
        "The binary cross entry function is  \n",
        "L = -(ylog$\\hat{y}$ + (1 - y)log$(1 - \\hat{y})$ with $\\hat{y}$ = $\\sigma(z)$, z = $w_0 + w_1 x_1 + w_2 x_2$  \n",
        "$\\frac{dL}{dw_0}$ = $\\hat{y}$ - y   \n",
        "$\\frac{dL}{dw_1}$ = $(\\hat{y}$ - y)$x_1$    \n",
        "$\\frac{dL}{dw_2}$ = $(\\hat{y}$ - y)$x_2$  \n",
        "Notice that if we stack the above result into the vector $\\frac{dL}{dW}$, we will obtain the similiar result that we have for the Linear Regression which is  \n",
        "$\\frac{dL}{dW}$ = $X^T(\\hat{Y} - Y)$\n"
      ]
    },
    {
      "cell_type": "markdown",
      "metadata": {
        "id": "LsC041FDYAek"
      },
      "source": [
        "**Question 2:\n",
        "Prove that sigmoid function is created through differential equation of binary cross entropy function**"
      ]
    },
    {
      "cell_type": "markdown",
      "metadata": {
        "id": "qaFRG3L0HSgO"
      },
      "source": [
        "**Solution:**  \n",
        "Suppose we have an abitrary function f such that $f(w^Tx)$ outputs the probability. Since f outputs the probability, it has the range from 0 to 1. Since the problem only has 2 outcomes 0 or 1, we use the Bernoulli distribution to represent the problem  \n",
        "\n",
        "$p(y_i|w, x_i) = f(w^Tx_i)^{y_i}(1 - f(w^Tx_i)^{1 - y_i}$\n",
        "\n",
        "For the whole dataset, we will have\n",
        "\n",
        "$p(Y|w, X) = \\prod_{i=1}^nf(w^Tx_i)^{y_i}(1 - f(w^Tx_i)^{1 - y_i}$\n",
        "\n",
        "Since we want to output $p(y_i|w, x_i)$ as close to 1 as possible if $y_i$ is 1 in the dataset and vice versa, we want to apply the MLE problem by find the w such that  \n",
        "w = argmax $p(Y|w, X)$  \n",
        "Apply the negative log-likelihood for each point in the dataset we have  \n",
        "$-logp(Y|w, X) = -log\\prod_{i=1}^nf(w^Tx_i)^{y_i}(1 - f(w^Tx_i)^{1 - y_i} = \\sum_{i=1}^n -logf(w^Tx_i)^{y_i}(1 - f(w^Tx_i)^{1 - y_i}$  \n",
        "Consider the term  \n",
        "$-logf(w^Tx_i)^{y_i}(1 - f(w^Tx_i)^{1 - y_i} = -y_ilogf(w^Tx_i) - (1 - y_i)log(1 - f(w^Tx_i))$  \n",
        "Taking the derivative with respect to w of the above term we have  \n",
        "$(\\frac{-y_i}{f(w^Tx_i)} + \\frac{1 - y_i}{1 - f(w^Tx_i)})\\frac{df(w^Tx_i)}{dw}$ = $\\frac{f(w^Tx_i) - y_i}{f(w^Tx_i)(1 - f(w^Tx_i))}\\frac{df(w^Tx_i)}{dw}$\n",
        "\n",
        "Denote $w^Tx_i$ as  \n",
        "$\\frac{df(s)}{dw} = \\frac{df(s)}{ds}\\frac{s}{w} = \\frac{df(s)}{ds}x$  \n",
        "\n",
        "Since we want to simplify the denominator, we write as followed\n",
        "\n",
        "$f(s)(1 - f(s)) = \\frac{df(s)}{ds}$  \n",
        "$ds = (\\frac{1}{f(s)} + \\frac{1}{1 - f(s)})df(s)$  \n",
        "$s = lnf(s) - ln(1-f(s)) = \\frac{lnf(s)}{ln(1-f(s))}$  \n",
        "$e^s = \\frac{f(s)}{1 - f(s)}$  \n",
        "$f(s) = \\frac{1}{1 - e^{s}}$  \n",
        "$f(w^Tx) = \\frac{1}{1 - e^{w^Tx}}$\n",
        "\n"
      ]
    },
    {
      "cell_type": "markdown",
      "metadata": {
        "id": "999hadouY-YO"
      },
      "source": [
        "**Question 3: Adjust the learning rate, draw the loss function for the accepted/declined rent problems**"
      ]
    },
    {
      "cell_type": "code",
      "metadata": {
        "id": "snUmaA7-RUmO"
      },
      "source": [
        "import numpy as np\n",
        "import pandas as pd\n",
        "import matplotlib.pyplot as plt"
      ],
      "execution_count": null,
      "outputs": []
    },
    {
      "cell_type": "code",
      "metadata": {
        "id": "OPS9kaQGRefB"
      },
      "source": [
        "def sigmoid(x):\n",
        "    return 1 / (1 + np.exp(-x))"
      ],
      "execution_count": null,
      "outputs": []
    },
    {
      "cell_type": "code",
      "metadata": {
        "colab": {
          "base_uri": "https://localhost:8080/",
          "height": 296
        },
        "id": "lrRLARamRh0j",
        "outputId": "e97c7e5a-882e-4c92-bf0c-a214aa5d1feb"
      },
      "source": [
        "#Load the data\n",
        "data = pd.read_csv('/content/drive/MyDrive/Machine Learning/3. Logistic regression/dataset.csv').values\n",
        "N, d = data.shape\n",
        "x = data[:,:d-1].reshape(-1, d-1)\n",
        "y = data[:,d-1].reshape(-1,1)\n",
        "\n",
        "#Separate the data into rent_accept and rent_decline \n",
        "rent_accept = x[y[:,0]==1]\n",
        "rent_decline = x[y[:,0]==0]\n",
        "\n",
        "#Visualize 2 classes above\n",
        "plt.scatter(rent_accept[:,0], rent_accept[:,1], c = 'red', label='accept')\n",
        "plt.scatter(rent_decline[:,0], rent_decline[:,1], c = 'blue', label='decline')\n",
        "plt.legend(loc=1)\n",
        "plt.xlabel('salary')\n",
        "plt.ylabel('year of experience')\n"
      ],
      "execution_count": null,
      "outputs": [
        {
          "output_type": "execute_result",
          "data": {
            "text/plain": [
              "Text(0, 0.5, 'year of experience')"
            ]
          },
          "metadata": {
            "tags": []
          },
          "execution_count": 4
        },
        {
          "output_type": "display_data",
          "data": {
            "image/png": "[encoded data removed]",
            "text/plain": [
              "<Figure size 432x288 with 1 Axes>"
            ]
          },
          "metadata": {
            "tags": [],
            "needs_background": "light"
          }
        }
      ]
    },
    {
      "cell_type": "code",
      "metadata": {
        "id": "080nCPZtXgAV"
      },
      "source": [
        "#Initialize the weight and add a column of 1 into the xdata\n",
        "w = np.zeros((d, 1))\n",
        "x = np.hstack((np.ones((N,1)), x))"
      ],
      "execution_count": null,
      "outputs": []
    },
    {
      "cell_type": "code",
      "metadata": {
        "colab": {
          "base_uri": "https://localhost:8080/",
          "height": 282
        },
        "id": "ZdVza21KW5Rp",
        "outputId": "c2f57a20-b2c7-4720-f938-cbbb1c4b22d9"
      },
      "source": [
        "#Initialize the learning rate, epoch, and start to learn the best parameters\n",
        "learning_rate = [0.001, 0.01, 0.02]\n",
        "epochs = 1000\n",
        "for lr in learning_rate:\n",
        "  cost = np.zeros((epochs,1))\n",
        "  for i in range(epochs):\n",
        "    prediction = sigmoid(np.dot(x, w))\n",
        "    cost[i] = -np.sum(np.multiply(y, np.log(prediction)) + np.multiply(1 - y, np.log(1 - prediction)))\n",
        "    w = w - lr * np.dot(x.T, prediction - y)\n",
        "  plt.plot(cost, label = str(lr))\n",
        "plt.legend()"
      ],
      "execution_count": null,
      "outputs": [
        {
          "output_type": "execute_result",
          "data": {
            "text/plain": [
              "<matplotlib.legend.Legend at 0x7f0c03352b50>"
            ]
          },
          "metadata": {
            "tags": []
          },
          "execution_count": 6
        },
        {
          "output_type": "display_data",
          "data": {
            "image/png": "[encoded data removed]",
            "text/plain": [
              "<Figure size 432x288 with 1 Axes>"
            ]
          },
          "metadata": {
            "tags": [],
            "needs_background": "light"
          }
        }
      ]
    },
    {
      "cell_type": "code",
      "metadata": {
        "colab": {
          "base_uri": "https://localhost:8080/",
          "height": 296
        },
        "id": "Tmq74WaGZ5j0",
        "outputId": "68610bbc-2577-4960-80a3-844dea42c353"
      },
      "source": [
        "#Draw the separate line\n",
        "threshold = 0.5\n",
        "plt.scatter(rent_accept[:,0], rent_accept[:,1], c = 'red', label='accept')\n",
        "plt.scatter(rent_decline[:,0], rent_decline[:,1], c = 'blue', label='decline')\n",
        "plt.legend(loc=1)\n",
        "plt.xlabel('salary')\n",
        "plt.ylabel('year of experience')\n",
        "plt.plot((4, 10),(-(w[0]+4*w[1]+ np.log(1/threshold-1))/w[2], -(w[0] + 10*w[1]+ np.log(1/threshold-1))/w[2]), 'g')"
      ],
      "execution_count": null,
      "outputs": [
        {
          "output_type": "execute_result",
          "data": {
            "text/plain": [
              "[<matplotlib.lines.Line2D at 0x7f0c03385f50>]"
            ]
          },
          "metadata": {
            "tags": []
          },
          "execution_count": 7
        },
        {
          "output_type": "display_data",
          "data": {
            "image/png": "[encoded data removed]",
            "text/plain": [
              "<Figure size 432x288 with 1 Axes>"
            ]
          },
          "metadata": {
            "tags": [],
            "needs_background": "light"
          }
        }
      ]
    },
    {
      "cell_type": "markdown",
      "metadata": {
        "id": "w3TXFVEoYaZ9"
      },
      "source": [
        "**Question 4: XOR problem using logistic regression and explain why it does not work? Change the linear function into non-linear function such as x-a/x-b, scaled parabola,... to solve the problem**\n"
      ]
    },
    {
      "cell_type": "markdown",
      "metadata": {
        "id": "kFz3KflQG5nR"
      },
      "source": [
        "**Answer:**  \n",
        "No logisitic regression will be able to solve the XOR problem because it is linear function (a line) and the maximum accuracy for XOR problem using logistic regression will only be 75% \n"
      ]
    },
    {
      "cell_type": "code",
      "metadata": {
        "colab": {
          "base_uri": "https://localhost:8080/"
        },
        "id": "tvaFcStPG3V3",
        "outputId": "57437b49-d81a-4e15-a46f-077e34667882"
      },
      "source": [
        "x1=np.array([0,0,1,1]).reshape(-1,1)\n",
        "x2=np.array([0,1,1,0]).reshape(-1,1)\n",
        "a=x1^x2\n",
        "print(a)\n",
        "# x1_true=x1[np.where(a==1)]\n",
        "# x1_false=x1[np.where(a==0)]\n",
        "# x2_true=x2[np.where(a==1)]\n",
        "# x2_false=x2[np.where(a==0)]"
      ],
      "execution_count": null,
      "outputs": [
        {
          "output_type": "stream",
          "text": [
            "[[0]\n",
            " [1]\n",
            " [0]\n",
            " [1]]\n"
          ],
          "name": "stdout"
        }
      ]
    },
    {
      "cell_type": "code",
      "metadata": {
        "id": "ta1k2YGV1duR",
        "colab": {
          "base_uri": "https://localhost:8080/",
          "height": 232
        },
        "outputId": "c3af3fac-ace2-4b64-80e5-071a07c68bc5"
      },
      "source": [
        "plt.plot(x1_true,x2_true,'ro',markersize=8,label='True')\n",
        "plt.plot(x1_false,x2_false,'bs',markersize=8,label='False')\n",
        "plt.legend()\n",
        "plt.xlabel('x1')\n",
        "plt.ylabel('x2')"
      ],
      "execution_count": null,
      "outputs": [
        {
          "output_type": "error",
          "ename": "NameError",
          "evalue": "ignored",
          "traceback": [
            "\u001b[0;31m---------------------------------------------------------------------------\u001b[0m",
            "\u001b[0;31mNameError\u001b[0m                                 Traceback (most recent call last)",
            "\u001b[0;32m<ipython-input-5-d042a46da835>\u001b[0m in \u001b[0;36m<module>\u001b[0;34m()\u001b[0m\n\u001b[0;32m----> 1\u001b[0;31m \u001b[0mplt\u001b[0m\u001b[0;34m.\u001b[0m\u001b[0mplot\u001b[0m\u001b[0;34m(\u001b[0m\u001b[0mx1_true\u001b[0m\u001b[0;34m,\u001b[0m\u001b[0mx2_true\u001b[0m\u001b[0;34m,\u001b[0m\u001b[0;34m'ro'\u001b[0m\u001b[0;34m,\u001b[0m\u001b[0mmarkersize\u001b[0m\u001b[0;34m=\u001b[0m\u001b[0;36m8\u001b[0m\u001b[0;34m,\u001b[0m\u001b[0mlabel\u001b[0m\u001b[0;34m=\u001b[0m\u001b[0;34m'True'\u001b[0m\u001b[0;34m)\u001b[0m\u001b[0;34m\u001b[0m\u001b[0;34m\u001b[0m\u001b[0m\n\u001b[0m\u001b[1;32m      2\u001b[0m \u001b[0mplt\u001b[0m\u001b[0;34m.\u001b[0m\u001b[0mplot\u001b[0m\u001b[0;34m(\u001b[0m\u001b[0mx1_false\u001b[0m\u001b[0;34m,\u001b[0m\u001b[0mx2_false\u001b[0m\u001b[0;34m,\u001b[0m\u001b[0;34m'bs'\u001b[0m\u001b[0;34m,\u001b[0m\u001b[0mmarkersize\u001b[0m\u001b[0;34m=\u001b[0m\u001b[0;36m8\u001b[0m\u001b[0;34m,\u001b[0m\u001b[0mlabel\u001b[0m\u001b[0;34m=\u001b[0m\u001b[0;34m'False'\u001b[0m\u001b[0;34m)\u001b[0m\u001b[0;34m\u001b[0m\u001b[0;34m\u001b[0m\u001b[0m\n\u001b[1;32m      3\u001b[0m \u001b[0mplt\u001b[0m\u001b[0;34m.\u001b[0m\u001b[0mlegend\u001b[0m\u001b[0;34m(\u001b[0m\u001b[0;34m)\u001b[0m\u001b[0;34m\u001b[0m\u001b[0;34m\u001b[0m\u001b[0m\n\u001b[1;32m      4\u001b[0m \u001b[0mplt\u001b[0m\u001b[0;34m.\u001b[0m\u001b[0mxlabel\u001b[0m\u001b[0;34m(\u001b[0m\u001b[0;34m'x1'\u001b[0m\u001b[0;34m)\u001b[0m\u001b[0;34m\u001b[0m\u001b[0;34m\u001b[0m\u001b[0m\n\u001b[1;32m      5\u001b[0m \u001b[0mplt\u001b[0m\u001b[0;34m.\u001b[0m\u001b[0mylabel\u001b[0m\u001b[0;34m(\u001b[0m\u001b[0;34m'x2'\u001b[0m\u001b[0;34m)\u001b[0m\u001b[0;34m\u001b[0m\u001b[0;34m\u001b[0m\u001b[0m\n",
            "\u001b[0;31mNameError\u001b[0m: name 'x1_true' is not defined"
          ]
        }
      ]
    },
    {
      "cell_type": "code",
      "metadata": {
        "id": "yGfaVvWC2UuR"
      },
      "source": [
        ""
      ],
      "execution_count": null,
      "outputs": []
    },
    {
      "cell_type": "markdown",
      "metadata": {
        "id": "yIwNhzDZY7ca"
      },
      "source": [
        "**Question 5: Replicate the following tutorial** \n",
        "https://l.facebook.com/l.php?u=https%3A%2F%2Fwww.datacamp.com%2Fcommunity%2Ftutorials%2Funderstanding-logistic-regression-python%3Ffbclid%3DIwAR2PzyUqn9OmBgnO-t7IodPChBX-U6VKEk-M-743KODWQ4tlJ2ePTlG_8jo&h=AT2TESgGzqa2bI9soQreqMyYxQk8Rm8rW4JWO7i5aXRO3v2NETXbUUbaqeOEYB3wIXWyQPpnwrMJKN3LQEQBqBs4wWQ8RlYkdKRoPdl0_ZiDbFHj7wTSqNOqIc8XKKBjwTzDzeEa2Q&__tn__=-UK-R&c[0]=AT1jxDO5nhWAIOizzR6suOYj8dXhOZsvbx2jW5OoxU0miRJgvMNpLNgjmGtEsLoUjzf4M9BQzcA3_grSrxeGWeS2LbNyPZGxly2DhNteehc00cyi64NKfMfgRLEqOsuoi3Az0dkr-o7a5A0ZnVuxj_j-qpyhzbNiGAc1ptp-EXBejM29HieW_B2Srob0bWICnOT6nkIi75lRSI_l "
      ]
    },
    {
      "cell_type": "code",
      "metadata": {
        "id": "PVHmm0lhc8t3"
      },
      "source": [
        "from sklearn.model_selection import train_test_split\n",
        "from sklearn.linear_model import LogisticRegression\n",
        "from sklearn import metrics\n",
        "import seaborn as sns\n",
        "%matplotlib inline"
      ],
      "execution_count": null,
      "outputs": []
    },
    {
      "cell_type": "code",
      "metadata": {
        "id": "R_dawURicwv6"
      },
      "source": [
        "#Read the data\n",
        "col_names = ['pregnant', 'glucose', 'bp', 'skin', 'insulin', 'bmi', 'pedigree', 'age', 'label']\n",
        "pima = pd.read_csv('/content/drive/MyDrive/Machine Learning/3. Logistic regression/diabetes.csv', names=col_names, header=None)\n",
        "features = ['pregnant', 'insulin', 'bmi', 'age','glucose','bp','pedigree']\n",
        "X = pima[features]\n",
        "Y = pima.label\n",
        "\n",
        "#Split the train and test set\n",
        "X_train, X_test, Y_train, Y_test=train_test_split(X,Y,test_size=0.25,random_state=0)\n",
        "\n",
        "#Create a model and predict\n",
        "model = LogisticRegression()\n",
        "model.fit(X_train, Y_train)\n",
        "Y_predict = model.predict(X_test)\n",
        "\n",
        "#Evaluate the result\n",
        "confusion = metrics.confusion_matrix(Y_test, Y_predict)\n",
        "\n",
        "#Print the accuracy, precision, recall\n",
        "print(metrics.accuracy(Y_test, Y_predict))\n",
        "print(metrics.precision(Y_test, Y_predict))\n",
        "print(metrics.recall(Y_test, Y_predict))\n"
      ],
      "execution_count": null,
      "outputs": []
    },
    {
      "cell_type": "code",
      "metadata": {
        "id": "YY11tJfTe3nx"
      },
      "source": [
        "#Plot confusion matrix \n",
        "class_names=[0,1] # name  of classes\n",
        "fig, ax = plt.subplots()\n",
        "tick_marks = np.arange(len(class_names))\n",
        "plt.xticks(tick_marks, class_names)\n",
        "plt.yticks(tick_marks, class_names)\n",
        "# create heatmap\n",
        "sns.heatmap(pd.DataFrame(confusion), annot=True, cmap=\"YlGnBu\" ,fmt='g')\n",
        "ax.xaxis.set_label_position(\"top\")\n",
        "plt.tight_layout()\n",
        "plt.title('Confusion matrix', y=1.1)\n",
        "plt.ylabel('Actual label')\n",
        "plt.xlabel('Predicted label')"
      ],
      "execution_count": null,
      "outputs": []
    },
    {
      "cell_type": "markdown",
      "metadata": {
        "id": "v4TZX6D8Z9FC"
      },
      "source": [
        "**Question 6: Prove that cross entropy loss function is convex function, but mean square error is not a convex function**"
      ]
    }
  ]
}