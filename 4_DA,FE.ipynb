{
  "nbformat": 4,
  "nbformat_minor": 0,
  "metadata": {
    "colab": {
      "provenance": [],
      "gpuType": "T4",
      "mount_file_id": "1JuRIGR5UMGfBSxoVWfTeoMxcFB0bu6ps",
      "authorship_tag": "ABX9TyPxbolvM8FR6PkGcS/slKrV",
      "include_colab_link": true
    },
    "kernelspec": {
      "name": "python3",
      "display_name": "Python 3"
    },
    "language_info": {
      "name": "python"
    },
    "accelerator": "GPU"
  },
  "cells": [
    {
      "cell_type": "markdown",
      "metadata": {
        "id": "view-in-github",
        "colab_type": "text"
      },
      "source": [
        "<a href=\"https://colab.research.google.com/github/chuducthang77/Machine-Learning-tutorials-and-notes/blob/main/4_DA%2CFE.ipynb\" target=\"_parent\"><img src=\"https://colab.research.google.com/assets/colab-badge.svg\" alt=\"Open In Colab\"/></a>"
      ]
    },
    {
      "cell_type": "code",
      "source": [
        "from google.colab import drive\n",
        "drive.mount('/content/drive')"
      ],
      "metadata": {
        "id": "ZNtlHARPuE8K"
      },
      "execution_count": null,
      "outputs": []
    },
    {
      "cell_type": "code",
      "execution_count": null,
      "metadata": {
        "id": "gvfyiyxU_PsH"
      },
      "outputs": [],
      "source": [
        "import os\n",
        "import time\n",
        "import copy\n",
        "\n",
        "import numpy as np\n",
        "import torch\n",
        "import torch.nn as nn\n",
        "import torch.nn.functional as F\n",
        "import torch.optim as optim\n",
        "import torchvision\n",
        "from torchvision import datasets, models, transforms\n",
        "\n",
        "import matplotlib.pyplot as plt\n",
        "%matplotlib inline"
      ]
    },
    {
      "cell_type": "markdown",
      "source": [
        "# Part 1: Customize preprocessing"
      ],
      "metadata": {
        "id": "iB6x2VJluQDj"
      }
    },
    {
      "cell_type": "code",
      "source": [
        "# Define a custom normalize\n",
        "class Custom_normalize:\n",
        "  def __init__(self, mean, std):\n",
        "    self.std = std\n",
        "    self.mean = mean\n",
        "\n",
        "  def __call__(self, x):\n",
        "    return  (x - mean) * 2 / (std - mean) - 1\n",
        "\n",
        "mean = 0\n",
        "std = 1"
      ],
      "metadata": {
        "id": "HITlNipjA1zI"
      },
      "execution_count": null,
      "outputs": []
    },
    {
      "cell_type": "code",
      "source": [
        "# Define dataset\n",
        "dataset_name = 'FashionMNIST'\n",
        "batch_size = 256\n",
        "\n",
        "augmentations = [transforms.RandomVerticalFlip(), transforms.RandomHorizontalFlip()]\n",
        "train_transform = transforms.Compose([\n",
        "    transforms.ToTensor(),\n",
        "    Custom_normalize(mean, std)\n",
        "] + augmentations)\n",
        "\n",
        "test_transform = transforms.Compose([\n",
        "    transforms.ToTensor(),\n",
        "    Custom_normalize(mean, std)\n",
        "])\n",
        "\n",
        "\n",
        "train_dataset = datasets.FashionMNIST(root='./data', train=True, transform=train_transform, download=True)\n",
        "test_dataset = datasets.FashionMNIST(root='./data', train=False, transform=test_transform, download=True)\n",
        "\n",
        "# Reduce the training to show the purpose of finetuning\n",
        "maps = {i: [] for i in range(10)}\n",
        "for idx, (_, cls_idx) in enumerate(train_dataset):\n",
        "    if len(maps[cls_idx]) < 500:\n",
        "        maps[cls_idx].append(idx)\n",
        "\n",
        "indices = []\n",
        "for _, ind in maps.items():\n",
        "    indices += ind\n",
        "\n",
        "train_dataset = torch.utils.data.Subset(train_dataset, indices)\n",
        "\n",
        "# Create dataloader\n",
        "train_loader = torch.utils.data.DataLoader(train_dataset, batch_size=batch_size, shuffle=True)\n",
        "test_loader = torch.utils.data.DataLoader(test_dataset, batch_size=batch_size, shuffle=False)"
      ],
      "metadata": {
        "id": "QuE6OUwLBg_N",
        "colab": {
          "base_uri": "https://localhost:8080/"
        },
        "outputId": "13b3251e-e00c-4750-98cd-10cb41bed9c9"
      },
      "execution_count": null,
      "outputs": [
        {
          "output_type": "stream",
          "name": "stdout",
          "text": [
            "Downloading http://fashion-mnist.s3-website.eu-central-1.amazonaws.com/train-images-idx3-ubyte.gz\n",
            "Downloading http://fashion-mnist.s3-website.eu-central-1.amazonaws.com/train-images-idx3-ubyte.gz to ./data/FashionMNIST/raw/train-images-idx3-ubyte.gz\n"
          ]
        },
        {
          "output_type": "stream",
          "name": "stderr",
          "text": [
            "100%|██████████| 26421880/26421880 [00:00<00:00, 120742046.48it/s]\n"
          ]
        },
        {
          "output_type": "stream",
          "name": "stdout",
          "text": [
            "Extracting ./data/FashionMNIST/raw/train-images-idx3-ubyte.gz to ./data/FashionMNIST/raw\n",
            "\n",
            "Downloading http://fashion-mnist.s3-website.eu-central-1.amazonaws.com/train-labels-idx1-ubyte.gz\n",
            "Downloading http://fashion-mnist.s3-website.eu-central-1.amazonaws.com/train-labels-idx1-ubyte.gz to ./data/FashionMNIST/raw/train-labels-idx1-ubyte.gz\n"
          ]
        },
        {
          "output_type": "stream",
          "name": "stderr",
          "text": [
            "100%|██████████| 29515/29515 [00:00<00:00, 5826464.09it/s]"
          ]
        },
        {
          "output_type": "stream",
          "name": "stdout",
          "text": [
            "Extracting ./data/FashionMNIST/raw/train-labels-idx1-ubyte.gz to ./data/FashionMNIST/raw\n",
            "\n",
            "Downloading http://fashion-mnist.s3-website.eu-central-1.amazonaws.com/t10k-images-idx3-ubyte.gz\n",
            "Downloading http://fashion-mnist.s3-website.eu-central-1.amazonaws.com/t10k-images-idx3-ubyte.gz to ./data/FashionMNIST/raw/t10k-images-idx3-ubyte.gz\n"
          ]
        },
        {
          "output_type": "stream",
          "name": "stderr",
          "text": [
            "\n",
            "100%|██████████| 4422102/4422102 [00:00<00:00, 65057981.25it/s]\n"
          ]
        },
        {
          "output_type": "stream",
          "name": "stdout",
          "text": [
            "Extracting ./data/FashionMNIST/raw/t10k-images-idx3-ubyte.gz to ./data/FashionMNIST/raw\n",
            "\n",
            "Downloading http://fashion-mnist.s3-website.eu-central-1.amazonaws.com/t10k-labels-idx1-ubyte.gz\n",
            "Downloading http://fashion-mnist.s3-website.eu-central-1.amazonaws.com/t10k-labels-idx1-ubyte.gz to ./data/FashionMNIST/raw/t10k-labels-idx1-ubyte.gz\n"
          ]
        },
        {
          "output_type": "stream",
          "name": "stderr",
          "text": [
            "100%|██████████| 5148/5148 [00:00<00:00, 21463496.02it/s]\n"
          ]
        },
        {
          "output_type": "stream",
          "name": "stdout",
          "text": [
            "Extracting ./data/FashionMNIST/raw/t10k-labels-idx1-ubyte.gz to ./data/FashionMNIST/raw\n",
            "\n"
          ]
        }
      ]
    },
    {
      "cell_type": "markdown",
      "source": [
        "# Part 2: Finetuning"
      ],
      "metadata": {
        "id": "K1VKiHt7ySIe"
      }
    },
    {
      "cell_type": "code",
      "source": [
        "# Define model\n",
        "class MiniVGG(nn.Module):\n",
        "    def __init__(\n",
        "        self,\n",
        "        ):\n",
        "        super(MiniVGG, self).__init__()\n",
        "        self.features = nn.Sequential(\n",
        "            nn.Conv2d(1, 64, kernel_size=3, padding=1),\n",
        "            nn.ReLU(inplace=True),\n",
        "            nn.Conv2d(64, 64, kernel_size=3, padding=1),\n",
        "            nn.ReLU(inplace=True),\n",
        "            nn.MaxPool2d(kernel_size=2, stride=2),\n",
        "\n",
        "            nn.Conv2d(64, 128, kernel_size=3, padding=1),\n",
        "            nn.ReLU(inplace=True),\n",
        "            nn.Conv2d(128, 128, kernel_size=3, padding=1),\n",
        "            nn.ReLU(inplace=True),\n",
        "            nn.MaxPool2d(kernel_size=2, stride=2),\n",
        "\n",
        "            nn.Conv2d(128, 256, kernel_size=3, padding=1),\n",
        "            nn.ReLU(inplace=True),\n",
        "            nn.Conv2d(256, 256, kernel_size=3, padding=1),\n",
        "            nn.ReLU(inplace=True),\n",
        "            nn.MaxPool2d(kernel_size=2, stride=2),\n",
        "        )\n",
        "        self.classifier = nn.Linear(256 * 3 * 3, 10)\n",
        "        nn.init.normal_(self.classifier.weight, 0, 0.01)\n",
        "        nn.init.constant_(self.classifier.bias, 0)\n",
        "\n",
        "    def forward(\n",
        "        self,\n",
        "        x,\n",
        "        ):\n",
        "        x = self.features(x)\n",
        "        x = torch.flatten(x, 1)\n",
        "        x = self.classifier(x)\n",
        "        return x"
      ],
      "metadata": {
        "id": "rXozqUb4k0_h"
      },
      "execution_count": null,
      "outputs": []
    },
    {
      "cell_type": "code",
      "source": [
        "# Define training loop\n",
        "def train(\n",
        "    model,\n",
        "    criterion,\n",
        "    optimizer,\n",
        "    train_loader,\n",
        "    epoch,\n",
        "    device\n",
        "    ):\n",
        "\n",
        "    model.train()\n",
        "    running_corrects = 0\n",
        "    epoch_loss_train = 0.0\n",
        "\n",
        "    # Iterate over data.\n",
        "    for i, (inputs, labels) in enumerate(train_loader):\n",
        "        inputs = inputs.to(device)\n",
        "        labels = labels.to(device)\n",
        "\n",
        "        # Forward\n",
        "        optimizer.zero_grad()\n",
        "\n",
        "        outputs = model(inputs)\n",
        "        loss = criterion(outputs, labels)\n",
        "        loss.backward()\n",
        "        optimizer.step()\n",
        "\n",
        "        epoch_loss_train += loss.item() * inputs.size(0)\n",
        "\n",
        "    epoch_loss_train /= len(train_loader.dataset)\n",
        "\n",
        "    print(\"Epoch: {} Train loss: {:.4f}\".format(epoch + 1, epoch_loss_train))\n",
        "\n",
        "    return model\n"
      ],
      "metadata": {
        "id": "0P8-Y1yslYYq"
      },
      "execution_count": null,
      "outputs": []
    },
    {
      "cell_type": "code",
      "source": [
        "# Define testing loop\n",
        "def test(\n",
        "    model,\n",
        "    test_loader,\n",
        "    criterion,\n",
        "    device):\n",
        "\n",
        "    size = len(test_loader.dataset)\n",
        "    corrects = 0\n",
        "\n",
        "    model.eval()\n",
        "    with torch.no_grad():\n",
        "        for inputs, gts in test_loader:\n",
        "            if torch.cuda.is_available():\n",
        "                inputs = inputs.cuda()\n",
        "\n",
        "            # Forward only\n",
        "            outputs = model(inputs)\n",
        "            _, preds = torch.max(outputs, 1)\n",
        "            preds = preds.cpu()\n",
        "            corrects += torch.sum(preds == gts.data)\n",
        "\n",
        "            gts = gts.to(device)\n",
        "\n",
        "    acc = corrects / size\n",
        "    print(\"Test Acc: {:.4f}\".format(acc))\n",
        "\n",
        "    return acc"
      ],
      "metadata": {
        "id": "Z4oSR41Slet9"
      },
      "execution_count": null,
      "outputs": []
    },
    {
      "cell_type": "code",
      "source": [
        "# Define hyperparameter\n",
        "lr = 1e-3\n",
        "epochs = 3\n",
        "device = torch.device(\"cuda\" if torch.cuda.is_available() else \"cpu\")"
      ],
      "metadata": {
        "id": "1CNt5CPOlKiP"
      },
      "execution_count": null,
      "outputs": []
    },
    {
      "cell_type": "code",
      "source": [
        "# Train on Cifar-10 pretrained model\n",
        "model = MiniVGG()\n",
        "\n",
        "# Load Cifar-10 pretrained model\n",
        "model.load_state_dict(torch.load('/content/drive/MyDrive/NEU/cifar10_mini_vgg.pth'))\n",
        "nn.init.normal_(model.classifier.weight, 0, 0.01)\n",
        "nn.init.constant_(model.classifier.bias, 0)\n",
        "for param in model.features.parameters():\n",
        "  param.require_grad = False\n",
        "\n",
        "# Create optimizer and loss function\n",
        "criterion = nn.CrossEntropyLoss()\n",
        "optimizer = optim.Adam(model.parameters(), lr=lr)\n",
        "\n",
        "# Put the model to cuda if available\n",
        "model = model.to(device)\n",
        "\n",
        "best_model_wts = copy.deepcopy(model.state_dict())\n",
        "best_acc = 0.0\n",
        "for epoch in range(epochs):\n",
        "  # Train model\n",
        "  model = train(model, criterion, optimizer, train_loader, epoch, device)\n",
        "\n",
        "  # Test model\n",
        "  epoch_acc = test(model, test_loader, criterion, device)\n",
        "\n",
        "  if epoch_acc > best_acc:\n",
        "    best_acc = epoch_acc\n",
        "    best_model_wts = copy.deepcopy(model.state_dict())\n",
        "    # print(\"Test Acc: {:.4f}\".format(epoch_acc))\n",
        "\n",
        "print()\n",
        "print(\"Best Acc: {:.4f}\".format(best_acc))\n"
      ],
      "metadata": {
        "colab": {
          "base_uri": "https://localhost:8080/"
        },
        "id": "2O4ZVpIalhDu",
        "outputId": "3005c5ec-935e-47be-b31d-f65a0a5141bd"
      },
      "execution_count": null,
      "outputs": [
        {
          "output_type": "stream",
          "name": "stdout",
          "text": [
            "Epoch: 1 Train loss: 0.8528\n",
            "Test Acc: 0.8043\n",
            "Epoch: 2 Train loss: 0.4110\n",
            "Test Acc: 0.8570\n",
            "Epoch: 3 Train loss: 0.3276\n",
            "Test Acc: 0.8625\n",
            "\n",
            "Best Acc: 0.8625\n"
          ]
        }
      ]
    },
    {
      "cell_type": "code",
      "source": [
        "# Train on MNIST pretrained model\n",
        "model = MiniVGG()\n",
        "\n",
        "# Load MNIST pretrained model\n",
        "model.load_state_dict(torch.load('/content/drive/MyDrive/NEU/mnist_mini_vgg.pth'))\n",
        "nn.init.normal_(model.classifier.weight, 0, 0.01)\n",
        "nn.init.constant_(model.classifier.bias, 0)\n",
        "for param in model.features.parameters():\n",
        "  param.require_grad = False\n",
        "\n",
        "# Create optimizer and loss function\n",
        "criterion = nn.CrossEntropyLoss()\n",
        "optimizer = optim.Adam(model.parameters(), lr=lr)\n",
        "\n",
        "# Put the model to cuda if available\n",
        "model = model.to(device)\n",
        "\n",
        "best_model_wts = copy.deepcopy(model.state_dict())\n",
        "best_acc = 0.0\n",
        "for epoch in range(epochs):\n",
        "  # Train model\n",
        "  model = train(model, criterion, optimizer, train_loader, epoch, device)\n",
        "\n",
        "  # Test model\n",
        "  epoch_acc = test(model, test_loader, criterion, device)\n",
        "\n",
        "  if epoch_acc > best_acc:\n",
        "    best_acc = epoch_acc\n",
        "    best_model_wts = copy.deepcopy(model.state_dict())\n",
        "\n",
        "print()\n",
        "print(\"Best Acc: {:.4f}\".format(best_acc))"
      ],
      "metadata": {
        "colab": {
          "base_uri": "https://localhost:8080/"
        },
        "id": "7nFbEgXLls8o",
        "outputId": "28d1ceeb-15e7-4efe-bfd3-36f8fd349448"
      },
      "execution_count": null,
      "outputs": [
        {
          "output_type": "stream",
          "name": "stdout",
          "text": [
            "Epoch: 1 Train loss: 1.0630\n",
            "Test Acc: 0.7627\n",
            "Epoch: 2 Train loss: 0.5516\n",
            "Test Acc: 0.7994\n",
            "Epoch: 3 Train loss: 0.4431\n",
            "Test Acc: 0.8248\n",
            "\n",
            "Best Acc: 0.8248\n"
          ]
        }
      ]
    },
    {
      "cell_type": "code",
      "source": [
        "# Train from scratch\n",
        "model = MiniVGG()\n",
        "# Create optimizer and loss function\n",
        "criterion = nn.CrossEntropyLoss()\n",
        "optimizer = optim.Adam(model.parameters(), lr=lr)\n",
        "\n",
        "# Put the model to cuda if available\n",
        "model = model.to(device)\n",
        "\n",
        "best_model_wts = copy.deepcopy(model.state_dict())\n",
        "best_acc = 0.0\n",
        "for epoch in range(epochs):\n",
        "  # Train model\n",
        "  model = train(model, criterion, optimizer, train_loader, epoch, device)\n",
        "\n",
        "  # Test model\n",
        "  epoch_acc = test(model, test_loader, criterion, device)\n",
        "\n",
        "  if epoch_acc > best_acc:\n",
        "    best_acc = epoch_acc\n",
        "    best_model_wts = copy.deepcopy(model.state_dict())\n",
        "\n",
        "print()\n",
        "print(\"Best Acc: {:.4f}\".format(best_acc))\n"
      ],
      "metadata": {
        "colab": {
          "base_uri": "https://localhost:8080/"
        },
        "id": "7fktFeqHlvVO",
        "outputId": "5f7a9469-1d56-4625-aa76-c398fe906d7a"
      },
      "execution_count": null,
      "outputs": [
        {
          "output_type": "stream",
          "name": "stdout",
          "text": [
            "Epoch: 1 Train loss: 2.1637\n",
            "Test Acc: 0.4361\n",
            "Epoch: 2 Train loss: 1.2925\n",
            "Test Acc: 0.5912\n",
            "Epoch: 3 Train loss: 0.9992\n",
            "Test Acc: 0.6229\n",
            "\n",
            "Best Acc: 0.6229\n"
          ]
        }
      ]
    },
    {
      "cell_type": "markdown",
      "source": [
        "# Part 3: Feature extractor"
      ],
      "metadata": {
        "id": "w94JYPob7GiC"
      }
    },
    {
      "cell_type": "code",
      "source": [
        "from torchvision.models.feature_extraction import get_graph_node_names\n",
        "from torchvision.models.feature_extraction import create_feature_extractor\n",
        "import matplotlib.pyplot as plt"
      ],
      "metadata": {
        "id": "oRjqfglHzB1d"
      },
      "execution_count": null,
      "outputs": []
    },
    {
      "cell_type": "code",
      "source": [
        "# Show the architecture of the model\n",
        "print(model)"
      ],
      "metadata": {
        "colab": {
          "base_uri": "https://localhost:8080/"
        },
        "id": "pjhByJjzvhca",
        "outputId": "b2ee2152-9aec-4af5-98fd-5be9edb03756"
      },
      "execution_count": null,
      "outputs": [
        {
          "output_type": "stream",
          "name": "stdout",
          "text": [
            "MiniVGG(\n",
            "  (features): Sequential(\n",
            "    (0): Conv2d(1, 64, kernel_size=(3, 3), stride=(1, 1), padding=(1, 1))\n",
            "    (1): ReLU(inplace=True)\n",
            "    (2): Conv2d(64, 64, kernel_size=(3, 3), stride=(1, 1), padding=(1, 1))\n",
            "    (3): ReLU(inplace=True)\n",
            "    (4): MaxPool2d(kernel_size=2, stride=2, padding=0, dilation=1, ceil_mode=False)\n",
            "    (5): Conv2d(64, 128, kernel_size=(3, 3), stride=(1, 1), padding=(1, 1))\n",
            "    (6): ReLU(inplace=True)\n",
            "    (7): Conv2d(128, 128, kernel_size=(3, 3), stride=(1, 1), padding=(1, 1))\n",
            "    (8): ReLU(inplace=True)\n",
            "    (9): MaxPool2d(kernel_size=2, stride=2, padding=0, dilation=1, ceil_mode=False)\n",
            "    (10): Conv2d(128, 256, kernel_size=(3, 3), stride=(1, 1), padding=(1, 1))\n",
            "    (11): ReLU(inplace=True)\n",
            "    (12): Conv2d(256, 256, kernel_size=(3, 3), stride=(1, 1), padding=(1, 1))\n",
            "    (13): ReLU(inplace=True)\n",
            "    (14): MaxPool2d(kernel_size=2, stride=2, padding=0, dilation=1, ceil_mode=False)\n",
            "  )\n",
            "  (classifier): Linear(in_features=2304, out_features=10, bias=True)\n",
            ")\n"
          ]
        }
      ]
    },
    {
      "cell_type": "code",
      "source": [
        "# Get the name for the nodes of the model\n",
        "train_nodes, val_nodes = get_graph_node_names(model)\n",
        "print(train_nodes)"
      ],
      "metadata": {
        "colab": {
          "base_uri": "https://localhost:8080/"
        },
        "id": "Bl7zujem86eb",
        "outputId": "3b733df4-ef36-411e-b45e-29326a14314e"
      },
      "execution_count": null,
      "outputs": [
        {
          "output_type": "stream",
          "name": "stdout",
          "text": [
            "['x', 'features.0', 'features.1', 'features.2', 'features.3', 'features.4', 'features.5', 'features.6', 'features.7', 'features.8', 'features.9', 'features.10', 'features.11', 'features.12', 'features.13', 'features.14', 'flatten', 'classifier']\n"
          ]
        }
      ]
    },
    {
      "cell_type": "code",
      "source": [
        "# Create feature extractor\n",
        "# Add the layer we want to retrive the result\n",
        "return_nodes = {\n",
        "    'features.1': 'feature 1',\n",
        "    'features.2': 'feature 2',\n",
        "    'features.5': 'feature 5',\n",
        "    'features.14': 'feature 14'\n",
        "}\n",
        "\n",
        "feature_extractor = create_feature_extractor(model, return_nodes=return_nodes)\n"
      ],
      "metadata": {
        "colab": {
          "base_uri": "https://localhost:8080/"
        },
        "id": "Y9QgFw6o9QCj",
        "outputId": "aecf8a1f-07a4-404d-93b6-13e6a78f6b72"
      },
      "execution_count": null,
      "outputs": [
        {
          "output_type": "stream",
          "name": "stdout",
          "text": [
            "<class 'torch.fx.graph_module.GraphModule.__new__.<locals>.GraphModuleImpl'>\n"
          ]
        }
      ]
    },
    {
      "cell_type": "code",
      "source": [
        "# Take one batch and show the first image\n",
        "idx_img = 1\n",
        "train_imgs, train_labels = next(iter(train_loader))\n",
        "plt.imshow(train_imgs[idx_img].squeeze())\n",
        "print('Label: ', train_labels[idx_img])\n",
        "\n",
        "# Extract the values of the layer\n",
        "out = feature_extractor(train_imgs.to(device))\n",
        "\n",
        "# Either print the dimension or the actual value\n",
        "print('Size of layer 1: ', out['feature 1'].size())\n",
        "print('Size of layer 2: ', out['feature 2'].size())\n",
        "print('Size of layer 5: ', out['feature 5'].size())\n",
        "print('Size of layer 14: ', out['feature 14'].size())\n"
      ],
      "metadata": {
        "colab": {
          "base_uri": "https://localhost:8080/",
          "height": 519
        },
        "id": "g8mHoSl8-wpT",
        "outputId": "ac846037-a456-4d89-c00b-7167fc227218"
      },
      "execution_count": null,
      "outputs": [
        {
          "output_type": "stream",
          "name": "stdout",
          "text": [
            "Label:  tensor(1)\n",
            "Size of layer 1:  torch.Size([256, 64, 28, 28])\n",
            "Size of layer 2:  torch.Size([256, 64, 28, 28])\n",
            "Size of layer 5:  torch.Size([256, 128, 14, 14])\n",
            "Size of layer 14:  torch.Size([256, 256, 3, 3])\n"
          ]
        },
        {
          "output_type": "display_data",
          "data": {
            "text/plain": [
              "<Figure size 640x480 with 1 Axes>"
            ],
            "image/png": "[encoded data removed]"
          },
          "metadata": {}
        }
      ]
    },
    {
      "cell_type": "markdown",
      "source": [
        "Remark: Review the last question of homework 3 to see the reason why the feature looks like below"
      ],
      "metadata": {
        "id": "HBeonkjI8lgP"
      }
    },
    {
      "cell_type": "code",
      "source": [
        "# Visualize the first 5 channels of each hidden layer\n",
        "layers = ['feature 1', 'feature 2', 'feature 5', 'feature 14']\n",
        "\n",
        "fig, axarr = plt.subplots(4, 5)\n",
        "for i in range(len(layers)):\n",
        "  act = out[layers[i]][1]\n",
        "  for idx in range(5):\n",
        "    axarr[i, idx].imshow(act[idx].detach().cpu())\n"
      ],
      "metadata": {
        "colab": {
          "base_uri": "https://localhost:8080/",
          "height": 434
        },
        "id": "YHluPkqkHzgk",
        "outputId": "a552b869-cde5-4965-acdd-5b47e8322a13"
      },
      "execution_count": null,
      "outputs": [
        {
          "output_type": "display_data",
          "data": {
            "text/plain": [
              "<Figure size 640x480 with 20 Axes>"
            ],
            "image/png": "[encoded data removed]"
          },
          "metadata": {}
        }
      ]
    }
  ]
}